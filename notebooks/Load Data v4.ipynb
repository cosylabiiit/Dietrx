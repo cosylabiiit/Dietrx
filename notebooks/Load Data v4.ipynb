{
 "cells": [
  {
   "cell_type": "code",
   "execution_count": 1,
   "metadata": {},
   "outputs": [],
   "source": [
    "from pathlib import Path\n",
    "import pandas as pd\n",
    "from collections import defaultdict\n",
    "\n",
    "DATA = Path('../data/version-3/')"
   ]
  },
  {
   "cell_type": "code",
   "execution_count": 2,
   "metadata": {},
   "outputs": [],
   "source": [
    "def clean_colnames(df):\n",
    "    df.columns = [col.replace(' ', '-').lower() for col in df.columns]"
   ]
  },
  {
   "cell_type": "markdown",
   "metadata": {},
   "source": [
    "# A. Lexicons"
   ]
  },
  {
   "cell_type": "markdown",
   "metadata": {},
   "source": [
    "### Food Lexicon"
   ]
  },
  {
   "cell_type": "code",
   "execution_count": 3,
   "metadata": {},
   "outputs": [
    {
     "data": {
      "text/html": [
       "<div>\n",
       "<style scoped>\n",
       "    .dataframe tbody tr th:only-of-type {\n",
       "        vertical-align: middle;\n",
       "    }\n",
       "\n",
       "    .dataframe tbody tr th {\n",
       "        vertical-align: top;\n",
       "    }\n",
       "\n",
       "    .dataframe thead th {\n",
       "        text-align: right;\n",
       "    }\n",
       "</style>\n",
       "<table border=\"1\" class=\"dataframe\">\n",
       "  <thead>\n",
       "    <tr style=\"text-align: right;\">\n",
       "      <th></th>\n",
       "      <th>common-names</th>\n",
       "      <th>food-id</th>\n",
       "      <th>food-category</th>\n",
       "      <th>food-name</th>\n",
       "      <th>scientific-name</th>\n",
       "      <th>tax-id</th>\n",
       "    </tr>\n",
       "  </thead>\n",
       "  <tbody>\n",
       "    <tr>\n",
       "      <th>0</th>\n",
       "      <td>alexanders; horse parsley</td>\n",
       "      <td>Plant ID:40962</td>\n",
       "      <td>Miscellaneous</td>\n",
       "      <td>Alexanders</td>\n",
       "      <td>Smyrnium olusatrum</td>\n",
       "      <td>40962.0</td>\n",
       "    </tr>\n",
       "    <tr>\n",
       "      <th>1</th>\n",
       "      <td>NaN</td>\n",
       "      <td>Plant ID:942083</td>\n",
       "      <td>Miscellaneous</td>\n",
       "      <td>Scrophularia umbrosa</td>\n",
       "      <td>Scrophularia umbrosa</td>\n",
       "      <td>942083.0</td>\n",
       "    </tr>\n",
       "    <tr>\n",
       "      <th>2</th>\n",
       "      <td>dotted blazing star</td>\n",
       "      <td>Plant ID:344074</td>\n",
       "      <td>Miscellaneous</td>\n",
       "      <td>Dotted blazing star</td>\n",
       "      <td>Liatris punctata</td>\n",
       "      <td>344074.0</td>\n",
       "    </tr>\n",
       "    <tr>\n",
       "      <th>3</th>\n",
       "      <td>plymouth pear</td>\n",
       "      <td>Plant ID:761867</td>\n",
       "      <td>Miscellaneous</td>\n",
       "      <td>Plymouth pear</td>\n",
       "      <td>Pyrus cordata</td>\n",
       "      <td>761867.0</td>\n",
       "    </tr>\n",
       "    <tr>\n",
       "      <th>4</th>\n",
       "      <td>NaN</td>\n",
       "      <td>Plant ID:49166</td>\n",
       "      <td>Miscellaneous</td>\n",
       "      <td>Rhododendron kaempferi</td>\n",
       "      <td>Rhododendron kaempferi</td>\n",
       "      <td>49166.0</td>\n",
       "    </tr>\n",
       "  </tbody>\n",
       "</table>\n",
       "</div>"
      ],
      "text/plain": [
       "                common-names          food-id  food-category  \\\n",
       "0  alexanders; horse parsley   Plant ID:40962  Miscellaneous   \n",
       "1                        NaN  Plant ID:942083  Miscellaneous   \n",
       "2        dotted blazing star  Plant ID:344074  Miscellaneous   \n",
       "3              plymouth pear  Plant ID:761867  Miscellaneous   \n",
       "4                        NaN   Plant ID:49166  Miscellaneous   \n",
       "\n",
       "                food-name         scientific-name    tax-id  \n",
       "0              Alexanders      Smyrnium olusatrum   40962.0  \n",
       "1    Scrophularia umbrosa    Scrophularia umbrosa  942083.0  \n",
       "2     Dotted blazing star        Liatris punctata  344074.0  \n",
       "3           Plymouth pear           Pyrus cordata  761867.0  \n",
       "4  Rhododendron kaempferi  Rhododendron kaempferi   49166.0  "
      ]
     },
     "execution_count": 3,
     "metadata": {},
     "output_type": "execute_result"
    }
   ],
   "source": [
    "df = pd.read_csv(DATA/'food-lexicon-automated.tsv', sep='\\t', encoding='utf-8')\n",
    "clean_colnames(df)\n",
    "\n",
    "del df['foodb-group'], df['foodb-subgroup']\n",
    "df.head()"
   ]
  },
  {
   "cell_type": "code",
   "execution_count": 4,
   "metadata": {},
   "outputs": [
    {
     "data": {
      "text/plain": [
       "{'common_names': 'alexanders; horse parsley',\n",
       " 'food_id': 'Plant ID:40962',\n",
       " 'food_category': 'Miscellaneous',\n",
       " 'display_name': 'Alexanders',\n",
       " 'scientific_name': 'Smyrnium olusatrum',\n",
       " 'tax_id': 40962.0}"
      ]
     },
     "execution_count": 4,
     "metadata": {},
     "output_type": "execute_result"
    }
   ],
   "source": [
    "# Replace NaN with None\n",
    "df = df.where((pd.notnull(df)), None)\n",
    "\n",
    "# Rename columns to match db schema.\n",
    "df.rename(columns={\n",
    "    'common-names': 'common_names',\n",
    "    'food-name': 'display_name',\n",
    "    'food-id': 'food_id',\n",
    "    'food-category': 'food_category',\n",
    "    'scientific-name': 'scientific_name',\n",
    "    'tax-id':'tax_id',\n",
    "}, inplace=True)\n",
    "\n",
    "data_list= list(df.T.to_dict().values())\n",
    "data_list[0]"
   ]
  },
  {
   "cell_type": "markdown",
   "metadata": {},
   "source": [
    "### Disease Lexicon"
   ]
  },
  {
   "cell_type": "code",
   "execution_count": 5,
   "metadata": {},
   "outputs": [
    {
     "data": {
      "text/html": [
       "<div>\n",
       "<style scoped>\n",
       "    .dataframe tbody tr th:only-of-type {\n",
       "        vertical-align: middle;\n",
       "    }\n",
       "\n",
       "    .dataframe tbody tr th {\n",
       "        vertical-align: top;\n",
       "    }\n",
       "\n",
       "    .dataframe thead th {\n",
       "        text-align: right;\n",
       "    }\n",
       "</style>\n",
       "<table border=\"1\" class=\"dataframe\">\n",
       "  <thead>\n",
       "    <tr style=\"text-align: right;\">\n",
       "      <th></th>\n",
       "      <th>disease-id</th>\n",
       "      <th>disease-name</th>\n",
       "      <th>other-ids</th>\n",
       "      <th>parent-ids</th>\n",
       "      <th>disease-treenum</th>\n",
       "      <th>disease-synonyms</th>\n",
       "      <th>disease-category</th>\n",
       "    </tr>\n",
       "  </thead>\n",
       "  <tbody>\n",
       "    <tr>\n",
       "      <th>0</th>\n",
       "      <td>MESH:D008105</td>\n",
       "      <td>Liver Cirrhosis, Biliary</td>\n",
       "      <td>DO:DOID:12236|OMIM:109720|OMIM:614220|OMIM:614221</td>\n",
       "      <td>MESH:D002780|MESH:D008103</td>\n",
       "      <td>C06.130.120.135.250.250|C06.552.150.250|C06.55...</td>\n",
       "      <td>Biliary Cirrhosis|Biliary Cirrhosis, Primary|B...</td>\n",
       "      <td>Digestive system disease</td>\n",
       "    </tr>\n",
       "    <tr>\n",
       "      <th>1</th>\n",
       "      <td>MESH:D009369</td>\n",
       "      <td>Neoplasms</td>\n",
       "      <td>DO:DOID:162</td>\n",
       "      <td>MESH:C</td>\n",
       "      <td>C04</td>\n",
       "      <td>Benign Neoplasm|Benign Neoplasms|Cancer|Cancer...</td>\n",
       "      <td>Cancer</td>\n",
       "    </tr>\n",
       "    <tr>\n",
       "      <th>2</th>\n",
       "      <td>MESH:D005892</td>\n",
       "      <td>Gingivitis, Necrotizing Ulcerative</td>\n",
       "      <td>DO:DOID:13924|DO:DOID:9673</td>\n",
       "      <td>MESH:D005674|MESH:D005891|MESH:D007239</td>\n",
       "      <td>C01.252.400.388.350.400|C01.539.424|C07.465.71...</td>\n",
       "      <td>Acute Membranous Gingivitides|Acute Membranous...</td>\n",
       "      <td>Bacterial infection or mycosis|Mouth disease</td>\n",
       "    </tr>\n",
       "    <tr>\n",
       "      <th>3</th>\n",
       "      <td>MESH:D010020</td>\n",
       "      <td>Osteonecrosis</td>\n",
       "      <td>DO:DOID:10159</td>\n",
       "      <td>MESH:D001847|MESH:D009336</td>\n",
       "      <td>C05.116.852|C23.550.717.732</td>\n",
       "      <td>Aseptic Necrosis of Bone|Avascular Necrosis of...</td>\n",
       "      <td>Musculoskeletal disease|Pathology (process)</td>\n",
       "    </tr>\n",
       "    <tr>\n",
       "      <th>4</th>\n",
       "      <td>MESH:D014522</td>\n",
       "      <td>Urethral Diseases</td>\n",
       "      <td>DO:DOID:732</td>\n",
       "      <td>MESH:D014570</td>\n",
       "      <td>C12.777.767|C13.351.968.767</td>\n",
       "      <td>Diseases, Urethral|Disease, Urethral|Urethral ...</td>\n",
       "      <td>Urogenital disease (female)|Urogenital disease...</td>\n",
       "    </tr>\n",
       "  </tbody>\n",
       "</table>\n",
       "</div>"
      ],
      "text/plain": [
       "     disease-id                        disease-name  \\\n",
       "0  MESH:D008105            Liver Cirrhosis, Biliary   \n",
       "1  MESH:D009369                           Neoplasms   \n",
       "2  MESH:D005892  Gingivitis, Necrotizing Ulcerative   \n",
       "3  MESH:D010020                       Osteonecrosis   \n",
       "4  MESH:D014522                   Urethral Diseases   \n",
       "\n",
       "                                           other-ids  \\\n",
       "0  DO:DOID:12236|OMIM:109720|OMIM:614220|OMIM:614221   \n",
       "1                                        DO:DOID:162   \n",
       "2                         DO:DOID:13924|DO:DOID:9673   \n",
       "3                                      DO:DOID:10159   \n",
       "4                                        DO:DOID:732   \n",
       "\n",
       "                               parent-ids  \\\n",
       "0               MESH:D002780|MESH:D008103   \n",
       "1                                  MESH:C   \n",
       "2  MESH:D005674|MESH:D005891|MESH:D007239   \n",
       "3               MESH:D001847|MESH:D009336   \n",
       "4                            MESH:D014570   \n",
       "\n",
       "                                     disease-treenum  \\\n",
       "0  C06.130.120.135.250.250|C06.552.150.250|C06.55...   \n",
       "1                                                C04   \n",
       "2  C01.252.400.388.350.400|C01.539.424|C07.465.71...   \n",
       "3                        C05.116.852|C23.550.717.732   \n",
       "4                        C12.777.767|C13.351.968.767   \n",
       "\n",
       "                                    disease-synonyms  \\\n",
       "0  Biliary Cirrhosis|Biliary Cirrhosis, Primary|B...   \n",
       "1  Benign Neoplasm|Benign Neoplasms|Cancer|Cancer...   \n",
       "2  Acute Membranous Gingivitides|Acute Membranous...   \n",
       "3  Aseptic Necrosis of Bone|Avascular Necrosis of...   \n",
       "4  Diseases, Urethral|Disease, Urethral|Urethral ...   \n",
       "\n",
       "                                    disease-category  \n",
       "0                           Digestive system disease  \n",
       "1                                             Cancer  \n",
       "2       Bacterial infection or mycosis|Mouth disease  \n",
       "3        Musculoskeletal disease|Pathology (process)  \n",
       "4  Urogenital disease (female)|Urogenital disease...  "
      ]
     },
     "execution_count": 5,
     "metadata": {},
     "output_type": "execute_result"
    }
   ],
   "source": [
    "df = pd.read_csv(DATA/'disease-lexicon.tsv', sep='\\t', encoding='utf-8', index_col=0)\n",
    "clean_colnames(df)\n",
    "df.reset_index(inplace=True, drop=True)\n",
    "df.head()"
   ]
  },
  {
   "cell_type": "code",
   "execution_count": 6,
   "metadata": {},
   "outputs": [],
   "source": [
    "df = df.where((pd.notnull(df)), None)\n",
    "\n",
    "# Rename to match schema\n",
    "df.rename(columns={\n",
    "    'disease-id': 'disease_id',\n",
    "    'disease-name': 'disease_name',\n",
    "    'disease-category': 'disease_category',\n",
    "    'disease-synonyms': 'disease_synonyms'\n",
    "}, inplace=True)\n",
    "\n",
    "# Keep only selected columns.\n",
    "df = df[['disease_id', 'disease_name', 'disease_category']]\n",
    "\n",
    "data_list= list(df.T.to_dict().values())"
   ]
  },
  {
   "cell_type": "markdown",
   "metadata": {},
   "source": [
    "### Gene Lexicon"
   ]
  },
  {
   "cell_type": "code",
   "execution_count": 7,
   "metadata": {},
   "outputs": [
    {
     "data": {
      "text/html": [
       "<div>\n",
       "<style scoped>\n",
       "    .dataframe tbody tr th:only-of-type {\n",
       "        vertical-align: middle;\n",
       "    }\n",
       "\n",
       "    .dataframe tbody tr th {\n",
       "        vertical-align: top;\n",
       "    }\n",
       "\n",
       "    .dataframe thead th {\n",
       "        text-align: right;\n",
       "    }\n",
       "</style>\n",
       "<table border=\"1\" class=\"dataframe\">\n",
       "  <thead>\n",
       "    <tr style=\"text-align: right;\">\n",
       "      <th></th>\n",
       "      <th>gene-id</th>\n",
       "    </tr>\n",
       "  </thead>\n",
       "  <tbody>\n",
       "    <tr>\n",
       "      <th>0</th>\n",
       "      <td>1588</td>\n",
       "    </tr>\n",
       "    <tr>\n",
       "      <th>1</th>\n",
       "      <td>26504</td>\n",
       "    </tr>\n",
       "    <tr>\n",
       "      <th>2</th>\n",
       "      <td>9499</td>\n",
       "    </tr>\n",
       "    <tr>\n",
       "      <th>3</th>\n",
       "      <td>29940</td>\n",
       "    </tr>\n",
       "    <tr>\n",
       "      <th>4</th>\n",
       "      <td>113189</td>\n",
       "    </tr>\n",
       "  </tbody>\n",
       "</table>\n",
       "</div>"
      ],
      "text/plain": [
       "   gene-id\n",
       "0     1588\n",
       "1    26504\n",
       "2     9499\n",
       "3    29940\n",
       "4   113189"
      ]
     },
     "execution_count": 7,
     "metadata": {},
     "output_type": "execute_result"
    }
   ],
   "source": [
    "df = pd.read_csv('../data/version-3/gene-disease.tsv', sep='\\t', encoding='utf-8')[['gene-id']]\n",
    "df.drop_duplicates(subset=['gene-id'], inplace=True)\n",
    "df.head()"
   ]
  },
  {
   "cell_type": "code",
   "execution_count": 8,
   "metadata": {},
   "outputs": [],
   "source": [
    "df.rename(columns={\n",
    "    'gene-id': 'gene_id',\n",
    "}, inplace=True)\n",
    "\n",
    "\n",
    "data_list= list(df.T.to_dict().values())"
   ]
  },
  {
   "cell_type": "markdown",
   "metadata": {},
   "source": [
    "### References"
   ]
  },
  {
   "cell_type": "code",
   "execution_count": 9,
   "metadata": {},
   "outputs": [
    {
     "data": {
      "text/html": [
       "<div>\n",
       "<style scoped>\n",
       "    .dataframe tbody tr th:only-of-type {\n",
       "        vertical-align: middle;\n",
       "    }\n",
       "\n",
       "    .dataframe tbody tr th {\n",
       "        vertical-align: top;\n",
       "    }\n",
       "\n",
       "    .dataframe thead th {\n",
       "        text-align: right;\n",
       "    }\n",
       "</style>\n",
       "<table border=\"1\" class=\"dataframe\">\n",
       "  <thead>\n",
       "    <tr style=\"text-align: right;\">\n",
       "      <th></th>\n",
       "      <th>authors</th>\n",
       "      <th>date</th>\n",
       "      <th>journal-name</th>\n",
       "      <th>journal-name-abbrv.</th>\n",
       "      <th>pmid</th>\n",
       "      <th>publication-type</th>\n",
       "      <th>title</th>\n",
       "    </tr>\n",
       "  </thead>\n",
       "  <tbody>\n",
       "    <tr>\n",
       "      <th>0</th>\n",
       "      <td>Elkiran T|Harputluoglu H|Yasar U|Babaoglu MO|D...</td>\n",
       "      <td>2007 Jan-Feb</td>\n",
       "      <td>Methods and findings in experimental and clini...</td>\n",
       "      <td>Methods Find Exp Clin Pharmacol</td>\n",
       "      <td>17344941</td>\n",
       "      <td>Clinical Trial|Journal Article</td>\n",
       "      <td>Differential alteration of drug-metabolizing e...</td>\n",
       "    </tr>\n",
       "    <tr>\n",
       "      <th>1</th>\n",
       "      <td>Severins N|Mensink RP|Plat J</td>\n",
       "      <td>2015 Feb</td>\n",
       "      <td>Nutrition, metabolism, and cardiovascular dise...</td>\n",
       "      <td>Nutr Metab Cardiovasc Dis</td>\n",
       "      <td>25456153</td>\n",
       "      <td>Journal Article|Randomized Controlled Trial</td>\n",
       "      <td>Effects of lutein-enriched egg yolk in butterm...</td>\n",
       "    </tr>\n",
       "    <tr>\n",
       "      <th>2</th>\n",
       "      <td>Li C|Zuo C|Deng G|Kuang R|Yang Q|Hu C|Sheng O|...</td>\n",
       "      <td>2013</td>\n",
       "      <td>PloS one</td>\n",
       "      <td>PLoS One</td>\n",
       "      <td>23922960</td>\n",
       "      <td>Journal Article</td>\n",
       "      <td>Contamination of bananas with beauvericin and ...</td>\n",
       "    </tr>\n",
       "    <tr>\n",
       "      <th>3</th>\n",
       "      <td>Güneser S|Atici A|Cengizler I|Alparslan N</td>\n",
       "      <td>1996 May-Jun</td>\n",
       "      <td>Allergologia et immunopathologia</td>\n",
       "      <td>Allergol Immunopathol (Madr)</td>\n",
       "      <td>8766742</td>\n",
       "      <td>Journal Article</td>\n",
       "      <td>Inhalant allergens: as a cause of respiratory ...</td>\n",
       "    </tr>\n",
       "    <tr>\n",
       "      <th>4</th>\n",
       "      <td>Brvar M|Bunc M</td>\n",
       "      <td>2009 Sep 9</td>\n",
       "      <td>Cases journal</td>\n",
       "      <td>Cases J</td>\n",
       "      <td>19918387</td>\n",
       "      <td>Journal Article</td>\n",
       "      <td>High-degree atrioventricular block in acute et...</td>\n",
       "    </tr>\n",
       "  </tbody>\n",
       "</table>\n",
       "</div>"
      ],
      "text/plain": [
       "                                             authors          date  \\\n",
       "0  Elkiran T|Harputluoglu H|Yasar U|Babaoglu MO|D...  2007 Jan-Feb   \n",
       "1                       Severins N|Mensink RP|Plat J      2015 Feb   \n",
       "2  Li C|Zuo C|Deng G|Kuang R|Yang Q|Hu C|Sheng O|...          2013   \n",
       "3          Güneser S|Atici A|Cengizler I|Alparslan N  1996 May-Jun   \n",
       "4                                     Brvar M|Bunc M    2009 Sep 9   \n",
       "\n",
       "                                        journal-name  \\\n",
       "0  Methods and findings in experimental and clini...   \n",
       "1  Nutrition, metabolism, and cardiovascular dise...   \n",
       "2                                           PloS one   \n",
       "3                   Allergologia et immunopathologia   \n",
       "4                                      Cases journal   \n",
       "\n",
       "               journal-name-abbrv.      pmid  \\\n",
       "0  Methods Find Exp Clin Pharmacol  17344941   \n",
       "1        Nutr Metab Cardiovasc Dis  25456153   \n",
       "2                         PLoS One  23922960   \n",
       "3     Allergol Immunopathol (Madr)   8766742   \n",
       "4                          Cases J  19918387   \n",
       "\n",
       "                              publication-type  \\\n",
       "0               Clinical Trial|Journal Article   \n",
       "1  Journal Article|Randomized Controlled Trial   \n",
       "2                              Journal Article   \n",
       "3                              Journal Article   \n",
       "4                              Journal Article   \n",
       "\n",
       "                                               title  \n",
       "0  Differential alteration of drug-metabolizing e...  \n",
       "1  Effects of lutein-enriched egg yolk in butterm...  \n",
       "2  Contamination of bananas with beauvericin and ...  \n",
       "3  Inhalant allergens: as a cause of respiratory ...  \n",
       "4  High-degree atrioventricular block in acute et...  "
      ]
     },
     "execution_count": 9,
     "metadata": {},
     "output_type": "execute_result"
    }
   ],
   "source": [
    "df = pd.read_csv(DATA/'publication-records.tsv', sep='\\t', encoding='utf-8', index_col='Unnamed: 0')\n",
    "clean_colnames(df)\n",
    "df.head()"
   ]
  },
  {
   "cell_type": "code",
   "execution_count": 10,
   "metadata": {},
   "outputs": [
    {
     "data": {
      "text/plain": [
       "{'authors': 'Elkiran T|Harputluoglu H|Yasar U|Babaoglu MO|Dincel AK|Altundag K|Ozisik Y|Guler N|Bozkurt A',\n",
       " 'date': '2007 Jan-Feb',\n",
       " 'journal_name': 'Methods and findings in experimental and clinical pharmacology',\n",
       " 'journal_name_abbr': 'Methods Find Exp Clin Pharmacol',\n",
       " 'pmid': 17344941,\n",
       " 'publication_type': 'Clinical Trial|Journal Article',\n",
       " 'title': 'Differential alteration of drug-metabolizing enzyme activities after cyclophosphamide/adriamycin administration in breast cancer patients.'}"
      ]
     },
     "execution_count": 10,
     "metadata": {},
     "output_type": "execute_result"
    }
   ],
   "source": [
    "df = df.where((pd.notnull(df)), None)\n",
    "\n",
    "df.rename(columns={\n",
    "    'authors': 'authors',\n",
    "    'journal-name': 'journal_name',\n",
    "    'journal-name-abbrv.': 'journal_name_abbr',\n",
    "    'publication-type':'publication_type',\n",
    "},inplace=True)\n",
    "\n",
    "data_list= list(df.T.to_dict().values())\n",
    "data_list[0]"
   ]
  },
  {
   "cell_type": "markdown",
   "metadata": {},
   "source": [
    "### Chemicals"
   ]
  },
  {
   "cell_type": "code",
   "execution_count": 11,
   "metadata": {},
   "outputs": [],
   "source": [
    "fchem = pd.read_csv(DATA/'food-chemical.tsv', sep='\\t')\n",
    "pubchems = set(fchem['pubchem-id'])"
   ]
  },
  {
   "cell_type": "markdown",
   "metadata": {},
   "source": [
    "## B. Associations"
   ]
  },
  {
   "cell_type": "code",
   "execution_count": 12,
   "metadata": {},
   "outputs": [
    {
     "data": {
      "text/html": [
       "<div>\n",
       "<style scoped>\n",
       "    .dataframe tbody tr th:only-of-type {\n",
       "        vertical-align: middle;\n",
       "    }\n",
       "\n",
       "    .dataframe tbody tr th {\n",
       "        vertical-align: top;\n",
       "    }\n",
       "\n",
       "    .dataframe thead th {\n",
       "        text-align: right;\n",
       "    }\n",
       "</style>\n",
       "<table border=\"1\" class=\"dataframe\">\n",
       "  <thead>\n",
       "    <tr style=\"text-align: right;\">\n",
       "      <th></th>\n",
       "      <th>food-id</th>\n",
       "      <th>disease-id</th>\n",
       "      <th>association</th>\n",
       "      <th>pmid</th>\n",
       "    </tr>\n",
       "  </thead>\n",
       "  <tbody>\n",
       "    <tr>\n",
       "      <th>0</th>\n",
       "      <td>Plant ID:4045</td>\n",
       "      <td>MESH:D004487</td>\n",
       "      <td>negative</td>\n",
       "      <td>7398283</td>\n",
       "    </tr>\n",
       "  </tbody>\n",
       "</table>\n",
       "</div>"
      ],
      "text/plain": [
       "         food-id    disease-id association     pmid\n",
       "0  Plant ID:4045  MESH:D004487    negative  7398283"
      ]
     },
     "execution_count": 12,
     "metadata": {},
     "output_type": "execute_result"
    }
   ],
   "source": [
    "food_dis = pd.read_csv(DATA/'food-disease.tsv', sep='\\t', encoding='utf-8')\n",
    "food_dis.drop_duplicates(['food-id', 'disease-id', 'association', 'pmid'], inplace=True)\n",
    "food_dis = food_dis.where((pd.notnull(food_dis)), None)\n",
    "food_dis['association'] = food_dis['association'].apply(str.lower)\n",
    "food_dis = food_dis.loc[:, ['food-id', 'disease-id', 'association', 'pmid']]\n",
    "food_dis['pmid'] = food_dis['pmid'].apply(str)\n",
    "food2dis = defaultdict(lambda: set(),\n",
    "                       food_dis.groupby('food-id').agg(lambda s: set(s))['disease-id'].to_dict())\n",
    "food_dis.head(1)"
   ]
  },
  {
   "cell_type": "code",
   "execution_count": 13,
   "metadata": {},
   "outputs": [
    {
     "data": {
      "text/html": [
       "<div>\n",
       "<style scoped>\n",
       "    .dataframe tbody tr th:only-of-type {\n",
       "        vertical-align: middle;\n",
       "    }\n",
       "\n",
       "    .dataframe tbody tr th {\n",
       "        vertical-align: top;\n",
       "    }\n",
       "\n",
       "    .dataframe thead th {\n",
       "        text-align: right;\n",
       "    }\n",
       "</style>\n",
       "<table border=\"1\" class=\"dataframe\">\n",
       "  <thead>\n",
       "    <tr style=\"text-align: right;\">\n",
       "      <th></th>\n",
       "      <th>pubchem-id</th>\n",
       "      <th>disease-id</th>\n",
       "      <th>type</th>\n",
       "    </tr>\n",
       "  </thead>\n",
       "  <tbody>\n",
       "    <tr>\n",
       "      <th>0</th>\n",
       "      <td>19</td>\n",
       "      <td>MESH:D007674</td>\n",
       "      <td>therapeutic</td>\n",
       "    </tr>\n",
       "  </tbody>\n",
       "</table>\n",
       "</div>"
      ],
      "text/plain": [
       "   pubchem-id    disease-id         type\n",
       "0          19  MESH:D007674  therapeutic"
      ]
     },
     "execution_count": 13,
     "metadata": {},
     "output_type": "execute_result"
    }
   ],
   "source": [
    "chem_dis = pd.read_csv(DATA/'chemical-disease.tsv', sep='\\t', encoding='utf-8', index_col='Unnamed: 0')\n",
    "chem_dis = chem_dis.groupby(['pubchem-id', 'disease-id']).agg(lambda s: sorted(s)[-1]).reset_index()\n",
    "dis2chem = defaultdict(lambda: set(),\n",
    "                       chem_dis.groupby('disease-id').agg(lambda s: set(s))['pubchem-id'].to_dict())\n",
    "chem2dis = defaultdict(lambda: set(),\n",
    "                       chem_dis.groupby('pubchem-id').agg(lambda s: set(s))['disease-id'].to_dict())\n",
    "\n",
    "chem_dis.head(1)"
   ]
  },
  {
   "cell_type": "code",
   "execution_count": 14,
   "metadata": {},
   "outputs": [
    {
     "data": {
      "text/html": [
       "<div>\n",
       "<style scoped>\n",
       "    .dataframe tbody tr th:only-of-type {\n",
       "        vertical-align: middle;\n",
       "    }\n",
       "\n",
       "    .dataframe tbody tr th {\n",
       "        vertical-align: top;\n",
       "    }\n",
       "\n",
       "    .dataframe thead th {\n",
       "        text-align: right;\n",
       "    }\n",
       "</style>\n",
       "<table border=\"1\" class=\"dataframe\">\n",
       "  <thead>\n",
       "    <tr style=\"text-align: right;\">\n",
       "      <th></th>\n",
       "      <th>food-id</th>\n",
       "      <th>pubchem-id</th>\n",
       "      <th>content</th>\n",
       "      <th>reference</th>\n",
       "    </tr>\n",
       "  </thead>\n",
       "  <tbody>\n",
       "    <tr>\n",
       "      <th>0</th>\n",
       "      <td>Plant ID:100170</td>\n",
       "      <td>5280378</td>\n",
       "      <td>Detected but not quantified</td>\n",
       "      <td>KNApSAcK</td>\n",
       "    </tr>\n",
       "  </tbody>\n",
       "</table>\n",
       "</div>"
      ],
      "text/plain": [
       "           food-id  pubchem-id                      content reference\n",
       "0  Plant ID:100170     5280378  Detected but not quantified  KNApSAcK"
      ]
     },
     "execution_count": 14,
     "metadata": {},
     "output_type": "execute_result"
    }
   ],
   "source": [
    "food_chem = pd.read_csv(DATA/'food-chemical.tsv', sep='\\t', encoding='utf-8')\n",
    "food2chem = defaultdict(lambda: set(),\n",
    "                        food_chem.groupby('food-id').agg(lambda s: set(s))['pubchem-id'].to_dict())\n",
    "\n",
    "food_chem.head(1)"
   ]
  },
  {
   "cell_type": "code",
   "execution_count": 55,
   "metadata": {},
   "outputs": [
    {
     "data": {
      "text/html": [
       "<div>\n",
       "<style scoped>\n",
       "    .dataframe tbody tr th:only-of-type {\n",
       "        vertical-align: middle;\n",
       "    }\n",
       "\n",
       "    .dataframe tbody tr th {\n",
       "        vertical-align: top;\n",
       "    }\n",
       "\n",
       "    .dataframe thead th {\n",
       "        text-align: right;\n",
       "    }\n",
       "</style>\n",
       "<table border=\"1\" class=\"dataframe\">\n",
       "  <thead>\n",
       "    <tr style=\"text-align: right;\">\n",
       "      <th></th>\n",
       "      <th>disease-id</th>\n",
       "      <th>gene-id</th>\n",
       "      <th>source</th>\n",
       "    </tr>\n",
       "  </thead>\n",
       "  <tbody>\n",
       "    <tr>\n",
       "      <th>0</th>\n",
       "      <td>MESH:C000591739</td>\n",
       "      <td>1588</td>\n",
       "      <td>ORPHANET</td>\n",
       "    </tr>\n",
       "    <tr>\n",
       "      <th>1</th>\n",
       "      <td>MESH:C000596385</td>\n",
       "      <td>26504</td>\n",
       "      <td>UNIPROT</td>\n",
       "    </tr>\n",
       "    <tr>\n",
       "      <th>2</th>\n",
       "      <td>MESH:C000598645</td>\n",
       "      <td>9499</td>\n",
       "      <td>CTD_human;ORPHANET;UNIPROT</td>\n",
       "    </tr>\n",
       "    <tr>\n",
       "      <th>3</th>\n",
       "      <td>MESH:C000600608</td>\n",
       "      <td>29940</td>\n",
       "      <td>ORPHANET</td>\n",
       "    </tr>\n",
       "    <tr>\n",
       "      <th>4</th>\n",
       "      <td>MESH:C000600608</td>\n",
       "      <td>113189</td>\n",
       "      <td>CTD_human;ORPHANET;UNIPROT</td>\n",
       "    </tr>\n",
       "  </tbody>\n",
       "</table>\n",
       "</div>"
      ],
      "text/plain": [
       "        disease-id  gene-id                      source\n",
       "0  MESH:C000591739     1588                    ORPHANET\n",
       "1  MESH:C000596385    26504                     UNIPROT\n",
       "2  MESH:C000598645     9499  CTD_human;ORPHANET;UNIPROT\n",
       "3  MESH:C000600608    29940                    ORPHANET\n",
       "4  MESH:C000600608   113189  CTD_human;ORPHANET;UNIPROT"
      ]
     },
     "execution_count": 55,
     "metadata": {},
     "output_type": "execute_result"
    }
   ],
   "source": [
    "gene_dis = pd.read_csv(DATA/'gene-disease.tsv', sep='\\t', encoding='utf-8', index_col='Unnamed: 0')\n",
    "dis2gene = defaultdict(lambda: set(),\n",
    "                        gene_dis.groupby('disease-id').agg(lambda s: set(s))['gene-id'].to_dict())\n",
    "gene2dis = defaultdict(lambda: set(),\n",
    "                        gene_dis.groupby('gene-id').agg(lambda s: set(s))['disease-id'].to_dict())\n",
    "\n",
    "gene_dis.head()"
   ]
  },
  {
   "cell_type": "code",
   "execution_count": 40,
   "metadata": {},
   "outputs": [
    {
     "data": {
      "text/html": [
       "<div>\n",
       "<style scoped>\n",
       "    .dataframe tbody tr th:only-of-type {\n",
       "        vertical-align: middle;\n",
       "    }\n",
       "\n",
       "    .dataframe tbody tr th {\n",
       "        vertical-align: top;\n",
       "    }\n",
       "\n",
       "    .dataframe thead th {\n",
       "        text-align: right;\n",
       "    }\n",
       "</style>\n",
       "<table border=\"1\" class=\"dataframe\">\n",
       "  <thead>\n",
       "    <tr style=\"text-align: right;\">\n",
       "      <th></th>\n",
       "      <th>pubchem-id</th>\n",
       "      <th>gene-id</th>\n",
       "      <th>interaction-actions</th>\n",
       "      <th>source</th>\n",
       "    </tr>\n",
       "  </thead>\n",
       "  <tbody>\n",
       "    <tr>\n",
       "      <th>0</th>\n",
       "      <td>19</td>\n",
       "      <td>351</td>\n",
       "      <td>affects^binding|decreases^reaction</td>\n",
       "      <td>CTD</td>\n",
       "    </tr>\n",
       "    <tr>\n",
       "      <th>1</th>\n",
       "      <td>19</td>\n",
       "      <td>4313</td>\n",
       "      <td>decreases^activity|decreases^reaction|decrease...</td>\n",
       "      <td>CTD</td>\n",
       "    </tr>\n",
       "    <tr>\n",
       "      <th>2</th>\n",
       "      <td>51</td>\n",
       "      <td>3091</td>\n",
       "      <td>affects^binding|affects^cotreatment|increases^...</td>\n",
       "      <td>CTD</td>\n",
       "    </tr>\n",
       "    <tr>\n",
       "      <th>3</th>\n",
       "      <td>51</td>\n",
       "      <td>7428</td>\n",
       "      <td>affects^binding|affects^cotreatment|increases^...</td>\n",
       "      <td>CTD</td>\n",
       "    </tr>\n",
       "    <tr>\n",
       "      <th>4</th>\n",
       "      <td>51</td>\n",
       "      <td>8290</td>\n",
       "      <td>affects^cotreatment|decreases^methylation|incr...</td>\n",
       "      <td>CTD</td>\n",
       "    </tr>\n",
       "  </tbody>\n",
       "</table>\n",
       "</div>"
      ],
      "text/plain": [
       "   pubchem-id  gene-id                                interaction-actions  \\\n",
       "0          19      351                 affects^binding|decreases^reaction   \n",
       "1          19     4313  decreases^activity|decreases^reaction|decrease...   \n",
       "2          51     3091  affects^binding|affects^cotreatment|increases^...   \n",
       "3          51     7428  affects^binding|affects^cotreatment|increases^...   \n",
       "4          51     8290  affects^cotreatment|decreases^methylation|incr...   \n",
       "\n",
       "  source  \n",
       "0    CTD  \n",
       "1    CTD  \n",
       "2    CTD  \n",
       "3    CTD  \n",
       "4    CTD  "
      ]
     },
     "execution_count": 40,
     "metadata": {},
     "output_type": "execute_result"
    }
   ],
   "source": [
    "chem_gene = pd.read_csv(DATA/'chemical-gene.tsv', sep='\\t', encoding='utf-8')\n",
    "chem2gene = defaultdict(lambda: set(),\n",
    "                        chem_gene.groupby('pubchem-id').agg(lambda s: set(s))['gene-id'].to_dict())\n",
    "gene2chem = defaultdict(lambda: set(),\n",
    "                        chem_gene.groupby('gene-id').agg(lambda s: set(s))['pubchem-id'].to_dict())\n",
    "chem_gene.head()"
   ]
  },
  {
   "cell_type": "markdown",
   "metadata": {},
   "source": [
    "### 1. Food-Page"
   ]
  },
  {
   "cell_type": "markdown",
   "metadata": {},
   "source": [
    "##### Food-disease"
   ]
  },
  {
   "cell_type": "code",
   "execution_count": 18,
   "metadata": {},
   "outputs": [
    {
     "data": {
      "text/html": [
       "<div>\n",
       "<style scoped>\n",
       "    .dataframe tbody tr th:only-of-type {\n",
       "        vertical-align: middle;\n",
       "    }\n",
       "\n",
       "    .dataframe tbody tr th {\n",
       "        vertical-align: top;\n",
       "    }\n",
       "\n",
       "    .dataframe thead th {\n",
       "        text-align: right;\n",
       "    }\n",
       "</style>\n",
       "<table border=\"1\" class=\"dataframe\">\n",
       "  <thead>\n",
       "    <tr style=\"text-align: right;\">\n",
       "      <th></th>\n",
       "      <th>food-id</th>\n",
       "      <th>disease-id</th>\n",
       "      <th>pubchem-id</th>\n",
       "    </tr>\n",
       "  </thead>\n",
       "  <tbody>\n",
       "    <tr>\n",
       "      <th>0</th>\n",
       "      <td>Plant ID:100170</td>\n",
       "      <td>MESH:D002583</td>\n",
       "      <td>5280378</td>\n",
       "    </tr>\n",
       "    <tr>\n",
       "      <th>1</th>\n",
       "      <td>Plant ID:100170</td>\n",
       "      <td>MESH:D058186</td>\n",
       "      <td>5280378</td>\n",
       "    </tr>\n",
       "  </tbody>\n",
       "</table>\n",
       "</div>"
      ],
      "text/plain": [
       "           food-id    disease-id pubchem-id\n",
       "0  Plant ID:100170  MESH:D002583    5280378\n",
       "1  Plant ID:100170  MESH:D058186    5280378"
      ]
     },
     "execution_count": 18,
     "metadata": {},
     "output_type": "execute_result"
    }
   ],
   "source": [
    "# Curated\n",
    "neg_fd = food_dis[food_dis.association == 'negative'].\\\n",
    "    groupby(['food-id', 'disease-id']).agg(lambda s: '|'.join(s))[['pmid']].reset_index(())\n",
    "neg_fd.reset_index(inplace=True)\n",
    "neg_fd.rename(columns={'pmid': 'negative-pmid'}, inplace=True)\n",
    "\n",
    "pos_fd = food_dis[food_dis.association == 'positive'].\\\n",
    "    groupby(['food-id', 'disease-id']).agg(lambda s: '|'.join(s))[['pmid']]\n",
    "pos_fd.reset_index(inplace=True)\n",
    "pos_fd.rename(columns={'pmid': 'positive-pmid'}, inplace=True)\n",
    "\n",
    "food_dis_curated = pos_fd.merge(neg_fd, on=['food-id', 'disease-id'], how='outer').fillna('')\n",
    "\n",
    "# Inferred\n",
    "fd_inferred = list()\n",
    "for food, chemicals in food2chem.items():\n",
    "    for chem in chemicals:\n",
    "        for dis in chem2dis[chem]:\n",
    "            fd_inferred.append([food, dis, str(chem)])\n",
    "            \n",
    "fd_inferred = pd.DataFrame(fd_inferred, \n",
    "                           columns=['food-id', 'disease-id', 'pubchem-id'])\n",
    "fd_inferred = fd_inferred.groupby(['food-id', 'disease-id']).agg(lambda s: '|'.join(s)).reset_index()\n",
    "del pos_fd, neg_fd\n",
    "\n",
    "fd_inferred.head(2)"
   ]
  },
  {
   "cell_type": "code",
   "execution_count": 20,
   "metadata": {},
   "outputs": [
    {
     "data": {
      "text/html": [
       "<div>\n",
       "<style scoped>\n",
       "    .dataframe tbody tr th:only-of-type {\n",
       "        vertical-align: middle;\n",
       "    }\n",
       "\n",
       "    .dataframe tbody tr th {\n",
       "        vertical-align: top;\n",
       "    }\n",
       "\n",
       "    .dataframe thead th {\n",
       "        text-align: right;\n",
       "    }\n",
       "</style>\n",
       "<table border=\"1\" class=\"dataframe\">\n",
       "  <thead>\n",
       "    <tr style=\"text-align: right;\">\n",
       "      <th></th>\n",
       "      <th>food-id</th>\n",
       "      <th>disease-id</th>\n",
       "      <th>positive-pmid</th>\n",
       "      <th>negative-pmid</th>\n",
       "      <th>pubchem-id</th>\n",
       "      <th>weight</th>\n",
       "    </tr>\n",
       "  </thead>\n",
       "  <tbody>\n",
       "    <tr>\n",
       "      <th>0</th>\n",
       "      <td>AlcoholicBev ID:17</td>\n",
       "      <td>MESH:D001523</td>\n",
       "      <td>7195588</td>\n",
       "      <td></td>\n",
       "      <td></td>\n",
       "      <td>2</td>\n",
       "    </tr>\n",
       "    <tr>\n",
       "      <th>1</th>\n",
       "      <td>AlcoholicBev ID:17</td>\n",
       "      <td>MESH:D003866</td>\n",
       "      <td>6798614</td>\n",
       "      <td></td>\n",
       "      <td></td>\n",
       "      <td>2</td>\n",
       "    </tr>\n",
       "    <tr>\n",
       "      <th>2</th>\n",
       "      <td>AlcoholicBev ID:18</td>\n",
       "      <td>MESH:D005756</td>\n",
       "      <td>11848298</td>\n",
       "      <td></td>\n",
       "      <td></td>\n",
       "      <td>2</td>\n",
       "    </tr>\n",
       "    <tr>\n",
       "      <th>3</th>\n",
       "      <td>AlcoholicBev ID:18</td>\n",
       "      <td>MESH:D013272</td>\n",
       "      <td>17295722</td>\n",
       "      <td>9615879|17295722</td>\n",
       "      <td></td>\n",
       "      <td>2</td>\n",
       "    </tr>\n",
       "    <tr>\n",
       "      <th>4</th>\n",
       "      <td>AlcoholicBev ID:2</td>\n",
       "      <td>MESH:C537766</td>\n",
       "      <td>25604939</td>\n",
       "      <td></td>\n",
       "      <td></td>\n",
       "      <td>2</td>\n",
       "    </tr>\n",
       "  </tbody>\n",
       "</table>\n",
       "</div>"
      ],
      "text/plain": [
       "              food-id    disease-id positive-pmid     negative-pmid  \\\n",
       "0  AlcoholicBev ID:17  MESH:D001523       7195588                     \n",
       "1  AlcoholicBev ID:17  MESH:D003866       6798614                     \n",
       "2  AlcoholicBev ID:18  MESH:D005756      11848298                     \n",
       "3  AlcoholicBev ID:18  MESH:D013272      17295722  9615879|17295722   \n",
       "4   AlcoholicBev ID:2  MESH:C537766      25604939                     \n",
       "\n",
       "  pubchem-id  weight  \n",
       "0                  2  \n",
       "1                  2  \n",
       "2                  2  \n",
       "3                  2  \n",
       "4                  2  "
      ]
     },
     "execution_count": 20,
     "metadata": {},
     "output_type": "execute_result"
    }
   ],
   "source": [
    "food_dis_db = food_dis_curated.merge(fd_inferred, on=['food-id', 'disease-id'], how='outer').fillna('')\n",
    "food_dis_db['weight'] = food_dis_db.apply(lambda row: len(row['positive-pmid'].split('|')) +\n",
    "                                          len(row['positive-pmid'].split('|')), 1)\n",
    "del fd_inferred, food_dis_curated\n",
    "\n",
    "food_dis_db.head()"
   ]
  },
  {
   "cell_type": "markdown",
   "metadata": {},
   "source": [
    "##### Food-chemical"
   ]
  },
  {
   "cell_type": "code",
   "execution_count": 21,
   "metadata": {},
   "outputs": [
    {
     "data": {
      "text/html": [
       "<div>\n",
       "<style scoped>\n",
       "    .dataframe tbody tr th:only-of-type {\n",
       "        vertical-align: middle;\n",
       "    }\n",
       "\n",
       "    .dataframe tbody tr th {\n",
       "        vertical-align: top;\n",
       "    }\n",
       "\n",
       "    .dataframe thead th {\n",
       "        text-align: right;\n",
       "    }\n",
       "</style>\n",
       "<table border=\"1\" class=\"dataframe\">\n",
       "  <thead>\n",
       "    <tr style=\"text-align: right;\">\n",
       "      <th></th>\n",
       "      <th>food-id</th>\n",
       "      <th>pubchem-id</th>\n",
       "      <th>content</th>\n",
       "      <th>reference</th>\n",
       "    </tr>\n",
       "  </thead>\n",
       "  <tbody>\n",
       "    <tr>\n",
       "      <th>0</th>\n",
       "      <td>Plant ID:100170</td>\n",
       "      <td>5280378</td>\n",
       "      <td>Detected but not quantified</td>\n",
       "      <td>KNApSAcK</td>\n",
       "    </tr>\n",
       "    <tr>\n",
       "      <th>1</th>\n",
       "      <td>Plant ID:100170</td>\n",
       "      <td>44260113</td>\n",
       "      <td>Detected but not quantified</td>\n",
       "      <td>KNApSAcK</td>\n",
       "    </tr>\n",
       "    <tr>\n",
       "      <th>2</th>\n",
       "      <td>Plant ID:100506</td>\n",
       "      <td>1150</td>\n",
       "      <td>Detected but not quantified</td>\n",
       "      <td>KNApSAcK</td>\n",
       "    </tr>\n",
       "    <tr>\n",
       "      <th>3</th>\n",
       "      <td>Plant ID:100506</td>\n",
       "      <td>5202</td>\n",
       "      <td>Detected but not quantified</td>\n",
       "      <td>KNApSAcK</td>\n",
       "    </tr>\n",
       "    <tr>\n",
       "      <th>4</th>\n",
       "      <td>Plant ID:100506</td>\n",
       "      <td>5372945</td>\n",
       "      <td>Detected but not quantified</td>\n",
       "      <td>KNApSAcK</td>\n",
       "    </tr>\n",
       "  </tbody>\n",
       "</table>\n",
       "</div>"
      ],
      "text/plain": [
       "           food-id  pubchem-id                      content reference\n",
       "0  Plant ID:100170     5280378  Detected but not quantified  KNApSAcK\n",
       "1  Plant ID:100170    44260113  Detected but not quantified  KNApSAcK\n",
       "2  Plant ID:100506        1150  Detected but not quantified  KNApSAcK\n",
       "3  Plant ID:100506        5202  Detected but not quantified  KNApSAcK\n",
       "4  Plant ID:100506     5372945  Detected but not quantified  KNApSAcK"
      ]
     },
     "execution_count": 21,
     "metadata": {},
     "output_type": "execute_result"
    }
   ],
   "source": [
    "food_chem_db = food_chem.where((pd.notnull(food_chem)), None)\n",
    "food_chem_db.head()"
   ]
  },
  {
   "cell_type": "markdown",
   "metadata": {},
   "source": [
    "#### Food-gene"
   ]
  },
  {
   "cell_type": "code",
   "execution_count": 22,
   "metadata": {},
   "outputs": [
    {
     "data": {
      "text/html": [
       "<div>\n",
       "<style scoped>\n",
       "    .dataframe tbody tr th:only-of-type {\n",
       "        vertical-align: middle;\n",
       "    }\n",
       "\n",
       "    .dataframe tbody tr th {\n",
       "        vertical-align: top;\n",
       "    }\n",
       "\n",
       "    .dataframe thead th {\n",
       "        text-align: right;\n",
       "    }\n",
       "</style>\n",
       "<table border=\"1\" class=\"dataframe\">\n",
       "  <thead>\n",
       "    <tr style=\"text-align: right;\">\n",
       "      <th></th>\n",
       "      <th>food-id</th>\n",
       "      <th>gene-id</th>\n",
       "      <th>pubchem-id</th>\n",
       "    </tr>\n",
       "  </thead>\n",
       "  <tbody>\n",
       "    <tr>\n",
       "      <th>0</th>\n",
       "      <td>Plant ID:100170</td>\n",
       "      <td>196</td>\n",
       "      <td>5280378</td>\n",
       "    </tr>\n",
       "    <tr>\n",
       "      <th>1</th>\n",
       "      <td>Plant ID:100170</td>\n",
       "      <td>581</td>\n",
       "      <td>5280378</td>\n",
       "    </tr>\n",
       "  </tbody>\n",
       "</table>\n",
       "</div>"
      ],
      "text/plain": [
       "           food-id  gene-id pubchem-id\n",
       "0  Plant ID:100170      196    5280378\n",
       "1  Plant ID:100170      581    5280378"
      ]
     },
     "execution_count": 22,
     "metadata": {},
     "output_type": "execute_result"
    }
   ],
   "source": [
    "# Inferred throuch chemicals\n",
    "fg_inf_chem = list()\n",
    "for food, chemlst in food2chem.items():\n",
    "    for chem in chemlst:\n",
    "        for gene in chem2gene[chem]:\n",
    "            fg_inf_chem.append([food, str(chem), gene])\n",
    "            \n",
    "fg_inf_chem = pd.DataFrame(fg_inf_chem, columns=['food-id', 'pubchem-id', 'gene-id'])\n",
    "fg_inf_chem = fg_inf_chem.groupby(['food-id', 'gene-id']).agg(lambda s: '|'.join(s)).reset_index()\n",
    "fg_inf_chem.head(2)"
   ]
  },
  {
   "cell_type": "code",
   "execution_count": 29,
   "metadata": {},
   "outputs": [
    {
     "data": {
      "text/html": [
       "<div>\n",
       "<style scoped>\n",
       "    .dataframe tbody tr th:only-of-type {\n",
       "        vertical-align: middle;\n",
       "    }\n",
       "\n",
       "    .dataframe tbody tr th {\n",
       "        vertical-align: top;\n",
       "    }\n",
       "\n",
       "    .dataframe thead th {\n",
       "        text-align: right;\n",
       "    }\n",
       "</style>\n",
       "<table border=\"1\" class=\"dataframe\">\n",
       "  <thead>\n",
       "    <tr style=\"text-align: right;\">\n",
       "      <th></th>\n",
       "      <th>food-id</th>\n",
       "      <th>gene-id</th>\n",
       "      <th>disease-id</th>\n",
       "    </tr>\n",
       "  </thead>\n",
       "  <tbody>\n",
       "    <tr>\n",
       "      <th>0</th>\n",
       "      <td>AlcoholicBev ID:17</td>\n",
       "      <td>2</td>\n",
       "      <td>MESH:D003866</td>\n",
       "    </tr>\n",
       "    <tr>\n",
       "      <th>1</th>\n",
       "      <td>AlcoholicBev ID:17</td>\n",
       "      <td>15</td>\n",
       "      <td>MESH:D003866</td>\n",
       "    </tr>\n",
       "  </tbody>\n",
       "</table>\n",
       "</div>"
      ],
      "text/plain": [
       "              food-id  gene-id    disease-id\n",
       "0  AlcoholicBev ID:17        2  MESH:D003866\n",
       "1  AlcoholicBev ID:17       15  MESH:D003866"
      ]
     },
     "execution_count": 29,
     "metadata": {},
     "output_type": "execute_result"
    }
   ],
   "source": [
    "# Inferred throuch diseases\n",
    "fg_inf_dis = list()\n",
    "for food, dislst in food2dis.items():\n",
    "    for dis in dislst:\n",
    "        for gene in dis2gene[dis]:\n",
    "            fg_inf_dis.append([food, dis, gene])\n",
    "            \n",
    "fg_inf_dis = pd.DataFrame(fg_inf_dis, columns=['food-id', 'disease-id', 'gene-id'])\n",
    "fg_inf_dis = fg_inf_dis.groupby(['food-id', 'gene-id']).agg(lambda s: '|'.join(s)).reset_index()\n",
    "fg_inf_dis.head(2)"
   ]
  },
  {
   "cell_type": "code",
   "execution_count": 30,
   "metadata": {},
   "outputs": [],
   "source": [
    "food_gene_db = fg_inf_dis.merge(fg_inf_chem, on=['food-id', 'gene-id'], how='outer').fillna('')\n",
    "food_gene_db.rename(columns={'disease-id': 'via-diseases', 'pubchem-id': 'via-chemicals'}, inplace=True)\n",
    "\n",
    "del fg_inf_chem, fg_inf_dis"
   ]
  },
  {
   "cell_type": "code",
   "execution_count": 37,
   "metadata": {
    "collapsed": true
   },
   "outputs": [
    {
     "ename": "KeyboardInterrupt",
     "evalue": "",
     "output_type": "error",
     "traceback": [
      "\u001b[0;31m---------------------------------------------------------------------------\u001b[0m",
      "\u001b[0;31mKeyboardInterrupt\u001b[0m                         Traceback (most recent call last)",
      "\u001b[0;32m<ipython-input-37-15abed0ef242>\u001b[0m in \u001b[0;36m<module>\u001b[0;34m()\u001b[0m\n\u001b[1;32m      1\u001b[0m food_gene_db['weight'] = food_gene_db.apply(lambda row: len(row['via-diseases'].split('|')) +\n\u001b[0;32m----> 2\u001b[0;31m                                                         len(row['via-chemicals'].split('|')), 1)\n\u001b[0m",
      "\u001b[0;32m~/miniconda3/envs/dietrx/lib/python3.6/site-packages/pandas/core/frame.py\u001b[0m in \u001b[0;36mapply\u001b[0;34m(self, func, axis, broadcast, raw, reduce, result_type, args, **kwds)\u001b[0m\n\u001b[1;32m   6002\u001b[0m                          \u001b[0margs\u001b[0m\u001b[0;34m=\u001b[0m\u001b[0margs\u001b[0m\u001b[0;34m,\u001b[0m\u001b[0;34m\u001b[0m\u001b[0m\n\u001b[1;32m   6003\u001b[0m                          kwds=kwds)\n\u001b[0;32m-> 6004\u001b[0;31m         \u001b[0;32mreturn\u001b[0m \u001b[0mop\u001b[0m\u001b[0;34m.\u001b[0m\u001b[0mget_result\u001b[0m\u001b[0;34m(\u001b[0m\u001b[0;34m)\u001b[0m\u001b[0;34m\u001b[0m\u001b[0m\n\u001b[0m\u001b[1;32m   6005\u001b[0m \u001b[0;34m\u001b[0m\u001b[0m\n\u001b[1;32m   6006\u001b[0m     \u001b[0;32mdef\u001b[0m \u001b[0mapplymap\u001b[0m\u001b[0;34m(\u001b[0m\u001b[0mself\u001b[0m\u001b[0;34m,\u001b[0m \u001b[0mfunc\u001b[0m\u001b[0;34m)\u001b[0m\u001b[0;34m:\u001b[0m\u001b[0;34m\u001b[0m\u001b[0m\n",
      "\u001b[0;32m~/miniconda3/envs/dietrx/lib/python3.6/site-packages/pandas/core/apply.py\u001b[0m in \u001b[0;36mget_result\u001b[0;34m(self)\u001b[0m\n\u001b[1;32m    140\u001b[0m             \u001b[0;32mreturn\u001b[0m \u001b[0mself\u001b[0m\u001b[0;34m.\u001b[0m\u001b[0mapply_raw\u001b[0m\u001b[0;34m(\u001b[0m\u001b[0;34m)\u001b[0m\u001b[0;34m\u001b[0m\u001b[0m\n\u001b[1;32m    141\u001b[0m \u001b[0;34m\u001b[0m\u001b[0m\n\u001b[0;32m--> 142\u001b[0;31m         \u001b[0;32mreturn\u001b[0m \u001b[0mself\u001b[0m\u001b[0;34m.\u001b[0m\u001b[0mapply_standard\u001b[0m\u001b[0;34m(\u001b[0m\u001b[0;34m)\u001b[0m\u001b[0;34m\u001b[0m\u001b[0m\n\u001b[0m\u001b[1;32m    143\u001b[0m \u001b[0;34m\u001b[0m\u001b[0m\n\u001b[1;32m    144\u001b[0m     \u001b[0;32mdef\u001b[0m \u001b[0mapply_empty_result\u001b[0m\u001b[0;34m(\u001b[0m\u001b[0mself\u001b[0m\u001b[0;34m)\u001b[0m\u001b[0;34m:\u001b[0m\u001b[0;34m\u001b[0m\u001b[0m\n",
      "\u001b[0;32m~/miniconda3/envs/dietrx/lib/python3.6/site-packages/pandas/core/apply.py\u001b[0m in \u001b[0;36mapply_standard\u001b[0;34m(self)\u001b[0m\n\u001b[1;32m    240\u001b[0m                                           \u001b[0maxis\u001b[0m\u001b[0;34m=\u001b[0m\u001b[0mself\u001b[0m\u001b[0;34m.\u001b[0m\u001b[0maxis\u001b[0m\u001b[0;34m,\u001b[0m\u001b[0;34m\u001b[0m\u001b[0m\n\u001b[1;32m    241\u001b[0m                                           \u001b[0mdummy\u001b[0m\u001b[0;34m=\u001b[0m\u001b[0mdummy\u001b[0m\u001b[0;34m,\u001b[0m\u001b[0;34m\u001b[0m\u001b[0m\n\u001b[0;32m--> 242\u001b[0;31m                                           labels=labels)\n\u001b[0m\u001b[1;32m    243\u001b[0m                 \u001b[0;32mreturn\u001b[0m \u001b[0mself\u001b[0m\u001b[0;34m.\u001b[0m\u001b[0mobj\u001b[0m\u001b[0;34m.\u001b[0m\u001b[0m_constructor_sliced\u001b[0m\u001b[0;34m(\u001b[0m\u001b[0mresult\u001b[0m\u001b[0;34m,\u001b[0m \u001b[0mindex\u001b[0m\u001b[0;34m=\u001b[0m\u001b[0mlabels\u001b[0m\u001b[0;34m)\u001b[0m\u001b[0;34m\u001b[0m\u001b[0m\n\u001b[1;32m    244\u001b[0m             \u001b[0;32mexcept\u001b[0m \u001b[0mException\u001b[0m\u001b[0;34m:\u001b[0m\u001b[0;34m\u001b[0m\u001b[0m\n",
      "\u001b[0;32mpandas/_libs/reduction.pyx\u001b[0m in \u001b[0;36mpandas._libs.reduction.reduce\u001b[0;34m()\u001b[0m\n",
      "\u001b[0;32mpandas/_libs/reduction.pyx\u001b[0m in \u001b[0;36mpandas._libs.reduction.Reducer.get_result\u001b[0;34m()\u001b[0m\n",
      "\u001b[0;32mpandas/_libs/properties.pyx\u001b[0m in \u001b[0;36mpandas._libs.properties.AxisProperty.__set__\u001b[0;34m()\u001b[0m\n",
      "\u001b[0;32m~/miniconda3/envs/dietrx/lib/python3.6/site-packages/pandas/core/series.py\u001b[0m in \u001b[0;36m_set_axis\u001b[0;34m(self, axis, labels, fastpath)\u001b[0m\n\u001b[1;32m    386\u001b[0m         \u001b[0mobject\u001b[0m\u001b[0;34m.\u001b[0m\u001b[0m__setattr__\u001b[0m\u001b[0;34m(\u001b[0m\u001b[0mself\u001b[0m\u001b[0;34m,\u001b[0m \u001b[0;34m'_index'\u001b[0m\u001b[0;34m,\u001b[0m \u001b[0mlabels\u001b[0m\u001b[0;34m)\u001b[0m\u001b[0;34m\u001b[0m\u001b[0m\n\u001b[1;32m    387\u001b[0m         \u001b[0;32mif\u001b[0m \u001b[0;32mnot\u001b[0m \u001b[0mfastpath\u001b[0m\u001b[0;34m:\u001b[0m\u001b[0;34m\u001b[0m\u001b[0m\n\u001b[0;32m--> 388\u001b[0;31m             \u001b[0mself\u001b[0m\u001b[0;34m.\u001b[0m\u001b[0m_data\u001b[0m\u001b[0;34m.\u001b[0m\u001b[0mset_axis\u001b[0m\u001b[0;34m(\u001b[0m\u001b[0maxis\u001b[0m\u001b[0;34m,\u001b[0m \u001b[0mlabels\u001b[0m\u001b[0;34m)\u001b[0m\u001b[0;34m\u001b[0m\u001b[0m\n\u001b[0m\u001b[1;32m    389\u001b[0m \u001b[0;34m\u001b[0m\u001b[0m\n\u001b[1;32m    390\u001b[0m     \u001b[0;32mdef\u001b[0m \u001b[0m_set_subtyp\u001b[0m\u001b[0;34m(\u001b[0m\u001b[0mself\u001b[0m\u001b[0;34m,\u001b[0m \u001b[0mis_all_dates\u001b[0m\u001b[0;34m)\u001b[0m\u001b[0;34m:\u001b[0m\u001b[0;34m\u001b[0m\u001b[0m\n",
      "\u001b[0;32m~/miniconda3/envs/dietrx/lib/python3.6/site-packages/pandas/core/internals.py\u001b[0m in \u001b[0;36mset_axis\u001b[0;34m(self, axis, new_labels)\u001b[0m\n\u001b[1;32m   3315\u001b[0m     \u001b[0;32mdef\u001b[0m \u001b[0mset_axis\u001b[0m\u001b[0;34m(\u001b[0m\u001b[0mself\u001b[0m\u001b[0;34m,\u001b[0m \u001b[0maxis\u001b[0m\u001b[0;34m,\u001b[0m \u001b[0mnew_labels\u001b[0m\u001b[0;34m)\u001b[0m\u001b[0;34m:\u001b[0m\u001b[0;34m\u001b[0m\u001b[0m\n\u001b[1;32m   3316\u001b[0m         \u001b[0mnew_labels\u001b[0m \u001b[0;34m=\u001b[0m \u001b[0m_ensure_index\u001b[0m\u001b[0;34m(\u001b[0m\u001b[0mnew_labels\u001b[0m\u001b[0;34m)\u001b[0m\u001b[0;34m\u001b[0m\u001b[0m\n\u001b[0;32m-> 3317\u001b[0;31m         \u001b[0mold_len\u001b[0m \u001b[0;34m=\u001b[0m \u001b[0mlen\u001b[0m\u001b[0;34m(\u001b[0m\u001b[0mself\u001b[0m\u001b[0;34m.\u001b[0m\u001b[0maxes\u001b[0m\u001b[0;34m[\u001b[0m\u001b[0maxis\u001b[0m\u001b[0;34m]\u001b[0m\u001b[0;34m)\u001b[0m\u001b[0;34m\u001b[0m\u001b[0m\n\u001b[0m\u001b[1;32m   3318\u001b[0m         \u001b[0mnew_len\u001b[0m \u001b[0;34m=\u001b[0m \u001b[0mlen\u001b[0m\u001b[0;34m(\u001b[0m\u001b[0mnew_labels\u001b[0m\u001b[0;34m)\u001b[0m\u001b[0;34m\u001b[0m\u001b[0m\n\u001b[1;32m   3319\u001b[0m \u001b[0;34m\u001b[0m\u001b[0m\n",
      "\u001b[0;32m~/miniconda3/envs/dietrx/lib/python3.6/site-packages/pandas/core/indexes/base.py\u001b[0m in \u001b[0;36m__len__\u001b[0;34m(self)\u001b[0m\n\u001b[1;32m    629\u001b[0m         \u001b[0;32mreturn\u001b[0m \u001b[0mthe\u001b[0m \u001b[0mlength\u001b[0m \u001b[0mof\u001b[0m \u001b[0mthe\u001b[0m \u001b[0mIndex\u001b[0m\u001b[0;34m\u001b[0m\u001b[0m\n\u001b[1;32m    630\u001b[0m         \"\"\"\n\u001b[0;32m--> 631\u001b[0;31m         \u001b[0;32mreturn\u001b[0m \u001b[0mlen\u001b[0m\u001b[0;34m(\u001b[0m\u001b[0mself\u001b[0m\u001b[0;34m.\u001b[0m\u001b[0m_data\u001b[0m\u001b[0;34m)\u001b[0m\u001b[0;34m\u001b[0m\u001b[0m\n\u001b[0m\u001b[1;32m    632\u001b[0m \u001b[0;34m\u001b[0m\u001b[0m\n\u001b[1;32m    633\u001b[0m     \u001b[0;32mdef\u001b[0m \u001b[0m__array__\u001b[0m\u001b[0;34m(\u001b[0m\u001b[0mself\u001b[0m\u001b[0;34m,\u001b[0m \u001b[0mdtype\u001b[0m\u001b[0;34m=\u001b[0m\u001b[0;32mNone\u001b[0m\u001b[0;34m)\u001b[0m\u001b[0;34m:\u001b[0m\u001b[0;34m\u001b[0m\u001b[0m\n",
      "\u001b[0;31mKeyboardInterrupt\u001b[0m: "
     ]
    }
   ],
   "source": [
    "# TAKES LOT OF TIME!\n",
    "# food_gene_db['weight'] = food_gene_db.apply(lambda row: len(row['via-diseases'].split('|')) +\n",
    "#                                                         len(row['via-chemicals'].split('|')), 1)"
   ]
  },
  {
   "cell_type": "markdown",
   "metadata": {},
   "source": [
    "### 2. Disease page"
   ]
  },
  {
   "cell_type": "markdown",
   "metadata": {},
   "source": [
    "#### Disease-gene"
   ]
  },
  {
   "cell_type": "code",
   "execution_count": 38,
   "metadata": {},
   "outputs": [
    {
     "data": {
      "text/html": [
       "<div>\n",
       "<style scoped>\n",
       "    .dataframe tbody tr th:only-of-type {\n",
       "        vertical-align: middle;\n",
       "    }\n",
       "\n",
       "    .dataframe tbody tr th {\n",
       "        vertical-align: top;\n",
       "    }\n",
       "\n",
       "    .dataframe thead th {\n",
       "        text-align: right;\n",
       "    }\n",
       "</style>\n",
       "<table border=\"1\" class=\"dataframe\">\n",
       "  <thead>\n",
       "    <tr style=\"text-align: right;\">\n",
       "      <th></th>\n",
       "      <th>disease-id</th>\n",
       "      <th>gene-id</th>\n",
       "      <th>pubchem-id</th>\n",
       "    </tr>\n",
       "  </thead>\n",
       "  <tbody>\n",
       "    <tr>\n",
       "      <th>0</th>\n",
       "      <td>MESH:C531617</td>\n",
       "      <td>14</td>\n",
       "      <td>14985</td>\n",
       "    </tr>\n",
       "    <tr>\n",
       "      <th>1</th>\n",
       "      <td>MESH:C531617</td>\n",
       "      <td>35</td>\n",
       "      <td>14985</td>\n",
       "    </tr>\n",
       "  </tbody>\n",
       "</table>\n",
       "</div>"
      ],
      "text/plain": [
       "     disease-id  gene-id pubchem-id\n",
       "0  MESH:C531617       14      14985\n",
       "1  MESH:C531617       35      14985"
      ]
     },
     "execution_count": 38,
     "metadata": {},
     "output_type": "execute_result"
    }
   ],
   "source": [
    "# Curated\n",
    "dg_curated = gene_dis.copy(deep=True)\n",
    "\n",
    "# Inferred through chemicals\n",
    "dg_inferred = list()\n",
    "for disease, chemlst in dis2chem.items():\n",
    "    for chem in chemlst:\n",
    "        for gene in chem2gene[chem]:\n",
    "            dg_inferred.append([disease, str(chem), gene])\n",
    "            \n",
    "dg_inferred = pd.DataFrame(dg_inferred, columns=['disease-id', 'pubchem-id', 'gene-id'])\n",
    "dg_inferred = dg_inferred.groupby(['disease-id', 'gene-id']).agg(lambda s: '|'.join(s)).reset_index()\n",
    "dg_inferred.head(2)"
   ]
  },
  {
   "cell_type": "code",
   "execution_count": 39,
   "metadata": {},
   "outputs": [
    {
     "data": {
      "text/html": [
       "<div>\n",
       "<style scoped>\n",
       "    .dataframe tbody tr th:only-of-type {\n",
       "        vertical-align: middle;\n",
       "    }\n",
       "\n",
       "    .dataframe tbody tr th {\n",
       "        vertical-align: top;\n",
       "    }\n",
       "\n",
       "    .dataframe thead th {\n",
       "        text-align: right;\n",
       "    }\n",
       "</style>\n",
       "<table border=\"1\" class=\"dataframe\">\n",
       "  <thead>\n",
       "    <tr style=\"text-align: right;\">\n",
       "      <th></th>\n",
       "      <th>disease-id</th>\n",
       "      <th>gene-id</th>\n",
       "      <th>source</th>\n",
       "      <th>via-chemicals</th>\n",
       "    </tr>\n",
       "  </thead>\n",
       "  <tbody>\n",
       "    <tr>\n",
       "      <th>0</th>\n",
       "      <td>MESH:C000591739</td>\n",
       "      <td>1588</td>\n",
       "      <td>ORPHANET</td>\n",
       "      <td></td>\n",
       "    </tr>\n",
       "  </tbody>\n",
       "</table>\n",
       "</div>"
      ],
      "text/plain": [
       "        disease-id  gene-id    source via-chemicals\n",
       "0  MESH:C000591739     1588  ORPHANET              "
      ]
     },
     "execution_count": 39,
     "metadata": {},
     "output_type": "execute_result"
    }
   ],
   "source": [
    "# Merge\n",
    "disease_gene_db = dg_curated.merge(dg_inferred, on=['disease-id', 'gene-id'], how='outer').fillna('')\n",
    "disease_gene_db.rename(columns={'pubchem-id': 'via-chemicals'}, inplace=True)\n",
    "del dg_inferred, dg_curated\n",
    "\n",
    "disease_gene_db.head(1)"
   ]
  },
  {
   "cell_type": "markdown",
   "metadata": {},
   "source": [
    "#### Disease-chemical"
   ]
  },
  {
   "cell_type": "code",
   "execution_count": 51,
   "metadata": {},
   "outputs": [
    {
     "data": {
      "text/html": [
       "<div>\n",
       "<style scoped>\n",
       "    .dataframe tbody tr th:only-of-type {\n",
       "        vertical-align: middle;\n",
       "    }\n",
       "\n",
       "    .dataframe tbody tr th {\n",
       "        vertical-align: top;\n",
       "    }\n",
       "\n",
       "    .dataframe thead th {\n",
       "        text-align: right;\n",
       "    }\n",
       "</style>\n",
       "<table border=\"1\" class=\"dataframe\">\n",
       "  <thead>\n",
       "    <tr style=\"text-align: right;\">\n",
       "      <th></th>\n",
       "      <th>disease-id</th>\n",
       "      <th>pubchem-id</th>\n",
       "      <th>gene-id</th>\n",
       "    </tr>\n",
       "  </thead>\n",
       "  <tbody>\n",
       "    <tr>\n",
       "      <th>0</th>\n",
       "      <td>MESH:C000591739</td>\n",
       "      <td>10680</td>\n",
       "      <td>1588</td>\n",
       "    </tr>\n",
       "    <tr>\n",
       "      <th>1</th>\n",
       "      <td>MESH:C000591739</td>\n",
       "      <td>14403</td>\n",
       "      <td>1588</td>\n",
       "    </tr>\n",
       "  </tbody>\n",
       "</table>\n",
       "</div>"
      ],
      "text/plain": [
       "        disease-id pubchem-id gene-id\n",
       "0  MESH:C000591739      10680    1588\n",
       "1  MESH:C000591739      14403    1588"
      ]
     },
     "execution_count": 51,
     "metadata": {},
     "output_type": "execute_result"
    }
   ],
   "source": [
    "# Curated\n",
    "chem_dis_curated = chem_dis.copy(deep=True)\n",
    "chem_dis_curated['pubchem-id'] = chem_dis_curated['pubchem-id'].apply(str)\n",
    "\n",
    "# Inferred through genes\n",
    "dc_inferred = list()\n",
    "for disease, genelst in dis2gene.items():\n",
    "    for gene in genelst:\n",
    "        for chem in gene2chem[gene]:\n",
    "            dc_inferred.append([disease, str(chem), str(gene)])\n",
    "            \n",
    "dc_inferred = pd.DataFrame(dc_inferred, columns=['disease-id', 'pubchem-id', 'gene-id'])\n",
    "dc_inferred = dc_inferred.groupby(['disease-id', 'pubchem-id']).agg(lambda s: '|'.join(s)).reset_index()\n",
    "dc_inferred.head(2)"
   ]
  },
  {
   "cell_type": "code",
   "execution_count": 52,
   "metadata": {},
   "outputs": [
    {
     "data": {
      "text/html": [
       "<div>\n",
       "<style scoped>\n",
       "    .dataframe tbody tr th:only-of-type {\n",
       "        vertical-align: middle;\n",
       "    }\n",
       "\n",
       "    .dataframe tbody tr th {\n",
       "        vertical-align: top;\n",
       "    }\n",
       "\n",
       "    .dataframe thead th {\n",
       "        text-align: right;\n",
       "    }\n",
       "</style>\n",
       "<table border=\"1\" class=\"dataframe\">\n",
       "  <thead>\n",
       "    <tr style=\"text-align: right;\">\n",
       "      <th></th>\n",
       "      <th>disease-id</th>\n",
       "      <th>pubchem-id</th>\n",
       "      <th>via-genes</th>\n",
       "    </tr>\n",
       "  </thead>\n",
       "  <tbody>\n",
       "    <tr>\n",
       "      <th>0</th>\n",
       "      <td>MESH:C000591739</td>\n",
       "      <td>10680</td>\n",
       "      <td>1588</td>\n",
       "    </tr>\n",
       "  </tbody>\n",
       "</table>\n",
       "</div>"
      ],
      "text/plain": [
       "        disease-id pubchem-id via-genes\n",
       "0  MESH:C000591739      10680      1588"
      ]
     },
     "execution_count": 52,
     "metadata": {},
     "output_type": "execute_result"
    }
   ],
   "source": [
    "# Merge\n",
    "disease_chem_db = dc_inferred.merge(chem_dis_curated, on=['disease-id', 'pubchem-id'], how='outer').fillna('')\n",
    "disease_chem_db.rename(columns={'gene-id': 'via-genes'}, inplace=True)\n",
    "del disease_chem_db['type']\n",
    "del dc_inferred, chem_dis_curated\n",
    "\n",
    "disease_chem_db.head(1)"
   ]
  },
  {
   "cell_type": "markdown",
   "metadata": {},
   "source": [
    "### 3. Gene page"
   ]
  },
  {
   "cell_type": "markdown",
   "metadata": {},
   "source": [
    "#### Gene-chemical"
   ]
  },
  {
   "cell_type": "code",
   "execution_count": 75,
   "metadata": {},
   "outputs": [
    {
     "data": {
      "text/html": [
       "<div>\n",
       "<style scoped>\n",
       "    .dataframe tbody tr th:only-of-type {\n",
       "        vertical-align: middle;\n",
       "    }\n",
       "\n",
       "    .dataframe tbody tr th {\n",
       "        vertical-align: top;\n",
       "    }\n",
       "\n",
       "    .dataframe thead th {\n",
       "        text-align: right;\n",
       "    }\n",
       "</style>\n",
       "<table border=\"1\" class=\"dataframe\">\n",
       "  <thead>\n",
       "    <tr style=\"text-align: right;\">\n",
       "      <th></th>\n",
       "      <th>gene-id</th>\n",
       "      <th>pubchem-id</th>\n",
       "      <th>disease-id</th>\n",
       "    </tr>\n",
       "  </thead>\n",
       "  <tbody>\n",
       "    <tr>\n",
       "      <th>0</th>\n",
       "      <td>10</td>\n",
       "      <td>10208</td>\n",
       "      <td>MESH:D056486</td>\n",
       "    </tr>\n",
       "    <tr>\n",
       "      <th>1</th>\n",
       "      <td>10</td>\n",
       "      <td>10212</td>\n",
       "      <td>MESH:D056486</td>\n",
       "    </tr>\n",
       "  </tbody>\n",
       "</table>\n",
       "</div>"
      ],
      "text/plain": [
       "  gene-id pubchem-id    disease-id\n",
       "0      10      10208  MESH:D056486\n",
       "1      10      10212  MESH:D056486"
      ]
     },
     "execution_count": 75,
     "metadata": {},
     "output_type": "execute_result"
    }
   ],
   "source": [
    "# Curated\n",
    "chem_gene_curated = chem_gene.copy(deep=True)\n",
    "chem_gene_curated['gene-id'] = chem_gene_curated['gene-id'].apply(str)\n",
    "chem_gene_curated['pubchem-id'] = chem_gene_curated['pubchem-id'].apply(str)\n",
    "\n",
    "# Inferred through diseases\n",
    "gc_inferred = list()\n",
    "for gene, dislst in gene2dis.items():\n",
    "    for dis in dislst:\n",
    "        for chem in dis2chem[dis]:\n",
    "            gc_inferred.append([str(gene), str(chem), dis])\n",
    "            \n",
    "gc_inferred = pd.DataFrame(gc_inferred, columns=['gene-id', 'pubchem-id', 'disease-id'])\n",
    "gc_inferred = gc_inferred.groupby(['gene-id', 'pubchem-id']).agg(lambda s: '|'.join(s)).reset_index()\n",
    "gc_inferred.head(2)"
   ]
  },
  {
   "cell_type": "code",
   "execution_count": 74,
   "metadata": {},
   "outputs": [
    {
     "data": {
      "text/html": [
       "<div>\n",
       "<style scoped>\n",
       "    .dataframe tbody tr th:only-of-type {\n",
       "        vertical-align: middle;\n",
       "    }\n",
       "\n",
       "    .dataframe tbody tr th {\n",
       "        vertical-align: top;\n",
       "    }\n",
       "\n",
       "    .dataframe thead th {\n",
       "        text-align: right;\n",
       "    }\n",
       "</style>\n",
       "<table border=\"1\" class=\"dataframe\">\n",
       "  <thead>\n",
       "    <tr style=\"text-align: right;\">\n",
       "      <th></th>\n",
       "      <th>gene-id</th>\n",
       "      <th>pubchem-id</th>\n",
       "      <th>via-diseases</th>\n",
       "    </tr>\n",
       "  </thead>\n",
       "  <tbody>\n",
       "    <tr>\n",
       "      <th>0</th>\n",
       "      <td>10</td>\n",
       "      <td>10208</td>\n",
       "      <td>MESH:D056486</td>\n",
       "    </tr>\n",
       "  </tbody>\n",
       "</table>\n",
       "</div>"
      ],
      "text/plain": [
       "  gene-id pubchem-id  via-diseases\n",
       "0      10      10208  MESH:D056486"
      ]
     },
     "execution_count": 74,
     "metadata": {},
     "output_type": "execute_result"
    }
   ],
   "source": [
    "# Merge\n",
    "chem_gene_db = gc_inferred.merge(chem_gene_curated, on=['gene-id', 'pubchem-id'], how='outer').fillna('')\n",
    "chem_gene_db.rename(columns={'disease-id': 'via-diseases'}, inplace=True)\n",
    "del chem_gene_db['interaction-actions'], chem_gene_db['source']\n",
    "del gc_inferred, chem_gene_curated\n",
    "\n",
    "chem_gene_db.head(1)"
   ]
  }
 ],
 "metadata": {
  "kernelspec": {
   "display_name": "dietrx",
   "language": "python",
   "name": "dietrx"
  },
  "language_info": {
   "codemirror_mode": {
    "name": "ipython",
    "version": 3
   },
   "file_extension": ".py",
   "mimetype": "text/x-python",
   "name": "python",
   "nbconvert_exporter": "python",
   "pygments_lexer": "ipython3",
   "version": "3.6.5"
  }
 },
 "nbformat": 4,
 "nbformat_minor": 2
}
