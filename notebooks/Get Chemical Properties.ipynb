{
 "cells": [
  {
   "cell_type": "code",
   "execution_count": 2,
   "metadata": {},
   "outputs": [],
   "source": [
    "import pandas as pd\n",
    "import pubchempy as pcp\n",
    "from pybel import readstring, readfile\n",
    "import requests\n",
    "import time\n",
    "from pychem.pychem import *\n",
    "from rdkit import Chem\n",
    "from StringIO import StringIO\n",
    "from glob import glob\n",
    "from subprocess import check_output, CalledProcessError\n",
    "\n",
    "DATA = '../data/version-3/'"
   ]
  },
  {
   "cell_type": "code",
   "execution_count": 3,
   "metadata": {},
   "outputs": [
    {
     "name": "stdout",
     "output_type": "stream",
     "text": [
      "('Unique chemicals: ', 6992)\n"
     ]
    }
   ],
   "source": [
    "chemicals = pd.read_csv(DATA+'food-chemical.tsv', sep='\\t')\n",
    "print(\"Unique chemicals: \", len(set(chemicals['pubchem-id'])))"
   ]
  },
  {
   "cell_type": "markdown",
   "metadata": {
    "heading_collapsed": true
   },
   "source": [
    "### Get PubChem SDF Files"
   ]
  },
  {
   "cell_type": "raw",
   "metadata": {
    "hidden": true
   },
   "source": [
    "sdf_files = list()\n",
    "completed = set()"
   ]
  },
  {
   "cell_type": "raw",
   "metadata": {
    "hidden": true
   },
   "source": [
    "while len(sdf_files) != len(set(chemicals['pubchem-id'])):\n",
    "    try:\n",
    "        for i, pubchem in enumerate(set(chemicals['pubchem-id'])):\n",
    "            if i not in completed:\n",
    "                r = requests.get('https://pubchem.ncbi.nlm.nih.gov/rest/pug/compound/cid/%i/SDF' % pubchem)\n",
    "                sdf_files.append(readstring('sdf', r.text))\n",
    "                completed.add(i)\n",
    "\n",
    "            if i % 100 == 0:\n",
    "                print(\"Completed: %i\" % len(sdf_files))\n",
    "    except KeyboardInterrupt:\n",
    "        break\n",
    "    except:\n",
    "        print(\"Sleeping for a lil time.\")\n",
    "        time.sleep(30)"
   ]
  },
  {
   "cell_type": "raw",
   "metadata": {
    "hidden": true
   },
   "source": [
    "# Write sdf files to disk.\n",
    "for f in sdf_files:\n",
    "    f.write('sdf', filename='../data/version-3/sdf-files/' + f.title + '.sdf')"
   ]
  },
  {
   "cell_type": "markdown",
   "metadata": {},
   "source": [
    "### Generate ChemoPy properties"
   ]
  },
  {
   "cell_type": "code",
   "execution_count": 4,
   "metadata": {},
   "outputs": [],
   "source": [
    "# Get properties.\n",
    "def generate_properties(mol):\n",
    "    props = {}\n",
    "    try:\n",
    "        props.update(constitution.GetConstitutional(mol))\n",
    "        props.update(connectivity.GetConnectivity(mol))\n",
    "        props.update(kappa.GetKappa(mol))\n",
    "        props.update(bcut.GetBurden(mol))\n",
    "        props.update(estate.GetEstate(mol))\n",
    "        props.update(basak.Getbasak(mol))\n",
    "        props.update(moran.GetMoranAuto(mol))\n",
    "        props.update(geary.GetGearyAuto(mol))\n",
    "        props.update(molproperty.GetMolecularProperty(mol))\n",
    "        props.update(charge.GetCharge(mol))\n",
    "        props.update(moe.GetMOE(mol))\n",
    "    except:\n",
    "        pass\n",
    "\n",
    "    return props\n",
    "\n"
   ]
  },
  {
   "cell_type": "code",
   "execution_count": 16,
   "metadata": {},
   "outputs": [],
   "source": [
    "sdf_files = [readfile('sdf', f).next() for f in glob(DATA+'sdf-files/*.sdf')]\n",
    "properties = list()\n",
    "details = list()\n",
    "covered = set()"
   ]
  },
  {
   "cell_type": "code",
   "execution_count": 25,
   "metadata": {},
   "outputs": [
    {
     "name": "stdout",
     "output_type": "stream",
     "text": [
      "Completed: 0\n"
     ]
    },
    {
     "name": "stderr",
     "output_type": "stream",
     "text": [
      "/Users/rudraksh/miniconda3/envs/bsserver/lib/python2.7/site-packages/numpy/core/fromnumeric.py:2957: RuntimeWarning: Mean of empty slice.\n",
      "  out=out, **kwargs)\n",
      "/Users/rudraksh/miniconda3/envs/bsserver/lib/python2.7/site-packages/numpy/core/_methods.py:80: RuntimeWarning: invalid value encountered in double_scalars\n",
      "  ret = ret.dtype.type(ret / rcount)\n"
     ]
    },
    {
     "name": "stdout",
     "output_type": "stream",
     "text": [
      "Completed: 100\n",
      "Completed: 200\n",
      "Completed: 300\n",
      "Completed: 400\n",
      "Completed: 500\n",
      "Completed: 600\n"
     ]
    },
    {
     "name": "stderr",
     "output_type": "stream",
     "text": [
      "/Users/rudraksh/miniconda3/envs/bsserver/lib/python2.7/site-packages/pychem/charge.py:448: RuntimeWarning: invalid value encountered in greater\n",
      "  return round(numpy.mean(cc[cc>0]),3)\n"
     ]
    },
    {
     "name": "stdout",
     "output_type": "stream",
     "text": [
      "Completed: 700\n",
      "Completed: 800\n",
      "Completed: 900\n"
     ]
    },
    {
     "name": "stderr",
     "output_type": "stream",
     "text": [
      "/Users/rudraksh/miniconda3/envs/bsserver/lib/python2.7/site-packages/pychem/charge.py:420: RuntimeWarning: invalid value encountered in greater\n",
      "  return round(sum(cc[cc>0]),3)\n",
      "/Users/rudraksh/miniconda3/envs/bsserver/lib/python2.7/site-packages/pychem/charge.py:477: RuntimeWarning: invalid value encountered in less\n",
      "  return round(sum(cc[cc<0]),3)\n",
      "/Users/rudraksh/miniconda3/envs/bsserver/lib/python2.7/site-packages/pychem/charge.py:626: RuntimeWarning: invalid value encountered in less\n",
      "  if sum(cc[cc<0])==0:\n",
      "/Users/rudraksh/miniconda3/envs/bsserver/lib/python2.7/site-packages/pychem/charge.py:593: RuntimeWarning: invalid value encountered in greater\n",
      "  if sum(cc[cc>0])==0:\n",
      "/Users/rudraksh/miniconda3/envs/bsserver/lib/python2.7/site-packages/pychem/charge.py:506: RuntimeWarning: invalid value encountered in less\n",
      "  return round(numpy.mean(cc[cc<0]),3)\n"
     ]
    },
    {
     "name": "stdout",
     "output_type": "stream",
     "text": [
      "Completed: 1000\n",
      "Completed: 1100\n",
      "Completed: 1200\n",
      "Completed: 1300\n",
      "Completed: 1400\n",
      "Completed: 1500\n",
      "Completed: 1600\n",
      "Completed: 1700\n",
      "Completed: 1800\n",
      "Completed: 1900\n",
      "Completed: 2000\n",
      "Completed: 2100\n",
      "Completed: 2200\n",
      "Completed: 2300\n",
      "Completed: 2400\n",
      "Completed: 2500\n",
      "Completed: 2600\n",
      "Completed: 2700\n",
      "Completed: 2800\n",
      "Completed: 2900\n"
     ]
    },
    {
     "name": "stderr",
     "output_type": "stream",
     "text": [
      "/Users/rudraksh/miniconda3/envs/bsserver/lib/python2.7/site-packages/pychem/connectivity.py:546: RuntimeWarning: invalid value encountered in sqrt\n",
      "  res=sum(numpy.sqrt(1./deltas))\n"
     ]
    },
    {
     "name": "stdout",
     "output_type": "stream",
     "text": [
      "Completed: 3000\n",
      "Completed: 3100\n",
      "Completed: 3200\n",
      "Completed: 3300\n",
      "Completed: 3400\n",
      "Completed: 3500\n",
      "Completed: 3600\n",
      "Completed: 3700\n",
      "Completed: 3800\n",
      "Completed: 3900\n",
      "Completed: 4000\n",
      "Completed: 4100\n",
      "Completed: 4200\n",
      "Completed: 4300\n",
      "Completed: 4400\n",
      "Completed: 4500\n",
      "Completed: 4600\n",
      "Completed: 4700\n",
      "Completed: 4800\n",
      "Completed: 4900\n",
      "Completed: 5000\n",
      "Completed: 5100\n",
      "Completed: 5200\n",
      "Completed: 5300\n",
      "Completed: 5400\n",
      "Completed: 5500\n",
      "Completed: 5600\n",
      "Completed: 5700\n",
      "Completed: 5800\n",
      "Completed: 5900\n",
      "Completed: 6000\n",
      "Completed: 6100\n",
      "Completed: 6200\n",
      "Completed: 6300\n",
      "Completed: 6400\n",
      "Completed: 6500\n",
      "Completed: 6600\n",
      "Completed: 6700\n",
      "Completed: 6800\n",
      "Completed: 6900\n"
     ]
    },
    {
     "name": "stderr",
     "output_type": "stream",
     "text": [
      "/Users/rudraksh/miniconda3/envs/bsserver/lib/python2.7/site-packages/pychem/connectivity.py:991: RuntimeWarning: divide by zero encountered in double_scalars\n",
      "  accum=accum+1./numpy.sqrt(deltas1.prod())\n",
      "/Users/rudraksh/miniconda3/envs/bsserver/lib/python2.7/site-packages/pychem/connectivity.py:929: RuntimeWarning: divide by zero encountered in double_scalars\n",
      "  accum=accum+1./numpy.sqrt(deltas1.prod())\n",
      "/Users/rudraksh/miniconda3/envs/bsserver/lib/python2.7/site-packages/pychem/connectivity.py:959: RuntimeWarning: divide by zero encountered in double_scalars\n",
      "  accum=accum+1./numpy.sqrt(deltas1.prod())\n",
      "/Users/rudraksh/miniconda3/envs/bsserver/lib/python2.7/site-packages/pychem/connectivity.py:1010: RuntimeWarning: invalid value encountered in double_scalars\n",
      "  return abs(CalculateChiv3c(mol)-CalculateChiv4pc(mol))\n"
     ]
    }
   ],
   "source": [
    "for i, mol in enumerate(sdf_files):\n",
    "    if i not in covered:\n",
    "        molecule = Chem.MolFromMolBlock(mol.write('sdf'))\n",
    "        properties.append(generate_properties(molecule))\n",
    "        details.append(mol.data)\n",
    "\n",
    "    if i % 100 == 0:\n",
    "        print(\"Completed: %i\" % i)\n",
    "\n",
    "# Save pubchem info\n",
    "pubchem_info = pd.DataFrame([dict(d) for d in details])\n",
    "pubchem_info.to_csv(DATA+'pubchem_details.tsv', sep='\\t', encoding='utf-8', index=None)\n",
    "\n",
    "# Save chemical properties\n",
    "properties = pd.DataFrame(properties)\n",
    "properties.to_csv(DATA+'properties.tsv', sep='\\t', encoding='utf-8', index=None)"
   ]
  },
  {
   "cell_type": "markdown",
   "metadata": {},
   "source": [
    "### Get common names from PubChem"
   ]
  },
  {
   "cell_type": "code",
   "execution_count": 32,
   "metadata": {},
   "outputs": [],
   "source": [
    "pubchem_info = pd.read_csv(DATA+'pubchem_details.tsv', sep='\\t', encoding='utf-8')"
   ]
  },
  {
   "cell_type": "code",
   "execution_count": 33,
   "metadata": {},
   "outputs": [],
   "source": [
    "pchem2synonyms = dict()\n",
    "pchems = list(set(pubchem_info[u'PUBCHEM_COMPOUND_CID']) - {0})\n",
    "completed = set()"
   ]
  },
  {
   "cell_type": "code",
   "execution_count": 34,
   "metadata": {
    "collapsed": true
   },
   "outputs": [
    {
     "name": "stdout",
     "output_type": "stream",
     "text": [
      "('Completed: ', 96)\n",
      "('Completed: ', 189)\n",
      "('Completed: ', 289)\n",
      "('Completed: ', 389)\n",
      "('Completed: ', 482)\n",
      "('Completed: ', 577)\n",
      "('Completed: ', 676)\n",
      "('Completed: ', 770)\n",
      "('Completed: ', 861)\n",
      "('Completed: ', 949)\n",
      "('Completed: ', 1040)\n",
      "('Completed: ', 1130)\n",
      "('Completed: ', 1219)\n",
      "('Completed: ', 1317)\n",
      "('Completed: ', 1412)\n",
      "('Completed: ', 1509)\n",
      "('Completed: ', 1606)\n",
      "('Completed: ', 1706)\n",
      "('Completed: ', 1801)\n",
      "('Completed: ', 1897)\n",
      "('Completed: ', 1996)\n",
      "('Completed: ', 2092)\n",
      "('Completed: ', 2192)\n",
      "('Completed: ', 2289)\n",
      "('Completed: ', 2383)\n",
      "('Completed: ', 2478)\n",
      "('Completed: ', 2573)\n",
      "('Completed: ', 2669)\n",
      "('Completed: ', 2767)\n",
      "('Completed: ', 2865)\n",
      "('Completed: ', 2954)\n",
      "('Completed: ', 3050)\n",
      "('Completed: ', 3144)\n",
      "('Completed: ', 3238)\n",
      "('Completed: ', 3335)\n",
      "('Completed: ', 3430)\n",
      "('Completed: ', 3523)\n",
      "('Completed: ', 3617)\n",
      "('Completed: ', 3716)\n",
      "('Completed: ', 3807)\n",
      "('Completed: ', 3902)\n",
      "('Completed: ', 3998)\n",
      "('Completed: ', 4092)\n",
      "('Completed: ', 4186)\n",
      "('Completed: ', 4284)\n",
      "('Completed: ', 4379)\n",
      "('Completed: ', 4474)\n",
      "('Completed: ', 4571)\n",
      "('Completed: ', 4664)\n",
      "('Completed: ', 4761)\n",
      "('Completed: ', 4848)\n",
      "('Completed: ', 4942)\n",
      "('Completed: ', 5033)\n",
      "('Completed: ', 5130)\n",
      "('Completed: ', 5222)\n",
      "('Completed: ', 5320)\n",
      "('Completed: ', 5408)\n",
      "('Completed: ', 5502)\n",
      "('Completed: ', 5593)\n",
      "('Completed: ', 5687)\n",
      "('Completed: ', 5779)\n",
      "('Completed: ', 5873)\n",
      "('Completed: ', 5959)\n",
      "('Completed: ', 6055)\n",
      "('Completed: ', 6152)\n",
      "('Completed: ', 6249)\n",
      "('Completed: ', 6345)\n",
      "('Completed: ', 6439)\n",
      "('Completed: ', 6533)\n",
      "('Completed: ', 6618)\n"
     ]
    }
   ],
   "source": [
    "for i in range(0, len(pchems), 100):\n",
    "\n",
    "    if i not in completed:\n",
    "        subs_pchems = pchems[i: i+100] \n",
    "\n",
    "        for c in pcp.get_synonyms(subs_pchems):\n",
    "            try:\n",
    "                pchem2synonyms[c['CID']] = '|'.join(c['Synonym'])\n",
    "            except KeyError:\n",
    "                continue\n",
    "                \n",
    "        completed.add(i)\n",
    "    else:\n",
    "        continue\n",
    "\n",
    "    print(\"Completed: \", len(pchem2synonyms))"
   ]
  },
  {
   "cell_type": "code",
   "execution_count": 35,
   "metadata": {},
   "outputs": [],
   "source": [
    "synonyms = list()\n",
    "\n",
    "for pchem in pubchem_info['PUBCHEM_COMPOUND_CID']:\n",
    "    try: synonyms.append(pchem2synonyms[pchem])\n",
    "    except KeyError: synonyms.append('')\n",
    "        \n",
    "pubchem_info['synonyms'] = synonyms"
   ]
  },
  {
   "cell_type": "markdown",
   "metadata": {},
   "source": [
    "### Save subset of all properties"
   ]
  },
  {
   "cell_type": "code",
   "execution_count": 36,
   "metadata": {},
   "outputs": [],
   "source": [
    "properties = pd.read_csv(DATA+'properties.tsv', sep='\\t', encoding='utf-8')"
   ]
  },
  {
   "cell_type": "code",
   "execution_count": 37,
   "metadata": {},
   "outputs": [],
   "source": [
    "props_to_keep = ['Weight', 'nhyd', 'nring', 'nrot', 'ndonr', 'naccr', 'nta',\n",
    "                 'naro', 'nhev', 'Hy', 'LogP']\n",
    "\n",
    "chem_info = pd.concat([\n",
    "    pubchem_info[['PUBCHEM_COMPOUND_CID', 'synonyms', 'PUBCHEM_OPENEYE_CAN_SMILES', 'PUBCHEM_IUPAC_INCHI',\n",
    "              'PUBCHEM_IUPAC_INCHIKEY', 'PUBCHEM_IUPAC_NAME', 'PUBCHEM_OPENEYE_ISO_SMILES',\n",
    "              'PUBCHEM_MOLECULAR_FORMULA']],\n",
    "    properties[props_to_keep]],\n",
    "    1)"
   ]
  },
  {
   "cell_type": "markdown",
   "metadata": {},
   "source": [
    "### Functional groups"
   ]
  },
  {
   "cell_type": "code",
   "execution_count": 38,
   "metadata": {},
   "outputs": [],
   "source": [
    "def generate_fg(smiles):\n",
    "    mol = readstring('smi', smiles)\n",
    "    mol.write('mol', 'temp.mol', overwrite=True)\n",
    "    out = check_output(['checkmol', '-p', '-e', 'temp.mol'])\n",
    "\n",
    "    # Process  and return output\n",
    "    return ','.join([o.split(':')[0][1:] for o in out.split('\\n') if o])\n",
    "\n",
    "fgs = list()"
   ]
  },
  {
   "cell_type": "code",
   "execution_count": 39,
   "metadata": {
    "scrolled": true
   },
   "outputs": [
    {
     "name": "stdout",
     "output_type": "stream",
     "text": [
      "0\n",
      "100\n",
      "200\n",
      "300\n",
      "400\n",
      "500\n",
      "600\n",
      "700\n",
      "800\n",
      "900\n",
      "1000\n",
      "1100\n",
      "1200\n",
      "1300\n",
      "1400\n",
      "1500\n",
      "1600\n",
      "1700\n",
      "1800\n",
      "1900\n",
      "2000\n",
      "2100\n",
      "2200\n",
      "2300\n",
      "2400\n",
      "2500\n",
      "2600\n",
      "2700\n",
      "2800\n",
      "2900\n",
      "3000\n",
      "3100\n",
      "3200\n",
      "3300\n",
      "3400\n",
      "3500\n",
      "3600\n",
      "3700\n",
      "3800\n",
      "3900\n",
      "4000\n",
      "4100\n",
      "4200\n",
      "4300\n",
      "4400\n",
      "4500\n",
      "4600\n",
      "4700\n",
      "4800\n",
      "4900\n",
      "5000\n",
      "5100\n",
      "5200\n",
      "5300\n",
      "5400\n",
      "5500\n",
      "5600\n",
      "5700\n",
      "5800\n",
      "5900\n",
      "6000\n",
      "6100\n",
      "6200\n",
      "6300\n",
      "6400\n",
      "6500\n",
      "6600\n",
      "6700\n",
      "6800\n",
      "6900\n"
     ]
    }
   ],
   "source": [
    "for i, smi in enumerate(chem_info['PUBCHEM_OPENEYE_ISO_SMILES']):\n",
    "    try:\n",
    "        fg = generate_fg(smi)\n",
    "        fgs.append([smi, fg])\n",
    "    except CalledProcessError:\n",
    "        fgs.append([smi, ''])\n",
    "        \n",
    "    if i % 100 == 0:\n",
    "        print(i)\n",
    "        \n",
    "fgs_df = pd.DataFrame(fgs, columns=['smiles', 'functional_groups'])"
   ]
  },
  {
   "cell_type": "code",
   "execution_count": 40,
   "metadata": {},
   "outputs": [],
   "source": [
    "# Add to main dataframe\n",
    "chem_info['functional_group_idx'] = fgs_df['functional_groups'].fillna('').tolist()\n",
    "\n",
    "# Read mapping from functional group idx to name\n",
    "fgidx_map = pd.read_csv('../../bittersweet-server/data/haider_fg_list.tsv',\n",
    "                        sep='\\t', encoding='utf-8', dtype=str)\n",
    "fgidx_map = fgidx_map.set_index('id').to_dict()['functional_group']\n",
    "\n",
    "chem_info['functional_group'] = chem_info['functional_group_idx'].map(\n",
    "    lambda s: ', '.join([fgidx_map[fidx].capitalize() for fidx in s.split(',')]) if (s != '') else '')"
   ]
  },
  {
   "cell_type": "code",
   "execution_count": 48,
   "metadata": {},
   "outputs": [],
   "source": [
    "import pickle as pkl\n",
    "\n",
    "# Save list of functional groups present in db (for autocomplete)\n",
    "unique_fgs = [fg for fglst in chem_info['functional_group'] .map(lambda s: s.split(', ')) for fg in fglst]\n",
    "unique_fgs = list(set(unique_fgs))\n",
    "\n",
    "pickle.dump(unique_fgs, open('../dietrx/static/unique_fgs.p', 'wb'))\n",
    "pkl.dump(fgidx_map, open('../dietrx/static/fgid2name.p', 'wb'))\n",
    "idxfg_map = {fg:id for id, fg in fgidx_map.items()}\n",
    "pkl.dump(idxfg_map, open('../dietrx/static/fgname2id.p', 'wb'))"
   ]
  },
  {
   "cell_type": "markdown",
   "metadata": {},
   "source": [
    "### Save chemical lexicon"
   ]
  },
  {
   "cell_type": "code",
   "execution_count": 44,
   "metadata": {},
   "outputs": [],
   "source": [
    "chem_info['common_name'] = chem_info['synonyms'].fillna('').map(lambda s: unicode(s.split('|')[0]) if s else u'').apply(unicode.title)"
   ]
  },
  {
   "cell_type": "code",
   "execution_count": 52,
   "metadata": {},
   "outputs": [],
   "source": [
    "# Change column names to match with db column names\n",
    "chem_info.rename(columns={\n",
    "    'PUBCHEM_COMPOUND_CID': 'pubchem_id',\n",
    "    'Weight':'molecular_weight',\n",
    "    'nhyd':'num_hydrogen_atoms',\n",
    "    'nring':'num_rings',\n",
    "    'nrot':'num_rotatablebonds',\n",
    "    'ndonr':'hbd_count',\n",
    "    'naccr':'hba_count',\n",
    "    'nta':'num_atoms',\n",
    "    'naro':'number_of_aromatic_bonds',\n",
    "    'nhev':'num_heavy_atoms',\n",
    "    'Hy':'hyrophilic_index',\n",
    "    'LogP':'alogp',\n",
    "    'PUBCHEM_OPENEYE_CAN_SMILES': 'canonical_smiles',\n",
    "    'PUBCHEM_IUPAC_INCHI': 'inchi',\n",
    "    'PUBCHEM_IUPAC_INCHIKEY': 'inchikey',\n",
    "    'PUBCHEM_IUPAC_NAME': 'iupac_name',\n",
    "    'PUBCHEM_OPENEYE_ISO_SMILES': 'isomeric_smiles',\n",
    "    'PUBCHEM_MOLECULAR_FORMULA': 'molecular_formula'\n",
    "}, inplace=True)"
   ]
  },
  {
   "cell_type": "code",
   "execution_count": 53,
   "metadata": {},
   "outputs": [],
   "source": [
    "# Save to disk\n",
    "chem_info.to_csv(DATA+'chemical-lexicon.tsv', sep='\\t', index=None)"
   ]
  },
  {
   "cell_type": "markdown",
   "metadata": {},
   "source": [
    "### Generate molecule images"
   ]
  },
  {
   "cell_type": "code",
   "execution_count": 26,
   "metadata": {},
   "outputs": [],
   "source": [
    "from rdkit.Chem import MolFromSmiles, Draw\n",
    "from rdkit.Chem.AllChem import Compute2DCoords\n",
    "from shutil import copy"
   ]
  },
  {
   "cell_type": "code",
   "execution_count": 35,
   "metadata": {},
   "outputs": [],
   "source": [
    "!rm {DATA/'images/'}\n",
    "!mkdir {DATA+'images/'}"
   ]
  },
  {
   "cell_type": "code",
   "execution_count": 81,
   "metadata": {
    "scrolled": true
   },
   "outputs": [
    {
     "name": "stdout",
     "output_type": "stream",
     "text": [
      "Completed: 0\n",
      "Completed: 100\n",
      "Completed: 200\n",
      "Completed: 300\n",
      "Completed: 400\n",
      "Completed: 500\n",
      "Completed: 600\n",
      "Completed: 700\n",
      "Completed: 800\n",
      "Completed: 900\n",
      "Completed: 1000\n",
      "Completed: 1100\n",
      "Completed: 1200\n",
      "Completed: 1300\n",
      "Completed: 1400\n",
      "Completed: 1500\n",
      "Completed: 1600\n",
      "Completed: 1700\n",
      "Completed: 1800\n",
      "Completed: 1900\n",
      "Completed: 2000\n",
      "Completed: 2100\n",
      "Completed: 2200\n",
      "Completed: 2300\n",
      "Completed: 2400\n",
      "Completed: 2500\n",
      "Completed: 2600\n",
      "Completed: 2700\n",
      "Completed: 2800\n",
      "Completed: 2900\n",
      "Completed: 3000\n",
      "Completed: 3100\n",
      "Completed: 3200\n",
      "Completed: 3300\n",
      "Completed: 3400\n",
      "Completed: 3500\n",
      "Completed: 3600\n",
      "Completed: 3700\n",
      "Completed: 3800\n",
      "Completed: 3900\n",
      "Completed: 4000\n",
      "Completed: 4100\n",
      "Completed: 4200\n",
      "Completed: 4300\n",
      "Completed: 4400\n",
      "Completed: 4500\n",
      "Completed: 4600\n",
      "Completed: 4700\n",
      "Completed: 4800\n",
      "Completed: 4900\n",
      "Completed: 5000\n",
      "Completed: 5100\n",
      "Completed: 5200\n",
      "Completed: 5300\n",
      "Completed: 5400\n",
      "Completed: 5500\n",
      "Completed: 5600\n",
      "Completed: 5700\n",
      "Completed: 5800\n",
      "Completed: 5900\n",
      "Completed: 6000\n",
      "Completed: 6100\n",
      "Completed: 6200\n",
      "Completed: 6300\n",
      "Completed: 6400\n",
      "Completed: 6500\n",
      "Completed: 6600\n",
      "Completed: 6700\n",
      "Completed: 6800\n",
      "Completed: 6900\n"
     ]
    }
   ],
   "source": [
    "for i, f in enumerate(sdf_files):\n",
    "    try:\n",
    "        m = Chem.MolFromMolBlock(f.write('mol'))\n",
    "        tmp = Compute2DCoords(m)\n",
    "        Draw.MolToFile(m, DATA+'images/' + f.title + '.png')\n",
    "    except KeyboardInterrupt:\n",
    "        break\n",
    "    except:\n",
    "        print(\"Error encountered.\")\n",
    "        copy('../../bittersweet-server/app/static/images/no-image.png', \n",
    "             DATA+'images/' + sdf_files[0].title + '.png')\n",
    "        \n",
    "    if i % 100 == 0:\n",
    "        print(\"Completed: %i\" % i)"
   ]
  },
  {
   "cell_type": "markdown",
   "metadata": {},
   "source": [
    "### Similarity Search"
   ]
  },
  {
   "cell_type": "code",
   "execution_count": 54,
   "metadata": {},
   "outputs": [],
   "source": [
    "from pybel import Outputfile, readstring"
   ]
  },
  {
   "cell_type": "code",
   "execution_count": 56,
   "metadata": {},
   "outputs": [],
   "source": [
    "chem_info = pd.read_csv(DATA+'chemical-lexicon.tsv', sep='\\t')"
   ]
  },
  {
   "cell_type": "code",
   "execution_count": 67,
   "metadata": {},
   "outputs": [],
   "source": [
    "largeSDfile = Outputfile(\"sdf\", \"../dietrx/static/allmol.sdf\", overwrite=True)\n",
    "for i, row in chem_info.iterrows():\n",
    "    m = readstring(\"smi\", row['isomeric_smiles'])\n",
    "    m.title = str(row['pubchem_id'])\n",
    "    m.data['pubchem_id'] = row['pubchem_id']\n",
    "    \n",
    "    largeSDfile.write(m)\n",
    "    \n",
    "largeSDfile.close()"
   ]
  },
  {
   "cell_type": "code",
   "execution_count": 69,
   "metadata": {},
   "outputs": [
    {
     "name": "stderr",
     "output_type": "stream",
     "text": [
      "This will prepare an index of allmol.sdf and may take some time...\n",
      "It contains 6993 molecules Estimated completion time 6.21868 seconds\n",
      "\n",
      " It took 6.29765 seconds\n",
      "6993 molecules converted\n",
      "23 audit log messages \n"
     ]
    }
   ],
   "source": [
    "%%bash\n",
    "cd ../dietrx/static/\n",
    "source activate bittersweetpy2\n",
    "babel allmol.sdf -ofs"
   ]
  }
 ],
 "metadata": {
  "kernelspec": {
   "display_name": "bsserver",
   "language": "python",
   "name": "bsserver"
  },
  "language_info": {
   "codemirror_mode": {
    "name": "ipython",
    "version": 2
   },
   "file_extension": ".py",
   "mimetype": "text/x-python",
   "name": "python",
   "nbconvert_exporter": "python",
   "pygments_lexer": "ipython2",
   "version": "2.7.14"
  }
 },
 "nbformat": 4,
 "nbformat_minor": 2
}
