{
 "cells": [
  {
   "cell_type": "code",
   "execution_count": 1,
   "metadata": {},
   "outputs": [],
   "source": [
    "import sys\n",
    "import os\n",
    "os.chdir('..')"
   ]
  },
  {
   "cell_type": "code",
   "execution_count": 49,
   "metadata": {},
   "outputs": [
    {
     "ename": "ModuleNotFoundError",
     "evalue": "No module named 'requests'",
     "output_type": "error",
     "traceback": [
      "\u001b[0;31m---------------------------------------------------------------------------\u001b[0m",
      "\u001b[0;31mModuleNotFoundError\u001b[0m                       Traceback (most recent call last)",
      "\u001b[0;32m<ipython-input-49-fb0a10ecced7>\u001b[0m in \u001b[0;36m<module>\u001b[0;34m()\u001b[0m\n\u001b[1;32m      2\u001b[0m \u001b[0;32mimport\u001b[0m \u001b[0mpandas\u001b[0m \u001b[0;32mas\u001b[0m \u001b[0mpd\u001b[0m\u001b[0;34m\u001b[0m\u001b[0m\n\u001b[1;32m      3\u001b[0m \u001b[0;32mfrom\u001b[0m \u001b[0mcollections\u001b[0m \u001b[0;32mimport\u001b[0m \u001b[0mdefaultdict\u001b[0m\u001b[0;34m\u001b[0m\u001b[0m\n\u001b[0;32m----> 4\u001b[0;31m \u001b[0;32mimport\u001b[0m \u001b[0mrequests\u001b[0m\u001b[0;34m\u001b[0m\u001b[0m\n\u001b[0m\u001b[1;32m      5\u001b[0m \u001b[0;32mfrom\u001b[0m \u001b[0mbs4\u001b[0m \u001b[0;32mimport\u001b[0m \u001b[0mBeautifulSoup\u001b[0m\u001b[0;34m\u001b[0m\u001b[0m\n\u001b[1;32m      6\u001b[0m \u001b[0;34m\u001b[0m\u001b[0m\n",
      "\u001b[0;31mModuleNotFoundError\u001b[0m: No module named 'requests'"
     ]
    }
   ],
   "source": [
    "from pathlib import Path\n",
    "import pandas as pd\n",
    "from collections import defaultdict\n",
    "import requests \n",
    "from bs4 import BeautifulSoup\n",
    "\n",
    "DATA = Path('data/version-3/')"
   ]
  },
  {
   "cell_type": "code",
   "execution_count": 9,
   "metadata": {},
   "outputs": [],
   "source": [
    "def clean_colnames(df):\n",
    "    df.columns = [col.replace(' ', '-').lower() for col in df.columns]"
   ]
  },
  {
   "cell_type": "markdown",
   "metadata": {},
   "source": [
    "## Vanilla Associations"
   ]
  },
  {
   "cell_type": "markdown",
   "metadata": {},
   "source": [
    "#### a. Food-Disease"
   ]
  },
  {
   "cell_type": "code",
   "execution_count": 3,
   "metadata": {},
   "outputs": [
    {
     "data": {
      "text/html": [
       "<div>\n",
       "<style scoped>\n",
       "    .dataframe tbody tr th:only-of-type {\n",
       "        vertical-align: middle;\n",
       "    }\n",
       "\n",
       "    .dataframe tbody tr th {\n",
       "        vertical-align: top;\n",
       "    }\n",
       "\n",
       "    .dataframe thead th {\n",
       "        text-align: right;\n",
       "    }\n",
       "</style>\n",
       "<table border=\"1\" class=\"dataframe\">\n",
       "  <thead>\n",
       "    <tr style=\"text-align: right;\">\n",
       "      <th></th>\n",
       "      <th>food-id</th>\n",
       "      <th>disease-id</th>\n",
       "      <th>association</th>\n",
       "      <th>pmid</th>\n",
       "    </tr>\n",
       "  </thead>\n",
       "  <tbody>\n",
       "    <tr>\n",
       "      <th>0</th>\n",
       "      <td>Plant ID:4045</td>\n",
       "      <td>MESH:D004487</td>\n",
       "      <td>negative</td>\n",
       "      <td>7398283</td>\n",
       "    </tr>\n",
       "  </tbody>\n",
       "</table>\n",
       "</div>"
      ],
      "text/plain": [
       "         food-id    disease-id association     pmid\n",
       "0  Plant ID:4045  MESH:D004487    negative  7398283"
      ]
     },
     "execution_count": 3,
     "metadata": {},
     "output_type": "execute_result"
    }
   ],
   "source": [
    "food_dis = pd.read_csv(DATA/'food-disease.tsv', sep='\\t', encoding='utf-8')\n",
    "food_dis.drop_duplicates(['food-id', 'disease-id', 'association', 'pmid'], inplace=True)\n",
    "food_dis = food_dis.where((pd.notnull(food_dis)), None)\n",
    "food_dis['association'] = food_dis['association'].apply(str.lower)\n",
    "food_dis = food_dis.loc[:, ['food-id', 'disease-id', 'association', 'pmid']]\n",
    "food_dis['pmid'] = food_dis['pmid'].apply(str)\n",
    "food2dis = defaultdict(lambda: set(),\n",
    "                       food_dis.groupby('food-id').agg(lambda s: set(s))['disease-id'].to_dict())\n",
    "food_dis.head(1)"
   ]
  },
  {
   "cell_type": "markdown",
   "metadata": {},
   "source": [
    "#### b. Food-Chemical"
   ]
  },
  {
   "cell_type": "code",
   "execution_count": 4,
   "metadata": {},
   "outputs": [
    {
     "data": {
      "text/html": [
       "<div>\n",
       "<style scoped>\n",
       "    .dataframe tbody tr th:only-of-type {\n",
       "        vertical-align: middle;\n",
       "    }\n",
       "\n",
       "    .dataframe tbody tr th {\n",
       "        vertical-align: top;\n",
       "    }\n",
       "\n",
       "    .dataframe thead th {\n",
       "        text-align: right;\n",
       "    }\n",
       "</style>\n",
       "<table border=\"1\" class=\"dataframe\">\n",
       "  <thead>\n",
       "    <tr style=\"text-align: right;\">\n",
       "      <th></th>\n",
       "      <th>food-id</th>\n",
       "      <th>pubchem-id</th>\n",
       "      <th>content</th>\n",
       "      <th>reference</th>\n",
       "    </tr>\n",
       "  </thead>\n",
       "  <tbody>\n",
       "    <tr>\n",
       "      <th>0</th>\n",
       "      <td>Plant ID:100170</td>\n",
       "      <td>5280378</td>\n",
       "      <td>Detected but not quantified</td>\n",
       "      <td>KNApSAcK</td>\n",
       "    </tr>\n",
       "  </tbody>\n",
       "</table>\n",
       "</div>"
      ],
      "text/plain": [
       "           food-id  pubchem-id                      content reference\n",
       "0  Plant ID:100170     5280378  Detected but not quantified  KNApSAcK"
      ]
     },
     "execution_count": 4,
     "metadata": {},
     "output_type": "execute_result"
    }
   ],
   "source": [
    "food_chem = pd.read_csv(DATA/'food-chemical.tsv', sep='\\t', encoding='utf-8')\n",
    "food2chem = defaultdict(lambda: set(),\n",
    "                        food_chem.groupby('food-id').agg(lambda s: set(s))['pubchem-id'].to_dict())\n",
    "\n",
    "food_chem.head(1)"
   ]
  },
  {
   "cell_type": "markdown",
   "metadata": {},
   "source": [
    "#### c. Gene-Disease"
   ]
  },
  {
   "cell_type": "code",
   "execution_count": 5,
   "metadata": {},
   "outputs": [
    {
     "data": {
      "text/html": [
       "<div>\n",
       "<style scoped>\n",
       "    .dataframe tbody tr th:only-of-type {\n",
       "        vertical-align: middle;\n",
       "    }\n",
       "\n",
       "    .dataframe tbody tr th {\n",
       "        vertical-align: top;\n",
       "    }\n",
       "\n",
       "    .dataframe thead th {\n",
       "        text-align: right;\n",
       "    }\n",
       "</style>\n",
       "<table border=\"1\" class=\"dataframe\">\n",
       "  <thead>\n",
       "    <tr style=\"text-align: right;\">\n",
       "      <th></th>\n",
       "      <th>disease-id</th>\n",
       "      <th>gene-id</th>\n",
       "      <th>source</th>\n",
       "    </tr>\n",
       "  </thead>\n",
       "  <tbody>\n",
       "    <tr>\n",
       "      <th>0</th>\n",
       "      <td>MESH:C000591739</td>\n",
       "      <td>1588</td>\n",
       "      <td>ORPHANET</td>\n",
       "    </tr>\n",
       "    <tr>\n",
       "      <th>1</th>\n",
       "      <td>MESH:C000596385</td>\n",
       "      <td>26504</td>\n",
       "      <td>UNIPROT</td>\n",
       "    </tr>\n",
       "    <tr>\n",
       "      <th>2</th>\n",
       "      <td>MESH:C000598645</td>\n",
       "      <td>9499</td>\n",
       "      <td>CTD_human;ORPHANET;UNIPROT</td>\n",
       "    </tr>\n",
       "    <tr>\n",
       "      <th>3</th>\n",
       "      <td>MESH:C000600608</td>\n",
       "      <td>29940</td>\n",
       "      <td>ORPHANET</td>\n",
       "    </tr>\n",
       "    <tr>\n",
       "      <th>4</th>\n",
       "      <td>MESH:C000600608</td>\n",
       "      <td>113189</td>\n",
       "      <td>CTD_human;ORPHANET;UNIPROT</td>\n",
       "    </tr>\n",
       "  </tbody>\n",
       "</table>\n",
       "</div>"
      ],
      "text/plain": [
       "        disease-id  gene-id                      source\n",
       "0  MESH:C000591739     1588                    ORPHANET\n",
       "1  MESH:C000596385    26504                     UNIPROT\n",
       "2  MESH:C000598645     9499  CTD_human;ORPHANET;UNIPROT\n",
       "3  MESH:C000600608    29940                    ORPHANET\n",
       "4  MESH:C000600608   113189  CTD_human;ORPHANET;UNIPROT"
      ]
     },
     "execution_count": 5,
     "metadata": {},
     "output_type": "execute_result"
    }
   ],
   "source": [
    "gene_dis = pd.read_csv(DATA/'gene-disease.tsv', sep='\\t', encoding='utf-8', index_col='Unnamed: 0')\n",
    "dis2gene = defaultdict(lambda: set(),\n",
    "                        gene_dis.groupby('disease-id').agg(lambda s: set(s))['gene-id'].to_dict())\n",
    "gene2dis = defaultdict(lambda: set(),\n",
    "                        gene_dis.groupby('gene-id').agg(lambda s: set(s))['disease-id'].to_dict())\n",
    "\n",
    "gene_dis.head()"
   ]
  },
  {
   "cell_type": "markdown",
   "metadata": {},
   "source": [
    "#### d. Chemical-Disease"
   ]
  },
  {
   "cell_type": "code",
   "execution_count": 6,
   "metadata": {},
   "outputs": [
    {
     "data": {
      "text/html": [
       "<div>\n",
       "<style scoped>\n",
       "    .dataframe tbody tr th:only-of-type {\n",
       "        vertical-align: middle;\n",
       "    }\n",
       "\n",
       "    .dataframe tbody tr th {\n",
       "        vertical-align: top;\n",
       "    }\n",
       "\n",
       "    .dataframe thead th {\n",
       "        text-align: right;\n",
       "    }\n",
       "</style>\n",
       "<table border=\"1\" class=\"dataframe\">\n",
       "  <thead>\n",
       "    <tr style=\"text-align: right;\">\n",
       "      <th></th>\n",
       "      <th>pubchem-id</th>\n",
       "      <th>disease-id</th>\n",
       "      <th>type</th>\n",
       "    </tr>\n",
       "  </thead>\n",
       "  <tbody>\n",
       "    <tr>\n",
       "      <th>0</th>\n",
       "      <td>19</td>\n",
       "      <td>MESH:D007674</td>\n",
       "      <td>therapeutic</td>\n",
       "    </tr>\n",
       "  </tbody>\n",
       "</table>\n",
       "</div>"
      ],
      "text/plain": [
       "   pubchem-id    disease-id         type\n",
       "0          19  MESH:D007674  therapeutic"
      ]
     },
     "execution_count": 6,
     "metadata": {},
     "output_type": "execute_result"
    }
   ],
   "source": [
    "chem_dis = pd.read_csv(DATA/'chemical-disease.tsv', sep='\\t', encoding='utf-8', index_col='Unnamed: 0')\n",
    "chem_dis = chem_dis.groupby(['pubchem-id', 'disease-id']).agg(lambda s: sorted(s)[-1]).reset_index()\n",
    "dis2chem = defaultdict(lambda: set(),\n",
    "                       chem_dis.groupby('disease-id').agg(lambda s: set(s))['pubchem-id'].to_dict())\n",
    "chem2dis = defaultdict(lambda: set(),\n",
    "                       chem_dis.groupby('pubchem-id').agg(lambda s: set(s))['disease-id'].to_dict())\n",
    "\n",
    "chem_dis.head(1)"
   ]
  },
  {
   "cell_type": "markdown",
   "metadata": {},
   "source": [
    "#### e. Chemical-Gene"
   ]
  },
  {
   "cell_type": "code",
   "execution_count": 7,
   "metadata": {},
   "outputs": [
    {
     "data": {
      "text/html": [
       "<div>\n",
       "<style scoped>\n",
       "    .dataframe tbody tr th:only-of-type {\n",
       "        vertical-align: middle;\n",
       "    }\n",
       "\n",
       "    .dataframe tbody tr th {\n",
       "        vertical-align: top;\n",
       "    }\n",
       "\n",
       "    .dataframe thead th {\n",
       "        text-align: right;\n",
       "    }\n",
       "</style>\n",
       "<table border=\"1\" class=\"dataframe\">\n",
       "  <thead>\n",
       "    <tr style=\"text-align: right;\">\n",
       "      <th></th>\n",
       "      <th>pubchem-id</th>\n",
       "      <th>gene-id</th>\n",
       "      <th>interaction-actions</th>\n",
       "      <th>source</th>\n",
       "    </tr>\n",
       "  </thead>\n",
       "  <tbody>\n",
       "    <tr>\n",
       "      <th>0</th>\n",
       "      <td>19</td>\n",
       "      <td>351</td>\n",
       "      <td>affects^binding|decreases^reaction</td>\n",
       "      <td>CTD</td>\n",
       "    </tr>\n",
       "    <tr>\n",
       "      <th>1</th>\n",
       "      <td>19</td>\n",
       "      <td>4313</td>\n",
       "      <td>decreases^activity|decreases^reaction|decrease...</td>\n",
       "      <td>CTD</td>\n",
       "    </tr>\n",
       "    <tr>\n",
       "      <th>2</th>\n",
       "      <td>51</td>\n",
       "      <td>3091</td>\n",
       "      <td>affects^binding|affects^cotreatment|increases^...</td>\n",
       "      <td>CTD</td>\n",
       "    </tr>\n",
       "    <tr>\n",
       "      <th>3</th>\n",
       "      <td>51</td>\n",
       "      <td>7428</td>\n",
       "      <td>affects^binding|affects^cotreatment|increases^...</td>\n",
       "      <td>CTD</td>\n",
       "    </tr>\n",
       "    <tr>\n",
       "      <th>4</th>\n",
       "      <td>51</td>\n",
       "      <td>8290</td>\n",
       "      <td>affects^cotreatment|decreases^methylation|incr...</td>\n",
       "      <td>CTD</td>\n",
       "    </tr>\n",
       "  </tbody>\n",
       "</table>\n",
       "</div>"
      ],
      "text/plain": [
       "   pubchem-id  gene-id                                interaction-actions  \\\n",
       "0          19      351                 affects^binding|decreases^reaction   \n",
       "1          19     4313  decreases^activity|decreases^reaction|decrease...   \n",
       "2          51     3091  affects^binding|affects^cotreatment|increases^...   \n",
       "3          51     7428  affects^binding|affects^cotreatment|increases^...   \n",
       "4          51     8290  affects^cotreatment|decreases^methylation|incr...   \n",
       "\n",
       "  source  \n",
       "0    CTD  \n",
       "1    CTD  \n",
       "2    CTD  \n",
       "3    CTD  \n",
       "4    CTD  "
      ]
     },
     "execution_count": 7,
     "metadata": {},
     "output_type": "execute_result"
    }
   ],
   "source": [
    "chem_gene = pd.read_csv(DATA/'chemical-gene.tsv', sep='\\t', encoding='utf-8')\n",
    "chem2gene = defaultdict(lambda: set(),\n",
    "                        chem_gene.groupby('pubchem-id').agg(lambda s: set(s))['gene-id'].to_dict())\n",
    "gene2chem = defaultdict(lambda: set(),\n",
    "                        chem_gene.groupby('gene-id').agg(lambda s: set(s))['pubchem-id'].to_dict())\n",
    "chem_gene.head()"
   ]
  },
  {
   "cell_type": "markdown",
   "metadata": {},
   "source": [
    "## Lexicons"
   ]
  },
  {
   "cell_type": "markdown",
   "metadata": {},
   "source": [
    "### A. Food "
   ]
  },
  {
   "cell_type": "code",
   "execution_count": 13,
   "metadata": {},
   "outputs": [
    {
     "data": {
      "text/html": [
       "<div>\n",
       "<style scoped>\n",
       "    .dataframe tbody tr th:only-of-type {\n",
       "        vertical-align: middle;\n",
       "    }\n",
       "\n",
       "    .dataframe tbody tr th {\n",
       "        vertical-align: top;\n",
       "    }\n",
       "\n",
       "    .dataframe thead th {\n",
       "        text-align: right;\n",
       "    }\n",
       "</style>\n",
       "<table border=\"1\" class=\"dataframe\">\n",
       "  <thead>\n",
       "    <tr style=\"text-align: right;\">\n",
       "      <th></th>\n",
       "      <th>common_names</th>\n",
       "      <th>food_id</th>\n",
       "      <th>food_category</th>\n",
       "      <th>display_name</th>\n",
       "      <th>scientific_name</th>\n",
       "      <th>tax_id</th>\n",
       "    </tr>\n",
       "  </thead>\n",
       "  <tbody>\n",
       "    <tr>\n",
       "      <th>0</th>\n",
       "      <td>alexanders; horse parsley</td>\n",
       "      <td>Plant ID:40962</td>\n",
       "      <td>Miscellaneous</td>\n",
       "      <td>Alexanders</td>\n",
       "      <td>Smyrnium olusatrum</td>\n",
       "      <td>40962</td>\n",
       "    </tr>\n",
       "    <tr>\n",
       "      <th>1</th>\n",
       "      <td>None</td>\n",
       "      <td>Plant ID:942083</td>\n",
       "      <td>Miscellaneous</td>\n",
       "      <td>Scrophularia umbrosa</td>\n",
       "      <td>Scrophularia umbrosa</td>\n",
       "      <td>942083</td>\n",
       "    </tr>\n",
       "    <tr>\n",
       "      <th>2</th>\n",
       "      <td>dotted blazing star</td>\n",
       "      <td>Plant ID:344074</td>\n",
       "      <td>Miscellaneous</td>\n",
       "      <td>Dotted blazing star</td>\n",
       "      <td>Liatris punctata</td>\n",
       "      <td>344074</td>\n",
       "    </tr>\n",
       "    <tr>\n",
       "      <th>3</th>\n",
       "      <td>plymouth pear</td>\n",
       "      <td>Plant ID:761867</td>\n",
       "      <td>Miscellaneous</td>\n",
       "      <td>Plymouth pear</td>\n",
       "      <td>Pyrus cordata</td>\n",
       "      <td>761867</td>\n",
       "    </tr>\n",
       "    <tr>\n",
       "      <th>4</th>\n",
       "      <td>None</td>\n",
       "      <td>Plant ID:49166</td>\n",
       "      <td>Miscellaneous</td>\n",
       "      <td>Rhododendron kaempferi</td>\n",
       "      <td>Rhododendron kaempferi</td>\n",
       "      <td>49166</td>\n",
       "    </tr>\n",
       "  </tbody>\n",
       "</table>\n",
       "</div>"
      ],
      "text/plain": [
       "                common_names          food_id  food_category  \\\n",
       "0  alexanders; horse parsley   Plant ID:40962  Miscellaneous   \n",
       "1                       None  Plant ID:942083  Miscellaneous   \n",
       "2        dotted blazing star  Plant ID:344074  Miscellaneous   \n",
       "3              plymouth pear  Plant ID:761867  Miscellaneous   \n",
       "4                       None   Plant ID:49166  Miscellaneous   \n",
       "\n",
       "             display_name         scientific_name  tax_id  \n",
       "0              Alexanders      Smyrnium olusatrum   40962  \n",
       "1    Scrophularia umbrosa    Scrophularia umbrosa  942083  \n",
       "2     Dotted blazing star        Liatris punctata  344074  \n",
       "3           Plymouth pear           Pyrus cordata  761867  \n",
       "4  Rhododendron kaempferi  Rhododendron kaempferi   49166  "
      ]
     },
     "execution_count": 13,
     "metadata": {},
     "output_type": "execute_result"
    }
   ],
   "source": [
    "# Read file\n",
    "foodlex = pd.read_csv(DATA/'food-lexicon-automated.tsv', sep='\\t', encoding='utf-8')\n",
    "clean_colnames(foodlex)\n",
    "\n",
    "del foodlex['foodb-group'], foodlex['foodb-subgroup']\n",
    "\n",
    "# Replace NaN with None\n",
    "foodlex = foodlex.where((pd.notnull(foodlex)), None)\n",
    "\n",
    "# Rename columns to match db schema.\n",
    "foodlex.rename(columns={\n",
    "    'common-names': 'common_names',\n",
    "    'food-name': 'display_name',\n",
    "    'food-id': 'food_id',\n",
    "    'food-category': 'food_category',\n",
    "    'scientific-name': 'scientific_name',\n",
    "    'tax-id':'tax_id',\n",
    "}, inplace=True)\n",
    "\n",
    "foodlex.head()"
   ]
  },
  {
   "cell_type": "code",
   "execution_count": 24,
   "metadata": {},
   "outputs": [],
   "source": [
    "# Redundancy check\n",
    "assert len((set(food_dis['food-id']) | set(food_chem['food-id'])) - set(foodlex['food_id'])) == 0,\\\n",
    "    'Food lexicon is not exhaustive!'"
   ]
  },
  {
   "cell_type": "markdown",
   "metadata": {},
   "source": [
    "### B. Disease"
   ]
  },
  {
   "cell_type": "code",
   "execution_count": 26,
   "metadata": {},
   "outputs": [
    {
     "name": "stderr",
     "output_type": "stream",
     "text": [
      "b'Skipping line 5374: expected 9 fields, saw 10\\n'\n"
     ]
    },
    {
     "data": {
      "text/html": [
       "<div>\n",
       "<style scoped>\n",
       "    .dataframe tbody tr th:only-of-type {\n",
       "        vertical-align: middle;\n",
       "    }\n",
       "\n",
       "    .dataframe tbody tr th {\n",
       "        vertical-align: top;\n",
       "    }\n",
       "\n",
       "    .dataframe thead th {\n",
       "        text-align: right;\n",
       "    }\n",
       "</style>\n",
       "<table border=\"1\" class=\"dataframe\">\n",
       "  <thead>\n",
       "    <tr style=\"text-align: right;\">\n",
       "      <th></th>\n",
       "      <th>disease_id</th>\n",
       "      <th>disease_name</th>\n",
       "      <th>disease_category</th>\n",
       "      <th>disease_synonyms</th>\n",
       "    </tr>\n",
       "  </thead>\n",
       "  <tbody>\n",
       "    <tr>\n",
       "      <th>0</th>\n",
       "      <td>MESH:C538288</td>\n",
       "      <td>10p Deletion Syndrome (Partial)</td>\n",
       "      <td>Congenital abnormality|Genetic disease (inborn...</td>\n",
       "      <td>Chromosome 10, 10p- Partial|Chromosome 10, mon...</td>\n",
       "    </tr>\n",
       "    <tr>\n",
       "      <th>1</th>\n",
       "      <td>MESH:C535484</td>\n",
       "      <td>13q deletion syndrome</td>\n",
       "      <td>Congenital abnormality|Genetic disease (inborn...</td>\n",
       "      <td>Chromosome 13q deletion|Chromosome 13q deletio...</td>\n",
       "    </tr>\n",
       "    <tr>\n",
       "      <th>2</th>\n",
       "      <td>MESH:C579849</td>\n",
       "      <td>15q24 Microdeletion</td>\n",
       "      <td>Congenital abnormality|Genetic disease (inborn...</td>\n",
       "      <td>15q24 Deletion|15q24 Microdeletion Syndrome|In...</td>\n",
       "    </tr>\n",
       "    <tr>\n",
       "      <th>3</th>\n",
       "      <td>MESH:C579850</td>\n",
       "      <td>16p11.2 Deletion Syndrome</td>\n",
       "      <td>Congenital abnormality|Genetic disease (inborn...</td>\n",
       "      <td>None</td>\n",
       "    </tr>\n",
       "    <tr>\n",
       "      <th>4</th>\n",
       "      <td>MESH:C567076</td>\n",
       "      <td>17,20-Lyase Deficiency, Isolated</td>\n",
       "      <td>Congenital abnormality|Endocrine system diseas...</td>\n",
       "      <td>17-Alpha-Hydroxylase-17,20-Lyase Deficiency, C...</td>\n",
       "    </tr>\n",
       "  </tbody>\n",
       "</table>\n",
       "</div>"
      ],
      "text/plain": [
       "     disease_id                      disease_name  \\\n",
       "0  MESH:C538288   10p Deletion Syndrome (Partial)   \n",
       "1  MESH:C535484             13q deletion syndrome   \n",
       "2  MESH:C579849               15q24 Microdeletion   \n",
       "3  MESH:C579850         16p11.2 Deletion Syndrome   \n",
       "4  MESH:C567076  17,20-Lyase Deficiency, Isolated   \n",
       "\n",
       "                                    disease_category  \\\n",
       "0  Congenital abnormality|Genetic disease (inborn...   \n",
       "1  Congenital abnormality|Genetic disease (inborn...   \n",
       "2  Congenital abnormality|Genetic disease (inborn...   \n",
       "3  Congenital abnormality|Genetic disease (inborn...   \n",
       "4  Congenital abnormality|Endocrine system diseas...   \n",
       "\n",
       "                                    disease_synonyms  \n",
       "0  Chromosome 10, 10p- Partial|Chromosome 10, mon...  \n",
       "1  Chromosome 13q deletion|Chromosome 13q deletio...  \n",
       "2  15q24 Deletion|15q24 Microdeletion Syndrome|In...  \n",
       "3                                               None  \n",
       "4  17-Alpha-Hydroxylase-17,20-Lyase Deficiency, C...  "
      ]
     },
     "execution_count": 26,
     "metadata": {},
     "output_type": "execute_result"
    }
   ],
   "source": [
    "dislex = pd.read_csv(DATA/'CTD_diseases_new.tsv', sep='\\t', encoding='utf-8', error_bad_lines=False)\n",
    "\n",
    "# Keep only selected columns.\n",
    "dislex = dislex[['DiseaseID', 'DiseaseName', 'SlimMappings', 'Synonyms']]\n",
    "\n",
    "# Replace nan with None\n",
    "dislex = dislex.where((pd.notnull(dislex)), None)\n",
    "\n",
    "# Rename to match schema\n",
    "dislex.rename(columns={\n",
    "    'DiseaseID': 'disease_id',\n",
    "    'DiseaseName': 'disease_name',\n",
    "    'SlimMappings': 'disease_category',\n",
    "    'Synonyms': 'disease_synonyms'\n",
    "}, inplace=True)\n",
    "\n",
    "dislex.head()"
   ]
  },
  {
   "cell_type": "code",
   "execution_count": 29,
   "metadata": {},
   "outputs": [],
   "source": [
    "# Redundancy check\n",
    "assert len((set(food_dis['disease-id']) | set(chem_dis['disease-id']) | set(gene_dis['disease-id'])) \n",
    "           - set(dislex['disease_id'])) == 0,\\\n",
    "    'Disease lexicon is not exhaustive!'\n",
    "\n",
    "# Subset disease lexicon\n",
    "dislex = dislex.set_index('disease_id').\\\n",
    "    loc[list(set(food_dis['disease-id']) | set(chem_dis['disease-id']) | set(gene_dis['disease-id']))].\\\n",
    "    reset_index()"
   ]
  },
  {
   "cell_type": "markdown",
   "metadata": {},
   "source": [
    "### C. Chemical"
   ]
  },
  {
   "cell_type": "code",
   "execution_count": 40,
   "metadata": {},
   "outputs": [],
   "source": [
    "chem = pd.read_csv(DATA/'chemical-lexicon.tsv', sep='\\t', encoding='utf-8').drop_duplicates(['pubchem_id'])\n",
    "\n",
    "# Replace nan with null values\n",
    "chem = chem.where((pd.notnull(chem)), None)\n",
    "\n",
    "# Rename columns\n",
    "chem.rename(columns={'canonical_smiles': 'smiles',},inplace=True)\n",
    "\n",
    "del chem['inchi'], chem['inchikey']"
   ]
  },
  {
   "cell_type": "code",
   "execution_count": 43,
   "metadata": {},
   "outputs": [],
   "source": [
    "# Redundancy check\n",
    "assert len((set(food_chem['pubchem-id']) | set(chem_dis['pubchem-id']) | set(chem_gene['pubchem-id'])) \n",
    "           - set(chem['pubchem_id'])) == 0,\\\n",
    "    'Chemical lexicon is not exhaustive!'"
   ]
  },
  {
   "cell_type": "markdown",
   "metadata": {},
   "source": [
    "### D. Gene"
   ]
  },
  {
   "cell_type": "code",
   "execution_count": 46,
   "metadata": {},
   "outputs": [],
   "source": [
    "genes = list(set(gene_dis['gene-id']) | set(chem_gene))"
   ]
  },
  {
   "cell_type": "code",
   "execution_count": 48,
   "metadata": {},
   "outputs": [
    {
     "data": {
      "text/plain": [
       "8869"
      ]
     },
     "execution_count": 48,
     "metadata": {},
     "output_type": "execute_result"
    }
   ],
   "source": [
    "len(genes)"
   ]
  },
  {
   "cell_type": "code",
   "execution_count": null,
   "metadata": {},
   "outputs": [],
   "source": []
  }
 ],
 "metadata": {
  "kernelspec": {
   "display_name": "dietrx",
   "language": "python",
   "name": "dietrx"
  },
  "language_info": {
   "codemirror_mode": {
    "name": "ipython",
    "version": 3
   },
   "file_extension": ".py",
   "mimetype": "text/x-python",
   "name": "python",
   "nbconvert_exporter": "python",
   "pygments_lexer": "ipython3",
   "version": "3.6.5"
  }
 },
 "nbformat": 4,
 "nbformat_minor": 2
}
