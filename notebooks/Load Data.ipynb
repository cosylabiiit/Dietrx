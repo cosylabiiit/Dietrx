{
 "cells": [
  {
   "cell_type": "code",
   "execution_count": 1,
   "metadata": {},
   "outputs": [],
   "source": [
    "import sys\n",
    "sys.path.append('..')"
   ]
  },
  {
   "cell_type": "code",
   "execution_count": 2,
   "metadata": {},
   "outputs": [],
   "source": [
    "from pathlib import Path\n",
    "import dietrx\n",
    "from dietrx import app\n",
    "from dietrx import db\n",
    "from dietrx.models import *\n",
    "\n",
    "import pandas as pd\n",
    "\n",
    "DATA = Path('../data/version-2/')"
   ]
  },
  {
   "cell_type": "code",
   "execution_count": 3,
   "metadata": {},
   "outputs": [],
   "source": [
    "def add_to_db(obj, dl):\n",
    "    for i, item in enumerate(dl):\n",
    "        db.session.add(obj(**item))\n",
    "\n",
    "        if (i+1) % 10000 == 0:\n",
    "            db.session.commit()\n",
    "    db.session.commit()\n",
    "    \n",
    "    \n",
    "def remove_from_db(obj):\n",
    "    for i, o in enumerate(obj.query.all()):\n",
    "        db.session.delete(o)\n",
    "        \n",
    "        if (i+1) % 10000 == 0:\n",
    "            db.session.commit()\n",
    "            \n",
    "    db.session.commit()"
   ]
  },
  {
   "cell_type": "markdown",
   "metadata": {},
   "source": [
    "### Delete previous data in DB"
   ]
  },
  {
   "cell_type": "code",
   "execution_count": 4,
   "metadata": {},
   "outputs": [],
   "source": [
    "remove_from_db(Food_disease)\n",
    "remove_from_db(Disease_gene)\n",
    "remove_from_db(Food_gene)\n",
    "remove_from_db(Food)\n",
    "remove_from_db(Disease)\n",
    "remove_from_db(Gene)\n",
    "remove_from_db(References)\n",
    "remove_from_db(Chemical)\n",
    "remove_from_db(Chemical_disease)\n",
    "remove_from_db(Food_chemical)"
   ]
  },
  {
   "cell_type": "markdown",
   "metadata": {},
   "source": [
    "## A. Lexicons"
   ]
  },
  {
   "cell_type": "markdown",
   "metadata": {},
   "source": [
    "### Food Lexicon"
   ]
  },
  {
   "cell_type": "code",
   "execution_count": 5,
   "metadata": {},
   "outputs": [
    {
     "data": {
      "text/html": [
       "<div>\n",
       "<style scoped>\n",
       "    .dataframe tbody tr th:only-of-type {\n",
       "        vertical-align: middle;\n",
       "    }\n",
       "\n",
       "    .dataframe tbody tr th {\n",
       "        vertical-align: top;\n",
       "    }\n",
       "\n",
       "    .dataframe thead th {\n",
       "        text-align: right;\n",
       "    }\n",
       "</style>\n",
       "<table border=\"1\" class=\"dataframe\">\n",
       "  <thead>\n",
       "    <tr style=\"text-align: right;\">\n",
       "      <th></th>\n",
       "      <th>common-names</th>\n",
       "      <th>food-name</th>\n",
       "      <th>food-id</th>\n",
       "      <th>food-category</th>\n",
       "      <th>scientific-name</th>\n",
       "      <th>tax-id</th>\n",
       "    </tr>\n",
       "  </thead>\n",
       "  <tbody>\n",
       "    <tr>\n",
       "      <th>0</th>\n",
       "      <td>alexanders; horse parsley</td>\n",
       "      <td>Alexanders</td>\n",
       "      <td>Plant ID:40962</td>\n",
       "      <td>Miscellaneous</td>\n",
       "      <td>Smyrnium olusatrum</td>\n",
       "      <td>40962.0</td>\n",
       "    </tr>\n",
       "    <tr>\n",
       "      <th>1</th>\n",
       "      <td>NaN</td>\n",
       "      <td>Scrophularia umbrosa</td>\n",
       "      <td>Plant ID:942083</td>\n",
       "      <td>Miscellaneous</td>\n",
       "      <td>Scrophularia umbrosa</td>\n",
       "      <td>942083.0</td>\n",
       "    </tr>\n",
       "    <tr>\n",
       "      <th>2</th>\n",
       "      <td>dotted blazing star</td>\n",
       "      <td>Dotted blazing star</td>\n",
       "      <td>Plant ID:344074</td>\n",
       "      <td>Miscellaneous</td>\n",
       "      <td>Liatris punctata</td>\n",
       "      <td>344074.0</td>\n",
       "    </tr>\n",
       "    <tr>\n",
       "      <th>3</th>\n",
       "      <td>plymouth pear</td>\n",
       "      <td>Plymouth pear</td>\n",
       "      <td>Plant ID:761867</td>\n",
       "      <td>Miscellaneous</td>\n",
       "      <td>Pyrus cordata</td>\n",
       "      <td>761867.0</td>\n",
       "    </tr>\n",
       "    <tr>\n",
       "      <th>4</th>\n",
       "      <td>NaN</td>\n",
       "      <td>Rhododendron kaempferi</td>\n",
       "      <td>Plant ID:49166</td>\n",
       "      <td>Miscellaneous</td>\n",
       "      <td>Rhododendron kaempferi</td>\n",
       "      <td>49166.0</td>\n",
       "    </tr>\n",
       "  </tbody>\n",
       "</table>\n",
       "</div>"
      ],
      "text/plain": [
       "                common-names               food-name          food-id  \\\n",
       "0  alexanders; horse parsley              Alexanders   Plant ID:40962   \n",
       "1                        NaN    Scrophularia umbrosa  Plant ID:942083   \n",
       "2        dotted blazing star     Dotted blazing star  Plant ID:344074   \n",
       "3              plymouth pear           Plymouth pear  Plant ID:761867   \n",
       "4                        NaN  Rhododendron kaempferi   Plant ID:49166   \n",
       "\n",
       "   food-category         scientific-name    tax-id  \n",
       "0  Miscellaneous      Smyrnium olusatrum   40962.0  \n",
       "1  Miscellaneous    Scrophularia umbrosa  942083.0  \n",
       "2  Miscellaneous        Liatris punctata  344074.0  \n",
       "3  Miscellaneous           Pyrus cordata  761867.0  \n",
       "4  Miscellaneous  Rhododendron kaempferi   49166.0  "
      ]
     },
     "execution_count": 5,
     "metadata": {},
     "output_type": "execute_result"
    }
   ],
   "source": [
    "df = pd.read_csv('../data/version-2/food-lexicon.tsv', sep='\\t', encoding='utf-8')\n",
    "df.head()"
   ]
  },
  {
   "cell_type": "code",
   "execution_count": 6,
   "metadata": {},
   "outputs": [],
   "source": [
    "# Replace NaN with None\n",
    "df = df.where((pd.notnull(df)), None)\n",
    "\n",
    "# Rename columns to match db schema.\n",
    "df.rename(columns={\n",
    "    'common-names': 'common_names',\n",
    "    'food-name': 'display_name',\n",
    "    'food-id': 'food_id',\n",
    "    'food-category': 'food_category',\n",
    "    'scientific-name': 'scientific_name',\n",
    "    'tax-id':'tax_id',\n",
    "}, inplace=True)\n",
    "\n",
    "data_list= list(df.T.to_dict().values())"
   ]
  },
  {
   "cell_type": "code",
   "execution_count": 7,
   "metadata": {},
   "outputs": [],
   "source": [
    "add_to_db(Food, data_list)"
   ]
  },
  {
   "cell_type": "markdown",
   "metadata": {},
   "source": [
    "### Disease Lexicon"
   ]
  },
  {
   "cell_type": "code",
   "execution_count": 8,
   "metadata": {},
   "outputs": [
    {
     "data": {
      "text/html": [
       "<div>\n",
       "<style scoped>\n",
       "    .dataframe tbody tr th:only-of-type {\n",
       "        vertical-align: middle;\n",
       "    }\n",
       "\n",
       "    .dataframe tbody tr th {\n",
       "        vertical-align: top;\n",
       "    }\n",
       "\n",
       "    .dataframe thead th {\n",
       "        text-align: right;\n",
       "    }\n",
       "</style>\n",
       "<table border=\"1\" class=\"dataframe\">\n",
       "  <thead>\n",
       "    <tr style=\"text-align: right;\">\n",
       "      <th></th>\n",
       "      <th>disease-id</th>\n",
       "      <th>disease-name</th>\n",
       "      <th>other-ids</th>\n",
       "      <th>parent-ids</th>\n",
       "      <th>disease-treenum</th>\n",
       "      <th>disease-synonyms</th>\n",
       "      <th>disease-category</th>\n",
       "    </tr>\n",
       "  </thead>\n",
       "  <tbody>\n",
       "    <tr>\n",
       "      <th>0</th>\n",
       "      <td>OMIM:616890</td>\n",
       "      <td>SPLIT-FOOT MALFORMATION WITH MESOAXIAL POLYDAC...</td>\n",
       "      <td>NaN</td>\n",
       "      <td>MESH:D017689|MESH:D017880</td>\n",
       "      <td>C05.660.585.600/616890|C05.660.585/616890|C16....</td>\n",
       "      <td>SFMMP</td>\n",
       "      <td>Congenital abnormality|Musculoskeletal disease</td>\n",
       "    </tr>\n",
       "    <tr>\n",
       "      <th>1</th>\n",
       "      <td>MESH:D008924</td>\n",
       "      <td>Mite Infestations</td>\n",
       "      <td>DO:DOID:7894</td>\n",
       "      <td>MESH:D004478</td>\n",
       "      <td>C03.858.211.480</td>\n",
       "      <td>Acariasis|Infestation, Mite|Infestations, Mite...</td>\n",
       "      <td>Parasitic disease</td>\n",
       "    </tr>\n",
       "    <tr>\n",
       "      <th>2</th>\n",
       "      <td>MESH:D012600</td>\n",
       "      <td>Scoliosis</td>\n",
       "      <td>DO:DOID:0060249</td>\n",
       "      <td>MESH:D013121</td>\n",
       "      <td>C05.116.900.800.875</td>\n",
       "      <td>Scolioses</td>\n",
       "      <td>Musculoskeletal disease</td>\n",
       "    </tr>\n",
       "    <tr>\n",
       "      <th>3</th>\n",
       "      <td>MESH:D002291</td>\n",
       "      <td>Carcinoma, Papillary</td>\n",
       "      <td>DO:DOID:3113</td>\n",
       "      <td>MESH:D002277|MESH:D018307</td>\n",
       "      <td>C04.557.470.200.360|C04.557.470.700.360</td>\n",
       "      <td>Carcinomas, Papillary|Papillary Carcinoma|Papi...</td>\n",
       "      <td>Cancer</td>\n",
       "    </tr>\n",
       "    <tr>\n",
       "      <th>4</th>\n",
       "      <td>MESH:C567254</td>\n",
       "      <td>Diamond-Blackfan Anemia 7</td>\n",
       "      <td>OMIM:612562</td>\n",
       "      <td>MESH:D029503</td>\n",
       "      <td>C15.378.071.085.080.090/C567254|C15.378.071.75...</td>\n",
       "      <td>DBA7</td>\n",
       "      <td>Blood disease|Genetic disease (inborn)</td>\n",
       "    </tr>\n",
       "  </tbody>\n",
       "</table>\n",
       "</div>"
      ],
      "text/plain": [
       "     disease-id                                       disease-name  \\\n",
       "0   OMIM:616890  SPLIT-FOOT MALFORMATION WITH MESOAXIAL POLYDAC...   \n",
       "1  MESH:D008924                                  Mite Infestations   \n",
       "2  MESH:D012600                                          Scoliosis   \n",
       "3  MESH:D002291                               Carcinoma, Papillary   \n",
       "4  MESH:C567254                          Diamond-Blackfan Anemia 7   \n",
       "\n",
       "         other-ids                 parent-ids  \\\n",
       "0              NaN  MESH:D017689|MESH:D017880   \n",
       "1     DO:DOID:7894               MESH:D004478   \n",
       "2  DO:DOID:0060249               MESH:D013121   \n",
       "3     DO:DOID:3113  MESH:D002277|MESH:D018307   \n",
       "4      OMIM:612562               MESH:D029503   \n",
       "\n",
       "                                     disease-treenum  \\\n",
       "0  C05.660.585.600/616890|C05.660.585/616890|C16....   \n",
       "1                                    C03.858.211.480   \n",
       "2                                C05.116.900.800.875   \n",
       "3            C04.557.470.200.360|C04.557.470.700.360   \n",
       "4  C15.378.071.085.080.090/C567254|C15.378.071.75...   \n",
       "\n",
       "                                    disease-synonyms  \\\n",
       "0                                              SFMMP   \n",
       "1  Acariasis|Infestation, Mite|Infestations, Mite...   \n",
       "2                                          Scolioses   \n",
       "3  Carcinomas, Papillary|Papillary Carcinoma|Papi...   \n",
       "4                                               DBA7   \n",
       "\n",
       "                                 disease-category  \n",
       "0  Congenital abnormality|Musculoskeletal disease  \n",
       "1                               Parasitic disease  \n",
       "2                         Musculoskeletal disease  \n",
       "3                                          Cancer  \n",
       "4          Blood disease|Genetic disease (inborn)  "
      ]
     },
     "execution_count": 8,
     "metadata": {},
     "output_type": "execute_result"
    }
   ],
   "source": [
    "df = pd.read_csv('../data/version-2/disease-lexion.tsv', sep='\\t', encoding='utf-8', index_col=0)\n",
    "df.reset_index(inplace=True)\n",
    "df.head()"
   ]
  },
  {
   "cell_type": "code",
   "execution_count": 9,
   "metadata": {},
   "outputs": [],
   "source": [
    "df = df.where((pd.notnull(df)), None)\n",
    "\n",
    "# Rename to match schema\n",
    "df.rename(columns={\n",
    "    'disease-id': 'disease_id',\n",
    "    'disease-name': 'disease_name',\n",
    "    'disease-category': 'disease_category',\n",
    "    'disease-synonyms': 'disease_synonyms'\n",
    "}, inplace=True)\n",
    "\n",
    "# Keep only selected columns.\n",
    "df = df[['disease_id', 'disease_name', 'disease_category']]\n",
    "\n",
    "data_list= list(df.T.to_dict().values())"
   ]
  },
  {
   "cell_type": "code",
   "execution_count": 10,
   "metadata": {},
   "outputs": [],
   "source": [
    "add_to_db(Disease, data_list)"
   ]
  },
  {
   "cell_type": "markdown",
   "metadata": {},
   "source": [
    "### Gene Lexicon"
   ]
  },
  {
   "cell_type": "code",
   "execution_count": 11,
   "metadata": {},
   "outputs": [
    {
     "data": {
      "text/html": [
       "<div>\n",
       "<style scoped>\n",
       "    .dataframe tbody tr th:only-of-type {\n",
       "        vertical-align: middle;\n",
       "    }\n",
       "\n",
       "    .dataframe tbody tr th {\n",
       "        vertical-align: top;\n",
       "    }\n",
       "\n",
       "    .dataframe thead th {\n",
       "        text-align: right;\n",
       "    }\n",
       "</style>\n",
       "<table border=\"1\" class=\"dataframe\">\n",
       "  <thead>\n",
       "    <tr style=\"text-align: right;\">\n",
       "      <th></th>\n",
       "      <th>gene-id</th>\n",
       "    </tr>\n",
       "  </thead>\n",
       "  <tbody>\n",
       "    <tr>\n",
       "      <th>0</th>\n",
       "      <td>MAP3K20</td>\n",
       "    </tr>\n",
       "    <tr>\n",
       "      <th>1</th>\n",
       "      <td>DLL3</td>\n",
       "    </tr>\n",
       "    <tr>\n",
       "      <th>2</th>\n",
       "      <td>NOTCH1</td>\n",
       "    </tr>\n",
       "    <tr>\n",
       "      <th>3</th>\n",
       "      <td>RPL11</td>\n",
       "    </tr>\n",
       "    <tr>\n",
       "      <th>4</th>\n",
       "      <td>OFC12</td>\n",
       "    </tr>\n",
       "  </tbody>\n",
       "</table>\n",
       "</div>"
      ],
      "text/plain": [
       "   gene-id\n",
       "0  MAP3K20\n",
       "1     DLL3\n",
       "2   NOTCH1\n",
       "3    RPL11\n",
       "4    OFC12"
      ]
     },
     "execution_count": 11,
     "metadata": {},
     "output_type": "execute_result"
    }
   ],
   "source": [
    "df = pd.read_csv('../data/version-2/gene-disease.tsv', sep='\\t', encoding='utf-8')[['gene-id']]\n",
    "df.drop_duplicates(subset=['gene-id'], inplace=True)\n",
    "df.head()"
   ]
  },
  {
   "cell_type": "code",
   "execution_count": 12,
   "metadata": {},
   "outputs": [],
   "source": [
    "df.rename(columns={\n",
    "    'gene-id': 'gene_id',\n",
    "}, inplace=True)\n",
    "\n",
    "\n",
    "data_list= list(df.T.to_dict().values())"
   ]
  },
  {
   "cell_type": "code",
   "execution_count": 13,
   "metadata": {},
   "outputs": [],
   "source": [
    "add_to_db(Gene, data_list)"
   ]
  },
  {
   "cell_type": "markdown",
   "metadata": {},
   "source": [
    "### References"
   ]
  },
  {
   "cell_type": "code",
   "execution_count": 14,
   "metadata": {},
   "outputs": [
    {
     "data": {
      "text/html": [
       "<div>\n",
       "<style scoped>\n",
       "    .dataframe tbody tr th:only-of-type {\n",
       "        vertical-align: middle;\n",
       "    }\n",
       "\n",
       "    .dataframe tbody tr th {\n",
       "        vertical-align: top;\n",
       "    }\n",
       "\n",
       "    .dataframe thead th {\n",
       "        text-align: right;\n",
       "    }\n",
       "</style>\n",
       "<table border=\"1\" class=\"dataframe\">\n",
       "  <thead>\n",
       "    <tr style=\"text-align: right;\">\n",
       "      <th></th>\n",
       "      <th>pmid</th>\n",
       "      <th>date</th>\n",
       "      <th>authors</th>\n",
       "      <th>title</th>\n",
       "      <th>publication-type</th>\n",
       "      <th>journal-name</th>\n",
       "      <th>journal-name-abbrv</th>\n",
       "    </tr>\n",
       "  </thead>\n",
       "  <tbody>\n",
       "    <tr>\n",
       "      <th>0</th>\n",
       "      <td>7398283</td>\n",
       "      <td>1980 Jun</td>\n",
       "      <td>Kauppinen K|Kousa M|Reunala T</td>\n",
       "      <td>Aromatic plants--a cause of severe attacks of ...</td>\n",
       "      <td>Journal Article</td>\n",
       "      <td>Contact dermatitis</td>\n",
       "      <td>Contact Dermatitis</td>\n",
       "    </tr>\n",
       "    <tr>\n",
       "      <th>1</th>\n",
       "      <td>24268374</td>\n",
       "      <td>2014 May</td>\n",
       "      <td>Vilhena-Churchill N|Goldstein AL</td>\n",
       "      <td>Child maltreatment and marijuana problems in y...</td>\n",
       "      <td>Journal Article</td>\n",
       "      <td>Child abuse &amp; neglect</td>\n",
       "      <td>Child Abuse Negl</td>\n",
       "    </tr>\n",
       "    <tr>\n",
       "      <th>2</th>\n",
       "      <td>24273069</td>\n",
       "      <td>2014 Feb</td>\n",
       "      <td>Wang P|Su C|Li R|Wang H|Ren Y|Sun H|Yang J|Sun...</td>\n",
       "      <td>Mechanisms and effects of curcumin on spatial ...</td>\n",
       "      <td>Journal Article</td>\n",
       "      <td>Journal of neuroscience research</td>\n",
       "      <td>J Neurosci Res</td>\n",
       "    </tr>\n",
       "    <tr>\n",
       "      <th>3</th>\n",
       "      <td>24274004</td>\n",
       "      <td>2013 Jul-Sep</td>\n",
       "      <td>Arghir OC|Danteş E|Stoicescu R|Baicu I|Halichi...</td>\n",
       "      <td>Parental environmental tobacco smoking and the...</td>\n",
       "      <td>Journal Article</td>\n",
       "      <td>Pneumologia (Bucharest, Romania)</td>\n",
       "      <td>Pneumologia</td>\n",
       "    </tr>\n",
       "    <tr>\n",
       "      <th>4</th>\n",
       "      <td>24274317</td>\n",
       "      <td>2013 Nov 25</td>\n",
       "      <td>Lee DH|Seo ES|Hong JT|Lee GT|You YK|Lee KK|Jo ...</td>\n",
       "      <td>The efficacy and safety of a proposed herbal m...</td>\n",
       "      <td>Journal Article|Randomized Controlled Trial</td>\n",
       "      <td>BMC complementary and alternative medicine</td>\n",
       "      <td>BMC Complement Altern Med</td>\n",
       "    </tr>\n",
       "  </tbody>\n",
       "</table>\n",
       "</div>"
      ],
      "text/plain": [
       "       pmid          date                                            authors  \\\n",
       "0   7398283      1980 Jun                      Kauppinen K|Kousa M|Reunala T   \n",
       "1  24268374      2014 May                   Vilhena-Churchill N|Goldstein AL   \n",
       "2  24273069      2014 Feb  Wang P|Su C|Li R|Wang H|Ren Y|Sun H|Yang J|Sun...   \n",
       "3  24274004  2013 Jul-Sep  Arghir OC|Danteş E|Stoicescu R|Baicu I|Halichi...   \n",
       "4  24274317   2013 Nov 25  Lee DH|Seo ES|Hong JT|Lee GT|You YK|Lee KK|Jo ...   \n",
       "\n",
       "                                               title  \\\n",
       "0  Aromatic plants--a cause of severe attacks of ...   \n",
       "1  Child maltreatment and marijuana problems in y...   \n",
       "2  Mechanisms and effects of curcumin on spatial ...   \n",
       "3  Parental environmental tobacco smoking and the...   \n",
       "4  The efficacy and safety of a proposed herbal m...   \n",
       "\n",
       "                              publication-type  \\\n",
       "0                              Journal Article   \n",
       "1                              Journal Article   \n",
       "2                              Journal Article   \n",
       "3                              Journal Article   \n",
       "4  Journal Article|Randomized Controlled Trial   \n",
       "\n",
       "                                 journal-name         journal-name-abbrv  \n",
       "0                          Contact dermatitis         Contact Dermatitis  \n",
       "1                       Child abuse & neglect           Child Abuse Negl  \n",
       "2            Journal of neuroscience research             J Neurosci Res  \n",
       "3            Pneumologia (Bucharest, Romania)                Pneumologia  \n",
       "4  BMC complementary and alternative medicine  BMC Complement Altern Med  "
      ]
     },
     "execution_count": 14,
     "metadata": {},
     "output_type": "execute_result"
    }
   ],
   "source": [
    "df = pd.read_csv('../data/version-2/publication-records.tsv', sep='\\t', encoding='utf-8')\n",
    "\n",
    "df.head()"
   ]
  },
  {
   "cell_type": "code",
   "execution_count": 15,
   "metadata": {},
   "outputs": [],
   "source": [
    "df = df.where((pd.notnull(df)), None)\n",
    "\n",
    "df.rename(columns={\n",
    "    'authors': 'authors',\n",
    "    'journal-name': 'journal_name',\n",
    "    'journal-name-abbrv': 'journal_name_abbr',\n",
    "    'publication-type':'publication_type',\n",
    "},inplace=True)\n",
    "\n",
    "data_list= list(df.T.to_dict().values())"
   ]
  },
  {
   "cell_type": "code",
   "execution_count": 16,
   "metadata": {},
   "outputs": [],
   "source": [
    "add_to_db(References, data_list)"
   ]
  },
  {
   "cell_type": "markdown",
   "metadata": {},
   "source": [
    "## B. Associations"
   ]
  },
  {
   "cell_type": "markdown",
   "metadata": {},
   "source": [
    "### Food-disease"
   ]
  },
  {
   "cell_type": "code",
   "execution_count": 17,
   "metadata": {},
   "outputs": [
    {
     "data": {
      "text/html": [
       "<div>\n",
       "<style scoped>\n",
       "    .dataframe tbody tr th:only-of-type {\n",
       "        vertical-align: middle;\n",
       "    }\n",
       "\n",
       "    .dataframe tbody tr th {\n",
       "        vertical-align: top;\n",
       "    }\n",
       "\n",
       "    .dataframe thead th {\n",
       "        text-align: right;\n",
       "    }\n",
       "</style>\n",
       "<table border=\"1\" class=\"dataframe\">\n",
       "  <thead>\n",
       "    <tr style=\"text-align: right;\">\n",
       "      <th></th>\n",
       "      <th>pmid</th>\n",
       "      <th>food-id</th>\n",
       "      <th>disease-id</th>\n",
       "      <th>association</th>\n",
       "    </tr>\n",
       "  </thead>\n",
       "  <tbody>\n",
       "    <tr>\n",
       "      <th>0</th>\n",
       "      <td>7398283</td>\n",
       "      <td>Plant ID:4045</td>\n",
       "      <td>MESH:D004487</td>\n",
       "      <td>negative</td>\n",
       "    </tr>\n",
       "    <tr>\n",
       "      <th>1</th>\n",
       "      <td>7398283</td>\n",
       "      <td>Plant ID:4045</td>\n",
       "      <td>MESH:D014581</td>\n",
       "      <td>negative</td>\n",
       "    </tr>\n",
       "    <tr>\n",
       "      <th>2</th>\n",
       "      <td>7398283</td>\n",
       "      <td>Plant ID:4043</td>\n",
       "      <td>MESH:D004487</td>\n",
       "      <td>negative</td>\n",
       "    </tr>\n",
       "    <tr>\n",
       "      <th>3</th>\n",
       "      <td>7398283</td>\n",
       "      <td>Plant ID:4043</td>\n",
       "      <td>MESH:D014581</td>\n",
       "      <td>negative</td>\n",
       "    </tr>\n",
       "    <tr>\n",
       "      <th>4</th>\n",
       "      <td>24268374</td>\n",
       "      <td>Plant ID:3483</td>\n",
       "      <td>MESH:D021081</td>\n",
       "      <td>negative</td>\n",
       "    </tr>\n",
       "  </tbody>\n",
       "</table>\n",
       "</div>"
      ],
      "text/plain": [
       "       pmid        food-id    disease-id association\n",
       "0   7398283  Plant ID:4045  MESH:D004487    negative\n",
       "1   7398283  Plant ID:4045  MESH:D014581    negative\n",
       "2   7398283  Plant ID:4043  MESH:D004487    negative\n",
       "3   7398283  Plant ID:4043  MESH:D014581    negative\n",
       "4  24268374  Plant ID:3483  MESH:D021081    negative"
      ]
     },
     "execution_count": 17,
     "metadata": {},
     "output_type": "execute_result"
    }
   ],
   "source": [
    "df = pd.read_csv('../data/version-2/food-disease.tsv', sep='\\t', encoding='utf-8')\n",
    "df = df.where((pd.notnull(df)), None)\n",
    "df['association'] = df['association'].apply(str.lower)\n",
    "\n",
    "df.head()"
   ]
  },
  {
   "cell_type": "code",
   "execution_count": 18,
   "metadata": {},
   "outputs": [],
   "source": [
    "df.rename(columns={\n",
    "    'PMID': 'pmid',\n",
    "    'food-id': 'food_id',\n",
    "    'disease-id': 'disease_id',\n",
    "    'association': 'association',\n",
    "}, inplace=True)\n",
    "\n",
    "data_list= list(df.T.to_dict().values())"
   ]
  },
  {
   "cell_type": "code",
   "execution_count": 19,
   "metadata": {},
   "outputs": [],
   "source": [
    "add_to_db(Food_disease, data_list)"
   ]
  },
  {
   "cell_type": "markdown",
   "metadata": {},
   "source": [
    "### Gene-disease"
   ]
  },
  {
   "cell_type": "code",
   "execution_count": 20,
   "metadata": {},
   "outputs": [
    {
     "data": {
      "text/html": [
       "<div>\n",
       "<style scoped>\n",
       "    .dataframe tbody tr th:only-of-type {\n",
       "        vertical-align: middle;\n",
       "    }\n",
       "\n",
       "    .dataframe tbody tr th {\n",
       "        vertical-align: top;\n",
       "    }\n",
       "\n",
       "    .dataframe thead th {\n",
       "        text-align: right;\n",
       "    }\n",
       "</style>\n",
       "<table border=\"1\" class=\"dataframe\">\n",
       "  <thead>\n",
       "    <tr style=\"text-align: right;\">\n",
       "      <th></th>\n",
       "      <th>disease_id</th>\n",
       "      <th>gene_id</th>\n",
       "      <th>reference</th>\n",
       "    </tr>\n",
       "  </thead>\n",
       "  <tbody>\n",
       "    <tr>\n",
       "      <th>0</th>\n",
       "      <td>MESH:C000591739</td>\n",
       "      <td>CYP19A1</td>\n",
       "      <td>ORPHANET</td>\n",
       "    </tr>\n",
       "    <tr>\n",
       "      <th>1</th>\n",
       "      <td>MESH:C000596385</td>\n",
       "      <td>CNNM4</td>\n",
       "      <td>UNIPROT</td>\n",
       "    </tr>\n",
       "    <tr>\n",
       "      <th>2</th>\n",
       "      <td>MESH:C000598645</td>\n",
       "      <td>MYOT</td>\n",
       "      <td>CTD_human, UNIPROT, ORPHANET</td>\n",
       "    </tr>\n",
       "    <tr>\n",
       "      <th>3</th>\n",
       "      <td>MESH:C000600608</td>\n",
       "      <td>CHST14</td>\n",
       "      <td>CTD_human, UNIPROT, ORPHANET</td>\n",
       "    </tr>\n",
       "    <tr>\n",
       "      <th>4</th>\n",
       "      <td>MESH:C000600608</td>\n",
       "      <td>DSE</td>\n",
       "      <td>ORPHANET</td>\n",
       "    </tr>\n",
       "  </tbody>\n",
       "</table>\n",
       "</div>"
      ],
      "text/plain": [
       "        disease_id  gene_id                     reference\n",
       "0  MESH:C000591739  CYP19A1                      ORPHANET\n",
       "1  MESH:C000596385    CNNM4                       UNIPROT\n",
       "2  MESH:C000598645     MYOT  CTD_human, UNIPROT, ORPHANET\n",
       "3  MESH:C000600608   CHST14  CTD_human, UNIPROT, ORPHANET\n",
       "4  MESH:C000600608      DSE                      ORPHANET"
      ]
     },
     "execution_count": 20,
     "metadata": {},
     "output_type": "execute_result"
    }
   ],
   "source": [
    "df = pd.read_csv('../data/version-2/gene-disease.tsv', sep='\\t', encoding='utf-8')\n",
    "\n",
    "# Merge duplicate associations\n",
    "df['source'] = df['source'].map(lambda s: s.split(', '))\n",
    "df = df.groupby(['disease-id', 'gene-id']).agg(lambda s: set([g for glst in s for g in glst])).reset_index()\n",
    "df['source'] = df['source'].map(lambda s: ', '.join(s))\n",
    "\n",
    "df.rename(columns={\n",
    "    'gene-id': 'gene_id',\n",
    "    'disease-id': 'disease_id',\n",
    "    'source': 'reference',\n",
    "}, inplace=True)\n",
    "df.head()"
   ]
  },
  {
   "cell_type": "code",
   "execution_count": 21,
   "metadata": {},
   "outputs": [],
   "source": [
    "data_list= list(df.T.to_dict().values())"
   ]
  },
  {
   "cell_type": "code",
   "execution_count": 22,
   "metadata": {},
   "outputs": [],
   "source": [
    "add_to_db(Disease_gene, data_list)"
   ]
  },
  {
   "cell_type": "markdown",
   "metadata": {},
   "source": [
    "###  Food-Gene"
   ]
  },
  {
   "cell_type": "code",
   "execution_count": 23,
   "metadata": {},
   "outputs": [],
   "source": [
    "# Find food-gene associations\n",
    "fd = pd.read_csv('../data/version-2/food-disease.tsv', sep='\\t', encoding='utf-8')\n",
    "gd =pd.read_csv('../data/version-2/gene-disease.tsv', sep='\\t', encoding='utf-8')\n",
    "food_gene = fd.merge(gd, on='disease-id').drop(['pmid', 'association', 'source'], axis=1)"
   ]
  },
  {
   "cell_type": "code",
   "execution_count": 24,
   "metadata": {},
   "outputs": [],
   "source": [
    "food_gene.rename(columns={\n",
    "    'food-id': 'food_id',\n",
    "    'gene-id': 'gene_id',\n",
    "},inplace=True)\n",
    "\n",
    "del food_gene['disease-id']\n",
    "food_gene.disease_categories = ''\n",
    "\n",
    "food_gene.drop_duplicates(inplace=True)\n",
    "\n",
    "data_list= list(food_gene.T.to_dict().values())"
   ]
  },
  {
   "cell_type": "code",
   "execution_count": 25,
   "metadata": {
    "scrolled": true
   },
   "outputs": [],
   "source": [
    "add_to_db(Food_gene, data_list)"
   ]
  },
  {
   "cell_type": "code",
   "execution_count": 26,
   "metadata": {},
   "outputs": [],
   "source": [
    "app.elasticsearch.indices.delete(index='food', ignore=[400, 404])\n",
    "app.elasticsearch.indices.delete(index='disease', ignore=[400, 404])\n",
    "app.elasticsearch.indices.delete(index='gene', ignore=[400, 404])\n",
    "\n",
    "\n",
    "Food.reindex(\"food_id\")\n",
    "Disease.reindex(\"disease_id\")\n",
    "Gene.reindex(\"gene_id\")"
   ]
  },
  {
   "cell_type": "markdown",
   "metadata": {},
   "source": [
    "### Chemicals"
   ]
  },
  {
   "cell_type": "code",
   "execution_count": 126,
   "metadata": {},
   "outputs": [],
   "source": [
    "cd = pd.read_csv('../data/version-2/chemical-disease.tsv', sep='\\t', encoding='utf-8')\n",
    "fc = pd.read_csv('../data/version-2/food-chemical.tsv', sep='\\t', encoding='utf-8')\n",
    "\n",
    "\n",
    "cd['pubchem-id'] = cd['pubchem-id'].astype(int)\n",
    "fc['pubchem-id'] = fc['pubchem-id'].astype(int)\n",
    "\n",
    "cd.rename(columns={\n",
    "    'pubchem-id': 'pubchem_id',\n",
    "    'disease-id': 'disease_id',\n",
    "}, inplace=True)\n",
    "\n",
    "\n",
    "fc.rename(columns={\n",
    "    'pubchem-id': 'pubchem_id',\n",
    "    'food-id': 'food_id',\n",
    "    'references': 'references',\n",
    "}, inplace=True)\n",
    "\n",
    "fc.drop_duplicates(inplace=True)\n",
    "\n",
    "v = fc.groupby(['food_id', 'pubchem_id']).references.apply(lambda x: x.tolist())\n",
    "\n",
    "def combine(x):\n",
    "    x = x.tolist()[2:8]\n",
    "    return '; '.join(list(filter(None, x)))\n",
    "\n",
    "\n",
    "df = pd.DataFrame(v.tolist(), index=v.index)\\\n",
    "       .reset_index()\n",
    "df['references'] = df.apply(lambda x:combine(x), axis=1)\n",
    "df = df[['food_id', 'pubchem_id', 'references']]\n",
    "\n",
    "fc = df"
   ]
  },
  {
   "cell_type": "code",
   "execution_count": 127,
   "metadata": {},
   "outputs": [
    {
     "data": {
      "text/html": [
       "<div>\n",
       "<style scoped>\n",
       "    .dataframe tbody tr th:only-of-type {\n",
       "        vertical-align: middle;\n",
       "    }\n",
       "\n",
       "    .dataframe tbody tr th {\n",
       "        vertical-align: top;\n",
       "    }\n",
       "\n",
       "    .dataframe thead th {\n",
       "        text-align: right;\n",
       "    }\n",
       "</style>\n",
       "<table border=\"1\" class=\"dataframe\">\n",
       "  <thead>\n",
       "    <tr style=\"text-align: right;\">\n",
       "      <th></th>\n",
       "      <th>pubchem_id</th>\n",
       "      <th>disease_id</th>\n",
       "    </tr>\n",
       "  </thead>\n",
       "  <tbody>\n",
       "    <tr>\n",
       "      <th>0</th>\n",
       "      <td>5280445</td>\n",
       "      <td>MESH:D007249</td>\n",
       "    </tr>\n",
       "    <tr>\n",
       "      <th>1</th>\n",
       "      <td>5280445</td>\n",
       "      <td>MESH:D009202</td>\n",
       "    </tr>\n",
       "    <tr>\n",
       "      <th>2</th>\n",
       "      <td>5280445</td>\n",
       "      <td>MESH:D002386</td>\n",
       "    </tr>\n",
       "    <tr>\n",
       "      <th>3</th>\n",
       "      <td>5280445</td>\n",
       "      <td>MESH:D010051</td>\n",
       "    </tr>\n",
       "    <tr>\n",
       "      <th>4</th>\n",
       "      <td>5280445</td>\n",
       "      <td>MESH:D007674</td>\n",
       "    </tr>\n",
       "  </tbody>\n",
       "</table>\n",
       "</div>"
      ],
      "text/plain": [
       "   pubchem_id    disease_id\n",
       "0     5280445  MESH:D007249\n",
       "1     5280445  MESH:D009202\n",
       "2     5280445  MESH:D002386\n",
       "3     5280445  MESH:D010051\n",
       "4     5280445  MESH:D007674"
      ]
     },
     "execution_count": 127,
     "metadata": {},
     "output_type": "execute_result"
    }
   ],
   "source": [
    "cd.head()"
   ]
  },
  {
   "cell_type": "code",
   "execution_count": 128,
   "metadata": {},
   "outputs": [
    {
     "data": {
      "text/html": [
       "<div>\n",
       "<style scoped>\n",
       "    .dataframe tbody tr th:only-of-type {\n",
       "        vertical-align: middle;\n",
       "    }\n",
       "\n",
       "    .dataframe tbody tr th {\n",
       "        vertical-align: top;\n",
       "    }\n",
       "\n",
       "    .dataframe thead th {\n",
       "        text-align: right;\n",
       "    }\n",
       "</style>\n",
       "<table border=\"1\" class=\"dataframe\">\n",
       "  <thead>\n",
       "    <tr style=\"text-align: right;\">\n",
       "      <th></th>\n",
       "      <th>food_id</th>\n",
       "      <th>pubchem_id</th>\n",
       "      <th>references</th>\n",
       "    </tr>\n",
       "  </thead>\n",
       "  <tbody>\n",
       "    <tr>\n",
       "      <th>0</th>\n",
       "      <td>MeatEgg ID:9913</td>\n",
       "      <td>247</td>\n",
       "      <td>USDA; U</td>\n",
       "    </tr>\n",
       "    <tr>\n",
       "      <th>1</th>\n",
       "      <td>MeatEgg ID:9913</td>\n",
       "      <td>5810</td>\n",
       "      <td>USDA; U</td>\n",
       "    </tr>\n",
       "    <tr>\n",
       "      <th>2</th>\n",
       "      <td>MeatEgg ID:9913</td>\n",
       "      <td>6322</td>\n",
       "      <td>DTU; USDA; U</td>\n",
       "    </tr>\n",
       "    <tr>\n",
       "      <th>3</th>\n",
       "      <td>MeatEgg ID:9913</td>\n",
       "      <td>152059</td>\n",
       "      <td>USDA; U</td>\n",
       "    </tr>\n",
       "    <tr>\n",
       "      <th>4</th>\n",
       "      <td>MeatEgg ID:9913</td>\n",
       "      <td>171548</td>\n",
       "      <td>DTU</td>\n",
       "    </tr>\n",
       "  </tbody>\n",
       "</table>\n",
       "</div>"
      ],
      "text/plain": [
       "           food_id  pubchem_id    references\n",
       "0  MeatEgg ID:9913         247       USDA; U\n",
       "1  MeatEgg ID:9913        5810       USDA; U\n",
       "2  MeatEgg ID:9913        6322  DTU; USDA; U\n",
       "3  MeatEgg ID:9913      152059       USDA; U\n",
       "4  MeatEgg ID:9913      171548           DTU"
      ]
     },
     "execution_count": 128,
     "metadata": {},
     "output_type": "execute_result"
    }
   ],
   "source": [
    "fc.head()"
   ]
  },
  {
   "cell_type": "code",
   "execution_count": 129,
   "metadata": {},
   "outputs": [],
   "source": [
    "data_list= list(cd.T.to_dict().values())\n",
    "add_to_db(Chemical_disease, data_list)"
   ]
  },
  {
   "cell_type": "code",
   "execution_count": 130,
   "metadata": {},
   "outputs": [],
   "source": [
    "data_list= list(fc.T.to_dict().values())\n",
    "add_to_db(Food_chemical, data_list)"
   ]
  },
  {
   "cell_type": "markdown",
   "metadata": {},
   "source": [
    "### Generating chemical pubchems and adding to DB"
   ]
  },
  {
   "cell_type": "code",
   "execution_count": 135,
   "metadata": {},
   "outputs": [],
   "source": [
    "pubchem_ids = list(set(fc['pubchem_id'].tolist() + cd['pubchem_id'].tolist()))\n",
    "\n",
    "for i, item in enumerate(pubchem_ids):\n",
    "    db.session.add(Chemical(pubchem_id = item))\n",
    "\n",
    "    if (i+1) % 10000 == 0:\n",
    "        db.session.commit()\n",
    "db.session.commit()"
   ]
  },
  {
   "cell_type": "code",
   "execution_count": null,
   "metadata": {},
   "outputs": [],
   "source": []
  }
 ],
 "metadata": {
  "kernelspec": {
   "display_name": "Python 3",
   "language": "python",
   "name": "python3"
  },
  "language_info": {
   "codemirror_mode": {
    "name": "ipython",
    "version": 3
   },
   "file_extension": ".py",
   "mimetype": "text/x-python",
   "name": "python",
   "nbconvert_exporter": "python",
   "pygments_lexer": "ipython3",
   "version": "3.6.4"
  }
 },
 "nbformat": 4,
 "nbformat_minor": 2
}
