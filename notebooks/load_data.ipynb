{
 "cells": [
  {
   "cell_type": "code",
   "execution_count": 1,
   "metadata": {},
   "outputs": [
    {
     "ename": "ModuleNotFoundError",
     "evalue": "No module named 'pandas'",
     "output_type": "error",
     "traceback": [
      "\u001b[0;31m---------------------------------------------------------------------------\u001b[0m",
      "\u001b[0;31mModuleNotFoundError\u001b[0m                       Traceback (most recent call last)",
      "\u001b[0;32m<ipython-input-1-08236d0ccf01>\u001b[0m in \u001b[0;36m<module>\u001b[0;34m()\u001b[0m\n\u001b[1;32m      9\u001b[0m \u001b[0;32mfrom\u001b[0m \u001b[0mdietrx\u001b[0m\u001b[0;34m.\u001b[0m\u001b[0mmodels\u001b[0m \u001b[0;32mimport\u001b[0m \u001b[0;34m*\u001b[0m\u001b[0;34m\u001b[0m\u001b[0m\n\u001b[1;32m     10\u001b[0m \u001b[0;34m\u001b[0m\u001b[0m\n\u001b[0;32m---> 11\u001b[0;31m \u001b[0;32mimport\u001b[0m \u001b[0mpandas\u001b[0m \u001b[0;32mas\u001b[0m \u001b[0mpd\u001b[0m\u001b[0;34m\u001b[0m\u001b[0m\n\u001b[0m",
      "\u001b[0;31mModuleNotFoundError\u001b[0m: No module named 'pandas'"
     ]
    }
   ],
   "source": [
    "%load_ext autoreload\n",
    "%autoreload 2\n",
    "\n",
    "import sys\n",
    "sys.path.insert(0, '..')\n",
    "\n",
    "\n",
    "from dietrx import db\n",
    "from dietrx.models import *\n",
    "\n",
    "import pandas as pd"
   ]
  },
  {
   "cell_type": "markdown",
   "metadata": {},
   "source": [
    "# Load food"
   ]
  },
  {
   "cell_type": "code",
   "execution_count": 2,
   "metadata": {},
   "outputs": [
    {
     "data": {
      "text/html": [
       "<div>\n",
       "<style>\n",
       "    .dataframe thead tr:only-child th {\n",
       "        text-align: right;\n",
       "    }\n",
       "\n",
       "    .dataframe thead th {\n",
       "        text-align: left;\n",
       "    }\n",
       "\n",
       "    .dataframe tbody tr th {\n",
       "        vertical-align: top;\n",
       "    }\n",
       "</style>\n",
       "<table border=\"1\" class=\"dataframe\">\n",
       "  <thead>\n",
       "    <tr style=\"text-align: right;\">\n",
       "      <th></th>\n",
       "      <th>Common Names</th>\n",
       "      <th>Food-name</th>\n",
       "      <th>Food ID</th>\n",
       "      <th>Food-category</th>\n",
       "      <th>Scientific Name</th>\n",
       "      <th>TAX ID</th>\n",
       "    </tr>\n",
       "  </thead>\n",
       "  <tbody>\n",
       "    <tr>\n",
       "      <th>0</th>\n",
       "      <td>alexanders; horse parsley</td>\n",
       "      <td>Alexanders</td>\n",
       "      <td>Plant ID:40962</td>\n",
       "      <td>Miscellaneous</td>\n",
       "      <td>Smyrnium olusatrum</td>\n",
       "      <td>40962.0</td>\n",
       "    </tr>\n",
       "    <tr>\n",
       "      <th>1</th>\n",
       "      <td>NaN</td>\n",
       "      <td>Scrophularia umbrosa</td>\n",
       "      <td>Plant ID:942083</td>\n",
       "      <td>Miscellaneous</td>\n",
       "      <td>Scrophularia umbrosa</td>\n",
       "      <td>942083.0</td>\n",
       "    </tr>\n",
       "    <tr>\n",
       "      <th>2</th>\n",
       "      <td>dotted blazing star</td>\n",
       "      <td>Dotted blazing star</td>\n",
       "      <td>Plant ID:344074</td>\n",
       "      <td>Miscellaneous</td>\n",
       "      <td>Liatris punctata</td>\n",
       "      <td>344074.0</td>\n",
       "    </tr>\n",
       "    <tr>\n",
       "      <th>3</th>\n",
       "      <td>plymouth pear</td>\n",
       "      <td>Plymouth pear</td>\n",
       "      <td>Plant ID:761867</td>\n",
       "      <td>Miscellaneous</td>\n",
       "      <td>Pyrus cordata</td>\n",
       "      <td>761867.0</td>\n",
       "    </tr>\n",
       "    <tr>\n",
       "      <th>4</th>\n",
       "      <td>NaN</td>\n",
       "      <td>Rhododendron kaempferi</td>\n",
       "      <td>Plant ID:49166</td>\n",
       "      <td>Miscellaneous</td>\n",
       "      <td>Rhododendron kaempferi</td>\n",
       "      <td>49166.0</td>\n",
       "    </tr>\n",
       "  </tbody>\n",
       "</table>\n",
       "</div>"
      ],
      "text/plain": [
       "                Common Names               Food-name          Food ID  \\\n",
       "0  alexanders; horse parsley              Alexanders   Plant ID:40962   \n",
       "1                        NaN    Scrophularia umbrosa  Plant ID:942083   \n",
       "2        dotted blazing star     Dotted blazing star  Plant ID:344074   \n",
       "3              plymouth pear           Plymouth pear  Plant ID:761867   \n",
       "4                        NaN  Rhododendron kaempferi   Plant ID:49166   \n",
       "\n",
       "   Food-category         Scientific Name    TAX ID  \n",
       "0  Miscellaneous      Smyrnium olusatrum   40962.0  \n",
       "1  Miscellaneous    Scrophularia umbrosa  942083.0  \n",
       "2  Miscellaneous        Liatris punctata  344074.0  \n",
       "3  Miscellaneous           Pyrus cordata  761867.0  \n",
       "4  Miscellaneous  Rhododendron kaempferi   49166.0  "
      ]
     },
     "execution_count": 2,
     "metadata": {},
     "output_type": "execute_result"
    }
   ],
   "source": [
    "df = pd.read_csv('../data/version 1/food-lexicon-automated.tsv', sep='\\t', encoding='utf-8')\n",
    "\n",
    "df.head()"
   ]
  },
  {
   "cell_type": "code",
   "execution_count": 3,
   "metadata": {
    "collapsed": true
   },
   "outputs": [],
   "source": [
    "df = df.where((pd.notnull(df)), None)\n",
    "\n",
    "df.rename(columns={\n",
    "    'Common Names': 'common_names',\n",
    "    'Food-name': 'display_name',\n",
    "    'Food ID': 'food_id',\n",
    "    'Food-category': 'food_category',\n",
    "    'Scientific Name': 'scientific_name',\n",
    "    'TAX ID':'tax_id',\n",
    "},inplace=True)\n",
    "\n",
    "\n",
    "data_list= list(df.T.to_dict().values())"
   ]
  },
  {
   "cell_type": "code",
   "execution_count": 4,
   "metadata": {
    "collapsed": true
   },
   "outputs": [],
   "source": [
    "for item in data_list:\n",
    "    db.session.add(Food(**item))\n",
    "    \n",
    "db.session.commit()"
   ]
  },
  {
   "cell_type": "markdown",
   "metadata": {},
   "source": [
    "# Load Disease"
   ]
  },
  {
   "cell_type": "code",
   "execution_count": 5,
   "metadata": {},
   "outputs": [
    {
     "data": {
      "text/html": [
       "<div>\n",
       "<style>\n",
       "    .dataframe thead tr:only-child th {\n",
       "        text-align: right;\n",
       "    }\n",
       "\n",
       "    .dataframe thead th {\n",
       "        text-align: left;\n",
       "    }\n",
       "\n",
       "    .dataframe tbody tr th {\n",
       "        vertical-align: top;\n",
       "    }\n",
       "</style>\n",
       "<table border=\"1\" class=\"dataframe\">\n",
       "  <thead>\n",
       "    <tr style=\"text-align: right;\">\n",
       "      <th></th>\n",
       "      <th>Disease ID</th>\n",
       "      <th>Disease-name</th>\n",
       "      <th>Disease-synonyms</th>\n",
       "      <th>Disease-category</th>\n",
       "    </tr>\n",
       "  </thead>\n",
       "  <tbody>\n",
       "    <tr>\n",
       "      <th>0</th>\n",
       "      <td>MESH:D005236</td>\n",
       "      <td>Favism</td>\n",
       "      <td>Favisms|FAVISM, SUSCEPTIBILITY TO</td>\n",
       "      <td>Blood disease|Genetic disease (inborn)|Chemica...</td>\n",
       "    </tr>\n",
       "    <tr>\n",
       "      <th>1</th>\n",
       "      <td>MESH:D003715</td>\n",
       "      <td>Dengue</td>\n",
       "      <td>Breakbone Fever|Break Bone Fever|Break-Bone Fe...</td>\n",
       "      <td>Viral disease</td>\n",
       "    </tr>\n",
       "    <tr>\n",
       "      <th>2</th>\n",
       "      <td>MESH:D034801</td>\n",
       "      <td>Mastocytoma</td>\n",
       "      <td>Benign Mastocytoma|Extracutaneous Mastocytoma|...</td>\n",
       "      <td>Cancer|Skin disease</td>\n",
       "    </tr>\n",
       "    <tr>\n",
       "      <th>3</th>\n",
       "      <td>MESH:D002169</td>\n",
       "      <td>Campylobacter Infections</td>\n",
       "      <td>Campylobacter Infection|Campylobacterioses|Cam...</td>\n",
       "      <td>Bacterial infection or mycosis</td>\n",
       "    </tr>\n",
       "    <tr>\n",
       "      <th>4</th>\n",
       "      <td>MESH:D045888</td>\n",
       "      <td>Ganglion Cysts</td>\n",
       "      <td>Cyst, Ganglion|Cyst, Ganglionic|Cyst, Myxoid|C...</td>\n",
       "      <td>Cancer|Connective tissue disease</td>\n",
       "    </tr>\n",
       "  </tbody>\n",
       "</table>\n",
       "</div>"
      ],
      "text/plain": [
       "     Disease ID              Disease-name  \\\n",
       "0  MESH:D005236                    Favism   \n",
       "1  MESH:D003715                    Dengue   \n",
       "2  MESH:D034801               Mastocytoma   \n",
       "3  MESH:D002169  Campylobacter Infections   \n",
       "4  MESH:D045888            Ganglion Cysts   \n",
       "\n",
       "                                    Disease-synonyms  \\\n",
       "0                  Favisms|FAVISM, SUSCEPTIBILITY TO   \n",
       "1  Breakbone Fever|Break Bone Fever|Break-Bone Fe...   \n",
       "2  Benign Mastocytoma|Extracutaneous Mastocytoma|...   \n",
       "3  Campylobacter Infection|Campylobacterioses|Cam...   \n",
       "4  Cyst, Ganglion|Cyst, Ganglionic|Cyst, Myxoid|C...   \n",
       "\n",
       "                                    Disease-category  \n",
       "0  Blood disease|Genetic disease (inborn)|Chemica...  \n",
       "1                                      Viral disease  \n",
       "2                                Cancer|Skin disease  \n",
       "3                     Bacterial infection or mycosis  \n",
       "4                   Cancer|Connective tissue disease  "
      ]
     },
     "execution_count": 5,
     "metadata": {},
     "output_type": "execute_result"
    }
   ],
   "source": [
    "df = pd.read_csv('../data/version 1/disease-lexicon.tsv', sep='\\t', encoding='utf-8', index_col=0)\n",
    "\n",
    "df.head()"
   ]
  },
  {
   "cell_type": "code",
   "execution_count": 6,
   "metadata": {
    "collapsed": true
   },
   "outputs": [],
   "source": [
    "df = df.where((pd.notnull(df)), None)\n",
    "\n",
    "df.rename(columns={\n",
    "    'Disease ID': 'disease_id',\n",
    "    'Disease-name': 'disease_name',\n",
    "    'Disease-synonyms': 'disease_synonyms',\n",
    "    'Disease-category': 'disease_category',\n",
    "},inplace=True)\n",
    "\n",
    "\n",
    "data_list= list(df.T.to_dict().values())"
   ]
  },
  {
   "cell_type": "code",
   "execution_count": 7,
   "metadata": {
    "collapsed": true
   },
   "outputs": [],
   "source": [
    "for item in data_list:\n",
    "    db.session.add(Disease(**item))\n",
    "    \n",
    "db.session.commit()"
   ]
  },
  {
   "cell_type": "markdown",
   "metadata": {},
   "source": [
    "# Load Gene"
   ]
  },
  {
   "cell_type": "code",
   "execution_count": 25,
   "metadata": {},
   "outputs": [
    {
     "data": {
      "text/html": [
       "<div>\n",
       "<style>\n",
       "    .dataframe thead tr:only-child th {\n",
       "        text-align: right;\n",
       "    }\n",
       "\n",
       "    .dataframe thead th {\n",
       "        text-align: left;\n",
       "    }\n",
       "\n",
       "    .dataframe tbody tr th {\n",
       "        vertical-align: top;\n",
       "    }\n",
       "</style>\n",
       "<table border=\"1\" class=\"dataframe\">\n",
       "  <thead>\n",
       "    <tr style=\"text-align: right;\">\n",
       "      <th></th>\n",
       "      <th>Gene ID</th>\n",
       "    </tr>\n",
       "  </thead>\n",
       "  <tbody>\n",
       "    <tr>\n",
       "      <th>0</th>\n",
       "      <td>COX14</td>\n",
       "    </tr>\n",
       "    <tr>\n",
       "      <th>1</th>\n",
       "      <td>CLCN3</td>\n",
       "    </tr>\n",
       "    <tr>\n",
       "      <th>2</th>\n",
       "      <td>KIAA1549</td>\n",
       "    </tr>\n",
       "    <tr>\n",
       "      <th>3</th>\n",
       "      <td>RHPN1</td>\n",
       "    </tr>\n",
       "    <tr>\n",
       "      <th>4</th>\n",
       "      <td>MSX2</td>\n",
       "    </tr>\n",
       "  </tbody>\n",
       "</table>\n",
       "</div>"
      ],
      "text/plain": [
       "    Gene ID\n",
       "0     COX14\n",
       "1     CLCN3\n",
       "2  KIAA1549\n",
       "3     RHPN1\n",
       "4      MSX2"
      ]
     },
     "execution_count": 25,
     "metadata": {},
     "output_type": "execute_result"
    }
   ],
   "source": [
    "df = pd.read_csv('../data/version 1/gene-lexicon.tsv', sep='\\t', encoding='utf-8')\n",
    "\n",
    "df.head()"
   ]
  },
  {
   "cell_type": "code",
   "execution_count": 9,
   "metadata": {
    "collapsed": true
   },
   "outputs": [],
   "source": [
    "df.rename(columns={\n",
    "    'Gene ID': 'gene_id',\n",
    "},inplace=True)\n",
    "\n",
    "\n",
    "data_list= list(df.T.to_dict().values())"
   ]
  },
  {
   "cell_type": "code",
   "execution_count": 10,
   "metadata": {
    "collapsed": true
   },
   "outputs": [],
   "source": [
    "for item in data_list:\n",
    "    db.session.add(Gene(**item))\n",
    "    \n",
    "db.session.commit()"
   ]
  },
  {
   "cell_type": "markdown",
   "metadata": {},
   "source": [
    "# Load References"
   ]
  },
  {
   "cell_type": "code",
   "execution_count": 11,
   "metadata": {},
   "outputs": [
    {
     "data": {
      "text/html": [
       "<div>\n",
       "<style>\n",
       "    .dataframe thead tr:only-child th {\n",
       "        text-align: right;\n",
       "    }\n",
       "\n",
       "    .dataframe thead th {\n",
       "        text-align: left;\n",
       "    }\n",
       "\n",
       "    .dataframe tbody tr th {\n",
       "        vertical-align: top;\n",
       "    }\n",
       "</style>\n",
       "<table border=\"1\" class=\"dataframe\">\n",
       "  <thead>\n",
       "    <tr style=\"text-align: right;\">\n",
       "      <th></th>\n",
       "      <th>Authors</th>\n",
       "      <th>Date</th>\n",
       "      <th>Journal Name</th>\n",
       "      <th>Journal Name Abbrv.</th>\n",
       "      <th>PMID</th>\n",
       "      <th>Publication Type</th>\n",
       "      <th>Title</th>\n",
       "    </tr>\n",
       "  </thead>\n",
       "  <tbody>\n",
       "    <tr>\n",
       "      <th>0</th>\n",
       "      <td>Elkiran T|Harputluoglu H|Yasar U|Babaoglu MO|D...</td>\n",
       "      <td>2007 Jan-Feb</td>\n",
       "      <td>Methods and findings in experimental and clini...</td>\n",
       "      <td>Methods Find Exp Clin Pharmacol</td>\n",
       "      <td>17344941</td>\n",
       "      <td>Clinical Trial|Journal Article</td>\n",
       "      <td>Differential alteration of drug-metabolizing e...</td>\n",
       "    </tr>\n",
       "    <tr>\n",
       "      <th>1</th>\n",
       "      <td>Severins N|Mensink RP|Plat J</td>\n",
       "      <td>2015 Feb</td>\n",
       "      <td>Nutrition, metabolism, and cardiovascular dise...</td>\n",
       "      <td>Nutr Metab Cardiovasc Dis</td>\n",
       "      <td>25456153</td>\n",
       "      <td>Journal Article|Randomized Controlled Trial</td>\n",
       "      <td>Effects of lutein-enriched egg yolk in butterm...</td>\n",
       "    </tr>\n",
       "    <tr>\n",
       "      <th>2</th>\n",
       "      <td>Li C|Zuo C|Deng G|Kuang R|Yang Q|Hu C|Sheng O|...</td>\n",
       "      <td>2013</td>\n",
       "      <td>PloS one</td>\n",
       "      <td>PLoS One</td>\n",
       "      <td>23922960</td>\n",
       "      <td>Journal Article</td>\n",
       "      <td>Contamination of bananas with beauvericin and ...</td>\n",
       "    </tr>\n",
       "    <tr>\n",
       "      <th>3</th>\n",
       "      <td>Güneser S|Atici A|Cengizler I|Alparslan N</td>\n",
       "      <td>1996 May-Jun</td>\n",
       "      <td>Allergologia et immunopathologia</td>\n",
       "      <td>Allergol Immunopathol (Madr)</td>\n",
       "      <td>8766742</td>\n",
       "      <td>Journal Article</td>\n",
       "      <td>Inhalant allergens: as a cause of respiratory ...</td>\n",
       "    </tr>\n",
       "    <tr>\n",
       "      <th>4</th>\n",
       "      <td>Brvar M|Bunc M</td>\n",
       "      <td>2009 Sep 9</td>\n",
       "      <td>Cases journal</td>\n",
       "      <td>Cases J</td>\n",
       "      <td>19918387</td>\n",
       "      <td>Journal Article</td>\n",
       "      <td>High-degree atrioventricular block in acute et...</td>\n",
       "    </tr>\n",
       "  </tbody>\n",
       "</table>\n",
       "</div>"
      ],
      "text/plain": [
       "                                             Authors          Date  \\\n",
       "0  Elkiran T|Harputluoglu H|Yasar U|Babaoglu MO|D...  2007 Jan-Feb   \n",
       "1                       Severins N|Mensink RP|Plat J      2015 Feb   \n",
       "2  Li C|Zuo C|Deng G|Kuang R|Yang Q|Hu C|Sheng O|...          2013   \n",
       "3          Güneser S|Atici A|Cengizler I|Alparslan N  1996 May-Jun   \n",
       "4                                     Brvar M|Bunc M    2009 Sep 9   \n",
       "\n",
       "                                        Journal Name  \\\n",
       "0  Methods and findings in experimental and clini...   \n",
       "1  Nutrition, metabolism, and cardiovascular dise...   \n",
       "2                                           PloS one   \n",
       "3                   Allergologia et immunopathologia   \n",
       "4                                      Cases journal   \n",
       "\n",
       "               Journal Name Abbrv.      PMID  \\\n",
       "0  Methods Find Exp Clin Pharmacol  17344941   \n",
       "1        Nutr Metab Cardiovasc Dis  25456153   \n",
       "2                         PLoS One  23922960   \n",
       "3     Allergol Immunopathol (Madr)   8766742   \n",
       "4                          Cases J  19918387   \n",
       "\n",
       "                              Publication Type  \\\n",
       "0               Clinical Trial|Journal Article   \n",
       "1  Journal Article|Randomized Controlled Trial   \n",
       "2                              Journal Article   \n",
       "3                              Journal Article   \n",
       "4                              Journal Article   \n",
       "\n",
       "                                               Title  \n",
       "0  Differential alteration of drug-metabolizing e...  \n",
       "1  Effects of lutein-enriched egg yolk in butterm...  \n",
       "2  Contamination of bananas with beauvericin and ...  \n",
       "3  Inhalant allergens: as a cause of respiratory ...  \n",
       "4  High-degree atrioventricular block in acute et...  "
      ]
     },
     "execution_count": 11,
     "metadata": {},
     "output_type": "execute_result"
    }
   ],
   "source": [
    "df = pd.read_csv('../data/version 1/publication-records.tsv', sep='\\t', encoding='utf-8', index_col=0)\n",
    "\n",
    "df.head()"
   ]
  },
  {
   "cell_type": "code",
   "execution_count": 12,
   "metadata": {
    "collapsed": true
   },
   "outputs": [],
   "source": [
    "df = df.where((pd.notnull(df)), None)\n",
    "\n",
    "df.rename(columns={\n",
    "    'Authors': 'authors',\n",
    "    'Date': 'date',\n",
    "    'Journal Name': 'journal_name',\n",
    "    'Journal Name Abbrv.': 'journal_name_abbr',\n",
    "    'PMID': 'pmid',\n",
    "    'Publication Type':'publication_type',\n",
    "    'Title':'title',\n",
    "},inplace=True)\n",
    "\n",
    "\n",
    "data_list= list(df.T.to_dict().values())"
   ]
  },
  {
   "cell_type": "code",
   "execution_count": 13,
   "metadata": {
    "collapsed": true
   },
   "outputs": [],
   "source": [
    "for item in data_list:\n",
    "    db.session.add(References(**item))\n",
    "    \n",
    "db.session.commit()"
   ]
  },
  {
   "cell_type": "markdown",
   "metadata": {},
   "source": [
    "# Load Food Disease"
   ]
  },
  {
   "cell_type": "code",
   "execution_count": 14,
   "metadata": {},
   "outputs": [
    {
     "name": "stderr",
     "output_type": "stream",
     "text": [
      "/home/neelansh/anaconda3/lib/python3.6/site-packages/pandas/core/frame.py:881: UserWarning: DataFrame columns are not unique, some columns will be omitted.\n",
      "  \"columns will be omitted.\", UserWarning)\n"
     ]
    },
    {
     "data": {
      "text/html": [
       "<div>\n",
       "<style>\n",
       "    .dataframe thead tr:only-child th {\n",
       "        text-align: right;\n",
       "    }\n",
       "\n",
       "    .dataframe thead th {\n",
       "        text-align: left;\n",
       "    }\n",
       "\n",
       "    .dataframe tbody tr th {\n",
       "        vertical-align: top;\n",
       "    }\n",
       "</style>\n",
       "<table border=\"1\" class=\"dataframe\">\n",
       "  <thead>\n",
       "    <tr style=\"text-align: right;\">\n",
       "      <th></th>\n",
       "      <th>pmid</th>\n",
       "      <th>food_id</th>\n",
       "      <th>disease_id</th>\n",
       "      <th>association</th>\n",
       "    </tr>\n",
       "  </thead>\n",
       "  <tbody>\n",
       "    <tr>\n",
       "      <th>0</th>\n",
       "      <td>7398283</td>\n",
       "      <td>Plant ID:4045</td>\n",
       "      <td>MESH:D004487</td>\n",
       "      <td>negative</td>\n",
       "    </tr>\n",
       "    <tr>\n",
       "      <th>1</th>\n",
       "      <td>7398283</td>\n",
       "      <td>Plant ID:4045</td>\n",
       "      <td>MESH:D014581</td>\n",
       "      <td>negative</td>\n",
       "    </tr>\n",
       "    <tr>\n",
       "      <th>2</th>\n",
       "      <td>7398283</td>\n",
       "      <td>Plant ID:4043</td>\n",
       "      <td>MESH:D004487</td>\n",
       "      <td>negative</td>\n",
       "    </tr>\n",
       "    <tr>\n",
       "      <th>3</th>\n",
       "      <td>7398283</td>\n",
       "      <td>Plant ID:4043</td>\n",
       "      <td>MESH:D014581</td>\n",
       "      <td>negative</td>\n",
       "    </tr>\n",
       "    <tr>\n",
       "      <th>5</th>\n",
       "      <td>24268374</td>\n",
       "      <td>Plant ID:3483</td>\n",
       "      <td>MESH:D021081</td>\n",
       "      <td>negative</td>\n",
       "    </tr>\n",
       "  </tbody>\n",
       "</table>\n",
       "</div>"
      ],
      "text/plain": [
       "       pmid        food_id    disease_id association\n",
       "0   7398283  Plant ID:4045  MESH:D004487    negative\n",
       "1   7398283  Plant ID:4045  MESH:D014581    negative\n",
       "2   7398283  Plant ID:4043  MESH:D004487    negative\n",
       "3   7398283  Plant ID:4043  MESH:D014581    negative\n",
       "5  24268374  Plant ID:3483  MESH:D021081    negative"
      ]
     },
     "execution_count": 14,
     "metadata": {},
     "output_type": "execute_result"
    }
   ],
   "source": [
    "df = pd.read_csv('../data/version 1/food-disease.tsv', sep='\\t', encoding='utf-8', index_col=0)\n",
    "\n",
    "\n",
    "df = df.where((pd.notnull(df)), None)\n",
    "\n",
    "\n",
    "df['Association'].replace(to_replace='Negative Association', value='negative', inplace=True)\n",
    "df['Association'].replace(to_replace='Positive Association', value='positive', inplace=True)\n",
    "df['Association'].replace(to_replace='No Association', value='no', inplace=True)\n",
    "df['Association'].replace(to_replace='Plant-Disease Association', value='plant disease', inplace=True)\n",
    "\n",
    "df = df[df.Association != 'no']\n",
    "df = df[df.Association != 'plant disease']\n",
    "\n",
    "df.rename(columns={\n",
    "    'PMID': 'pmid',\n",
    "    'Food ID': 'food_id',\n",
    "    'Disease ID': 'disease_id',\n",
    "    'Association': 'association',\n",
    "},inplace=True)\n",
    "\n",
    "\n",
    "data_list= list(df.T.to_dict().values())\n",
    "\n",
    "\n",
    "df.head()"
   ]
  },
  {
   "cell_type": "code",
   "execution_count": 15,
   "metadata": {
    "collapsed": true
   },
   "outputs": [],
   "source": [
    "for item in data_list:\n",
    "    db.session.add(Food_disease(**item))\n",
    "    \n",
    "db.session.commit()"
   ]
  },
  {
   "cell_type": "markdown",
   "metadata": {},
   "source": [
    "# Load Disease Gene"
   ]
  },
  {
   "cell_type": "code",
   "execution_count": 18,
   "metadata": {
    "collapsed": true
   },
   "outputs": [],
   "source": [
    "df = pd.read_csv('../data/version 1/disease-gene.tsv', sep='\\t', encoding='utf-8', index_col=0)\n",
    "\n",
    "df.drop_duplicates(inplace=True)\n",
    "\n",
    "df.rename(columns={\n",
    "    'Gene Symbol': 'gene_id',\n",
    "    'Disease ID': 'disease_id',\n",
    "    'Reference': 'reference',\n",
    "},inplace=True)\n",
    "\n",
    "df.head()\n",
    "\n",
    "data_list= list(df.T.to_dict().values())"
   ]
  },
  {
   "cell_type": "code",
   "execution_count": 22,
   "metadata": {
    "collapsed": true
   },
   "outputs": [],
   "source": [
    "for item in data_list:\n",
    "    db.session.add(Disease_gene(**item))\n",
    "    \n",
    "db.session.commit()"
   ]
  },
  {
   "cell_type": "markdown",
   "metadata": {},
   "source": [
    "# Load Food Gene"
   ]
  },
  {
   "cell_type": "code",
   "execution_count": 3,
   "metadata": {},
   "outputs": [
    {
     "data": {
      "text/html": [
       "<div>\n",
       "<style>\n",
       "    .dataframe thead tr:only-child th {\n",
       "        text-align: right;\n",
       "    }\n",
       "\n",
       "    .dataframe thead th {\n",
       "        text-align: left;\n",
       "    }\n",
       "\n",
       "    .dataframe tbody tr th {\n",
       "        vertical-align: top;\n",
       "    }\n",
       "</style>\n",
       "<table border=\"1\" class=\"dataframe\">\n",
       "  <thead>\n",
       "    <tr style=\"text-align: right;\">\n",
       "      <th></th>\n",
       "      <th>food_id</th>\n",
       "      <th>gene_id</th>\n",
       "      <th>disease_categories</th>\n",
       "    </tr>\n",
       "  </thead>\n",
       "  <tbody>\n",
       "    <tr>\n",
       "      <th>0</th>\n",
       "      <td>AlcoholicBev ID:1</td>\n",
       "      <td>RFH1</td>\n",
       "      <td>Urogenital disease (male)|Congenital abnormali...</td>\n",
       "    </tr>\n",
       "    <tr>\n",
       "      <th>1</th>\n",
       "      <td>AlcoholicBev ID:16</td>\n",
       "      <td>A2M</td>\n",
       "      <td>Mental disorder</td>\n",
       "    </tr>\n",
       "    <tr>\n",
       "      <th>2</th>\n",
       "      <td>AlcoholicBev ID:16</td>\n",
       "      <td>AAAS</td>\n",
       "      <td>Urogenital disease (male)|Cancer</td>\n",
       "    </tr>\n",
       "    <tr>\n",
       "      <th>3</th>\n",
       "      <td>AlcoholicBev ID:16</td>\n",
       "      <td>AANAT</td>\n",
       "      <td>Mental disorder</td>\n",
       "    </tr>\n",
       "    <tr>\n",
       "      <th>4</th>\n",
       "      <td>AlcoholicBev ID:16</td>\n",
       "      <td>AASS</td>\n",
       "      <td>Blood disease</td>\n",
       "    </tr>\n",
       "  </tbody>\n",
       "</table>\n",
       "</div>"
      ],
      "text/plain": [
       "              food_id gene_id  \\\n",
       "0   AlcoholicBev ID:1    RFH1   \n",
       "1  AlcoholicBev ID:16     A2M   \n",
       "2  AlcoholicBev ID:16    AAAS   \n",
       "3  AlcoholicBev ID:16   AANAT   \n",
       "4  AlcoholicBev ID:16    AASS   \n",
       "\n",
       "                                  disease_categories  \n",
       "0  Urogenital disease (male)|Congenital abnormali...  \n",
       "1                                    Mental disorder  \n",
       "2                   Urogenital disease (male)|Cancer  \n",
       "3                                    Mental disorder  \n",
       "4                                      Blood disease  "
      ]
     },
     "execution_count": 3,
     "metadata": {},
     "output_type": "execute_result"
    }
   ],
   "source": [
    "df = pd.read_csv('../data/version 1/food-gene.tsv', sep='\\t', encoding='utf-8')\n",
    "\n",
    "df.rename(columns={\n",
    "    'Food ID': 'food_id',\n",
    "    'Gene ID': 'gene_id',\n",
    "    'Disease-categories': 'disease_categories',\n",
    "},inplace=True)\n",
    "\n",
    "data_list= list(df.T.to_dict().values())\n",
    "\n",
    "df.head()"
   ]
  },
  {
   "cell_type": "code",
   "execution_count": 4,
   "metadata": {
    "scrolled": true
   },
   "outputs": [],
   "source": [
    "for i, item in enumerate(data_list):\n",
    "    if i%10000 != 0:\n",
    "        db.session.add(Food_gene(**item))\n",
    "    else:\n",
    "        db.session.add(Food_gene(**item))\n",
    "        db.session.commit()\n",
    "        \n",
    "db.session.commit()"
   ]
  },
  {
   "cell_type": "code",
   "execution_count": 2,
   "metadata": {
    "collapsed": true
   },
   "outputs": [],
   "source": [
    "# for item in Food_gene.query.all():\n",
    "#     db.session.delete(item)\n",
    "    \n",
    "# db.session.commit()"
   ]
  },
  {
   "cell_type": "code",
   "execution_count": 31,
   "metadata": {
    "collapsed": true
   },
   "outputs": [],
   "source": [
    "# db.session.rollback()"
   ]
  },
  {
   "cell_type": "code",
   "execution_count": null,
   "metadata": {
    "collapsed": true
   },
   "outputs": [],
   "source": []
  }
 ],
 "metadata": {
  "kernelspec": {
   "display_name": "Python 3",
   "language": "python",
   "name": "python3"
  },
  "language_info": {
   "codemirror_mode": {
    "name": "ipython",
    "version": 3
   },
   "file_extension": ".py",
   "mimetype": "text/x-python",
   "name": "python",
   "nbconvert_exporter": "python",
   "pygments_lexer": "ipython3",
   "version": "3.6.4"
  }
 },
 "nbformat": 4,
 "nbformat_minor": 2
}
